{
 "cells": [
  {
   "cell_type": "code",
   "execution_count": 1,
   "id": "4baacbd8",
   "metadata": {},
   "outputs": [
    {
     "data": {
      "text/plain": [
       "'/home/roman/CODE/tachikoma-analysis/DATA2'"
      ]
     },
     "execution_count": 1,
     "metadata": {},
     "output_type": "execute_result"
    }
   ],
   "source": [
    "pwd"
   ]
  },
  {
   "cell_type": "code",
   "execution_count": 2,
   "id": "262c9fdc",
   "metadata": {},
   "outputs": [
    {
     "name": "stdout",
     "output_type": "stream",
     "text": [
      "60G\t/home/roman/mne_data/\r\n"
     ]
    }
   ],
   "source": [
    "!du -sh /home/roman/mne_data/\n"
   ]
  },
  {
   "cell_type": "code",
   "execution_count": null,
   "id": "870b9106",
   "metadata": {},
   "outputs": [],
   "source": []
  },
  {
   "cell_type": "code",
   "execution_count": 3,
   "id": "49285f26",
   "metadata": {},
   "outputs": [],
   "source": [
    "import sys, os\n",
    "from tqdm import tqdm\n",
    "import torch\n",
    "import numpy as np\n",
    "import moabb \n",
    "import pandas as pd\n",
    "from moabb.datasets import (Zhou2016,\n",
    "                            PhysionetMI,\n",
    "                            AlexMI,\n",
    "                            MunichMI,\n",
    "                            BNCI2014001,\n",
    "                            BNCI2014002,\n",
    "                            BNCI2014004,\n",
    "                            BNCI2015001,\n",
    "                            BNCI2015004,\n",
    "                            Cho2017,\n",
    "                            Weibo2014, \n",
    "                            Shin2017A,\n",
    "                            Ofner2017,\n",
    "                            Schirrmeister2017)\n",
    "from pprint import pprint\n",
    "import matplotlib.pyplot as plt\n",
    "import scipy.io\n",
    "from termcolor import cprint\n",
    "\n",
    "\n",
    "from sklearn.pipeline import make_pipeline\n",
    "\n",
    "import mne\n",
    "from mne.decoding import CSP\n",
    "\n",
    "from sklearn.discriminant_analysis import LinearDiscriminantAnalysis as LDA\n",
    "from sklearn.pipeline import make_pipeline\n",
    "from sklearn.svm import SVC\n",
    "\n",
    "from moabb.paradigms import LeftRightImagery, MotorImagery\n",
    "\n",
    "class HiddenPrints:\n",
    "    def __enter__(self):\n",
    "        self._original_stdout = sys.stdout\n",
    "        sys.stdout = open(os.devnull, 'w')\n",
    "\n",
    "    def __exit__(self, exc_type, exc_val, exc_tb):\n",
    "        sys.stdout.close()\n",
    "        sys.stdout = self._original_stdout"
   ]
  },
  {
   "cell_type": "code",
   "execution_count": null,
   "id": "f1e4e859",
   "metadata": {},
   "outputs": [
    {
     "name": "stdout",
     "output_type": "stream",
     "text": [
      "N_subj: 15\n"
     ]
    },
    {
     "name": "stderr",
     "output_type": "stream",
     "text": [
      "\r",
      "  0%|                                                                                                                                  | 0/15 [00:00<?, ?it/s]"
     ]
    },
    {
     "name": "stdout",
     "output_type": "stream",
     "text": [
      "\u001b[31m['right_elbow_flexion', 'right_elbow_extension', 'right_supination', 'right_pronation', 'right_hand_close', 'right_hand_open', 'rest']\u001b[0m\n"
     ]
    },
    {
     "name": "stderr",
     "output_type": "stream",
     "text": [
      "/home/roman/miniconda3/envs/tachikoma/lib/python3.9/site-packages/mne/io/edf/edf.py:1123: DeprecationWarning: The binary mode of fromstring is deprecated, as it behaves surprisingly on unicode inputs. Use frombuffer instead\n",
      "  etmode = np.fromstring(etmode, UINT8).tolist()[0]\n",
      "/home/roman/miniconda3/envs/tachikoma/lib/python3.9/site-packages/mne/io/edf/edf.py:1123: DeprecationWarning: The binary mode of fromstring is deprecated, as it behaves surprisingly on unicode inputs. Use frombuffer instead\n",
      "  etmode = np.fromstring(etmode, UINT8).tolist()[0]\n",
      "/home/roman/miniconda3/envs/tachikoma/lib/python3.9/site-packages/mne/io/edf/edf.py:1123: DeprecationWarning: The binary mode of fromstring is deprecated, as it behaves surprisingly on unicode inputs. Use frombuffer instead\n",
      "  etmode = np.fromstring(etmode, UINT8).tolist()[0]\n",
      "/home/roman/miniconda3/envs/tachikoma/lib/python3.9/site-packages/mne/io/edf/edf.py:1123: DeprecationWarning: The binary mode of fromstring is deprecated, as it behaves surprisingly on unicode inputs. Use frombuffer instead\n",
      "  etmode = np.fromstring(etmode, UINT8).tolist()[0]\n",
      "/home/roman/miniconda3/envs/tachikoma/lib/python3.9/site-packages/mne/io/edf/edf.py:1123: DeprecationWarning: The binary mode of fromstring is deprecated, as it behaves surprisingly on unicode inputs. Use frombuffer instead\n",
      "  etmode = np.fromstring(etmode, UINT8).tolist()[0]\n",
      "/home/roman/miniconda3/envs/tachikoma/lib/python3.9/site-packages/mne/io/edf/edf.py:1123: DeprecationWarning: The binary mode of fromstring is deprecated, as it behaves surprisingly on unicode inputs. Use frombuffer instead\n",
      "  etmode = np.fromstring(etmode, UINT8).tolist()[0]\n",
      "/home/roman/miniconda3/envs/tachikoma/lib/python3.9/site-packages/mne/io/edf/edf.py:1123: DeprecationWarning: The binary mode of fromstring is deprecated, as it behaves surprisingly on unicode inputs. Use frombuffer instead\n",
      "  etmode = np.fromstring(etmode, UINT8).tolist()[0]\n",
      "/home/roman/miniconda3/envs/tachikoma/lib/python3.9/site-packages/mne/io/edf/edf.py:1123: DeprecationWarning: The binary mode of fromstring is deprecated, as it behaves surprisingly on unicode inputs. Use frombuffer instead\n",
      "  etmode = np.fromstring(etmode, UINT8).tolist()[0]\n",
      "/home/roman/miniconda3/envs/tachikoma/lib/python3.9/site-packages/mne/io/edf/edf.py:1123: DeprecationWarning: The binary mode of fromstring is deprecated, as it behaves surprisingly on unicode inputs. Use frombuffer instead\n",
      "  etmode = np.fromstring(etmode, UINT8).tolist()[0]\n",
      "/home/roman/miniconda3/envs/tachikoma/lib/python3.9/site-packages/mne/io/edf/edf.py:1123: DeprecationWarning: The binary mode of fromstring is deprecated, as it behaves surprisingly on unicode inputs. Use frombuffer instead\n",
      "  etmode = np.fromstring(etmode, UINT8).tolist()[0]\n"
     ]
    },
    {
     "name": "stdout",
     "output_type": "stream",
     "text": [
      "[ 0  2  4 29 54 56 58]\n"
     ]
    },
    {
     "name": "stderr",
     "output_type": "stream",
     "text": [
      "/home/roman/miniconda3/envs/tachikoma/lib/python3.9/site-packages/mne/io/edf/edf.py:1123: DeprecationWarning: The binary mode of fromstring is deprecated, as it behaves surprisingly on unicode inputs. Use frombuffer instead\n",
      "  etmode = np.fromstring(etmode, UINT8).tolist()[0]\n",
      "/home/roman/miniconda3/envs/tachikoma/lib/python3.9/site-packages/mne/io/edf/edf.py:1123: DeprecationWarning: The binary mode of fromstring is deprecated, as it behaves surprisingly on unicode inputs. Use frombuffer instead\n",
      "  etmode = np.fromstring(etmode, UINT8).tolist()[0]\n",
      "/home/roman/miniconda3/envs/tachikoma/lib/python3.9/site-packages/mne/io/edf/edf.py:1123: DeprecationWarning: The binary mode of fromstring is deprecated, as it behaves surprisingly on unicode inputs. Use frombuffer instead\n",
      "  etmode = np.fromstring(etmode, UINT8).tolist()[0]\n",
      "/home/roman/miniconda3/envs/tachikoma/lib/python3.9/site-packages/mne/io/edf/edf.py:1123: DeprecationWarning: The binary mode of fromstring is deprecated, as it behaves surprisingly on unicode inputs. Use frombuffer instead\n",
      "  etmode = np.fromstring(etmode, UINT8).tolist()[0]\n",
      "/home/roman/miniconda3/envs/tachikoma/lib/python3.9/site-packages/mne/io/edf/edf.py:1123: DeprecationWarning: The binary mode of fromstring is deprecated, as it behaves surprisingly on unicode inputs. Use frombuffer instead\n",
      "  etmode = np.fromstring(etmode, UINT8).tolist()[0]\n",
      "/home/roman/miniconda3/envs/tachikoma/lib/python3.9/site-packages/mne/io/edf/edf.py:1123: DeprecationWarning: The binary mode of fromstring is deprecated, as it behaves surprisingly on unicode inputs. Use frombuffer instead\n",
      "  etmode = np.fromstring(etmode, UINT8).tolist()[0]\n",
      "/home/roman/miniconda3/envs/tachikoma/lib/python3.9/site-packages/mne/io/edf/edf.py:1123: DeprecationWarning: The binary mode of fromstring is deprecated, as it behaves surprisingly on unicode inputs. Use frombuffer instead\n",
      "  etmode = np.fromstring(etmode, UINT8).tolist()[0]\n",
      "/home/roman/miniconda3/envs/tachikoma/lib/python3.9/site-packages/mne/io/edf/edf.py:1123: DeprecationWarning: The binary mode of fromstring is deprecated, as it behaves surprisingly on unicode inputs. Use frombuffer instead\n",
      "  etmode = np.fromstring(etmode, UINT8).tolist()[0]\n",
      "/home/roman/miniconda3/envs/tachikoma/lib/python3.9/site-packages/mne/io/edf/edf.py:1123: DeprecationWarning: The binary mode of fromstring is deprecated, as it behaves surprisingly on unicode inputs. Use frombuffer instead\n",
      "  etmode = np.fromstring(etmode, UINT8).tolist()[0]\n",
      "/home/roman/miniconda3/envs/tachikoma/lib/python3.9/site-packages/mne/io/edf/edf.py:1123: DeprecationWarning: The binary mode of fromstring is deprecated, as it behaves surprisingly on unicode inputs. Use frombuffer instead\n",
      "  etmode = np.fromstring(etmode, UINT8).tolist()[0]\n",
      "  7%|████████▏                                                                                                                 | 1/15 [01:30<21:03, 90.24s/it]"
     ]
    },
    {
     "name": "stdout",
     "output_type": "stream",
     "text": [
      "\u001b[34m(240, 7, 180), ['rest' 'right_elbow_extension' 'right_elbow_flexion' 'right_hand_close'\n",
      " 'right_hand_open' 'right_pronation' 'right_supination']\u001b[0m\n"
     ]
    }
   ],
   "source": [
    "ds = Ofner2017()\n",
    "print(f'N_subj: {len(ds.subject_list)}')\n",
    "\n",
    "\n",
    "ChOI = ['F3', 'F4', 'Fz', 'Cz', 'P3', 'P4', 'Pz']\n",
    "# eventsOI  = ['left_hand', 'right_hand']\n",
    "eventsOI = ['right_supination', 'right_pronation', 'right_hand_close', 'right_hand_open']\n",
    "\n",
    "subject_list = ds.subject_list\n",
    "\n",
    "A = []\n",
    "MM, XX = [], []\n",
    "\n",
    "for sid in tqdm(subject_list):\n",
    "    with HiddenPrints():\n",
    "        ds.download(subject_list=subject_list)\n",
    "\n",
    "    events = list(ds.event_id.keys())\n",
    "    cprint(events, 'red')\n",
    "    \n",
    "\n",
    "    n_classes = len(events)\n",
    "    paradigm = MotorImagery(n_classes=n_classes, \n",
    "                            events=events, \n",
    "                            tmin=0,\n",
    "                            tmax=None, #  – End time (in second) of the epoch, relative to the begining of the dataset specific task interval. tmax = 5 would mean the epoch will end 5 second after the begining of the task as defined in the dataset. If None, use the dataset value.\n",
    "                            baseline=(0, 0.5),\n",
    "                            channels=None,\n",
    "                            resample=60, \n",
    "                            fmin=0.05,\n",
    "                            fmax=30) # <<<<<<<<<<\n",
    "\n",
    "    # get data for all the subjects, sessions and runs in the dataset\n",
    "\n",
    "    dat = ds.get_data([sid])\n",
    "    for k in dat[sid].keys():\n",
    "        for kk in dat[sid][k]:\n",
    "            ch_names = dat[sid][k][kk].ch_names\n",
    "            chIDs = np.array([i for i, n in enumerate(ch_names) if n in ChOI])\n",
    "            A.append(chIDs)\n",
    "    print(chIDs)\n",
    "\n",
    "    X__, labels_, meta_ = paradigm.get_data(dataset=ds, subjects=[sid])\n",
    "    meta_['label'] = labels_\n",
    "    \n",
    "    trialsOI = np.where(meta_.label.isin(eventsOI))[0]\n",
    "    meta = meta_.iloc[trialsOI]#.reset_index(drop=True)\n",
    "    X_ = X__[trialsOI, :, :]\n",
    "    X = X_[:, chIDs, :]\n",
    "    XX.append(X)\n",
    "    MM.append(meta.to_dict(orient='records'))\n",
    "\n",
    "    cprint(f'{X.shape}, {np.unique(labels_)}', color='blue')\n",
    "    \n",
    "MM_ = []\n",
    "for i in MM:\n",
    "    for j in i:\n",
    "        MM_.append(j)\n",
    "meta = pd.DataFrame(MM_)\n",
    "samples = np.concatenate(XX, axis=0)\n"
   ]
  },
  {
   "cell_type": "code",
   "execution_count": null,
   "id": "3e303be9",
   "metadata": {},
   "outputs": [],
   "source": []
  },
  {
   "cell_type": "code",
   "execution_count": null,
   "id": "cb353d3e",
   "metadata": {},
   "outputs": [],
   "source": [
    "labelsToIDs = {'right_pronation': 0, 'right_hand_close':0, 'right_hand_open':0, 'right_supination':0}\n",
    "\n",
    "def save_to_torch(samples, meta, ds):\n",
    "    torch.save({'samples': torch.from_numpy(samples).float(),\n",
    "                'labels': torch.tensor(meta.label.map(labelsToIDs),  dtype=torch.int64),\n",
    "                'meta': meta,\n",
    "                'ChOI': ChOI,\n",
    "                'eventsOI': eventsOI,\n",
    "                'Xshape': X.shape},\n",
    "                f\"BNCI{ds.code.replace(' ', '')}.pt\")\n",
    "\n",
    "save_to_torch(samples, meta, ds)"
   ]
  },
  {
   "cell_type": "code",
   "execution_count": null,
   "id": "ea9f35be",
   "metadata": {},
   "outputs": [],
   "source": []
  },
  {
   "cell_type": "code",
   "execution_count": null,
   "id": "cd7a1e28",
   "metadata": {},
   "outputs": [],
   "source": [
    "rights = np.where(meta.label.map(labelsToIDs) == 0)[0]\n",
    "lefts = np.where(meta.label.map(labelsToIDs) == 1)[0]\n",
    "\n",
    "\n",
    "fix, ax = plt.subplots(1,7, figsize=(18,10), sharey=True)\n",
    "for i in range(7):\n",
    "    m = samples[rights,i,:].mean(0).squeeze()\n",
    "    s = samples[rights,i,:].std(0).squeeze()\n",
    "    ax[i].plot(m, lw=3, label='right_hand'if i==6 else None)\n",
    "    ax[i].plot(m+s, color='grey', lw=3)\n",
    "    ax[i].plot(m-s, color='grey', lw=3)\n",
    "    \n",
    "    m = samples[lefts,i,:].mean(0).squeeze()\n",
    "    s = samples[lefts,i,:].std(0).squeeze()\n",
    "    ax[i].plot(m, lw=1, label='left_hand'if i==6 else None)\n",
    "    ax[i].plot(m+s, color='grey', lw=1)\n",
    "    ax[i].plot(m-s, color='grey', lw=1)\n",
    "    ax[i].spines.top.set_visible(False)\n",
    "    ax[i].spines.right.set_visible(False)\n",
    "\n",
    "    \n",
    "    \n",
    "    ax[i].set_title(['F3', 'F4', 'Fz', 'Cz', 'P3', 'P4', 'Pz'][i])\n",
    "\n",
    "plt.legend()"
   ]
  },
  {
   "cell_type": "code",
   "execution_count": null,
   "id": "e3fc3ffc",
   "metadata": {},
   "outputs": [],
   "source": []
  },
  {
   "cell_type": "code",
   "execution_count": null,
   "id": "8fbec185",
   "metadata": {},
   "outputs": [],
   "source": []
  },
  {
   "cell_type": "code",
   "execution_count": null,
   "id": "45dca703",
   "metadata": {},
   "outputs": [],
   "source": []
  },
  {
   "cell_type": "code",
   "execution_count": 15,
   "id": "88d3b480",
   "metadata": {},
   "outputs": [],
   "source": [
    "r = torch.load(f\"BNCI{ds.code.replace(' ', '')}.pt\") "
   ]
  },
  {
   "cell_type": "code",
   "execution_count": 19,
   "id": "7b8170c6",
   "metadata": {},
   "outputs": [
    {
     "data": {
      "text/html": [
       "<div>\n",
       "<style scoped>\n",
       "    .dataframe tbody tr th:only-of-type {\n",
       "        vertical-align: middle;\n",
       "    }\n",
       "\n",
       "    .dataframe tbody tr th {\n",
       "        vertical-align: top;\n",
       "    }\n",
       "\n",
       "    .dataframe thead th {\n",
       "        text-align: right;\n",
       "    }\n",
       "</style>\n",
       "<table border=\"1\" class=\"dataframe\">\n",
       "  <thead>\n",
       "    <tr style=\"text-align: right;\">\n",
       "      <th></th>\n",
       "      <th>subject</th>\n",
       "      <th>session</th>\n",
       "      <th>run</th>\n",
       "      <th>label</th>\n",
       "    </tr>\n",
       "  </thead>\n",
       "  <tbody>\n",
       "    <tr>\n",
       "      <th>0</th>\n",
       "      <td>1</td>\n",
       "      <td>imagination</td>\n",
       "      <td>run_0</td>\n",
       "      <td>right_pronation</td>\n",
       "    </tr>\n",
       "    <tr>\n",
       "      <th>1</th>\n",
       "      <td>1</td>\n",
       "      <td>imagination</td>\n",
       "      <td>run_0</td>\n",
       "      <td>right_hand_close</td>\n",
       "    </tr>\n",
       "    <tr>\n",
       "      <th>2</th>\n",
       "      <td>1</td>\n",
       "      <td>imagination</td>\n",
       "      <td>run_0</td>\n",
       "      <td>right_hand_open</td>\n",
       "    </tr>\n",
       "    <tr>\n",
       "      <th>3</th>\n",
       "      <td>1</td>\n",
       "      <td>imagination</td>\n",
       "      <td>run_0</td>\n",
       "      <td>right_supination</td>\n",
       "    </tr>\n",
       "    <tr>\n",
       "      <th>4</th>\n",
       "      <td>1</td>\n",
       "      <td>imagination</td>\n",
       "      <td>run_0</td>\n",
       "      <td>right_hand_open</td>\n",
       "    </tr>\n",
       "    <tr>\n",
       "      <th>...</th>\n",
       "      <td>...</td>\n",
       "      <td>...</td>\n",
       "      <td>...</td>\n",
       "      <td>...</td>\n",
       "    </tr>\n",
       "    <tr>\n",
       "      <th>3355</th>\n",
       "      <td>14</td>\n",
       "      <td>imagination</td>\n",
       "      <td>run_9</td>\n",
       "      <td>right_hand_open</td>\n",
       "    </tr>\n",
       "    <tr>\n",
       "      <th>3356</th>\n",
       "      <td>14</td>\n",
       "      <td>imagination</td>\n",
       "      <td>run_9</td>\n",
       "      <td>right_supination</td>\n",
       "    </tr>\n",
       "    <tr>\n",
       "      <th>3357</th>\n",
       "      <td>14</td>\n",
       "      <td>imagination</td>\n",
       "      <td>run_9</td>\n",
       "      <td>right_hand_close</td>\n",
       "    </tr>\n",
       "    <tr>\n",
       "      <th>3358</th>\n",
       "      <td>14</td>\n",
       "      <td>imagination</td>\n",
       "      <td>run_9</td>\n",
       "      <td>right_hand_open</td>\n",
       "    </tr>\n",
       "    <tr>\n",
       "      <th>3359</th>\n",
       "      <td>14</td>\n",
       "      <td>imagination</td>\n",
       "      <td>run_9</td>\n",
       "      <td>right_pronation</td>\n",
       "    </tr>\n",
       "  </tbody>\n",
       "</table>\n",
       "<p>3360 rows × 4 columns</p>\n",
       "</div>"
      ],
      "text/plain": [
       "      subject      session    run             label\n",
       "0           1  imagination  run_0   right_pronation\n",
       "1           1  imagination  run_0  right_hand_close\n",
       "2           1  imagination  run_0   right_hand_open\n",
       "3           1  imagination  run_0  right_supination\n",
       "4           1  imagination  run_0   right_hand_open\n",
       "...       ...          ...    ...               ...\n",
       "3355       14  imagination  run_9   right_hand_open\n",
       "3356       14  imagination  run_9  right_supination\n",
       "3357       14  imagination  run_9  right_hand_close\n",
       "3358       14  imagination  run_9   right_hand_open\n",
       "3359       14  imagination  run_9   right_pronation\n",
       "\n",
       "[3360 rows x 4 columns]"
      ]
     },
     "execution_count": 19,
     "metadata": {},
     "output_type": "execute_result"
    }
   ],
   "source": [
    "r['meta']"
   ]
  },
  {
   "cell_type": "code",
   "execution_count": null,
   "id": "6dee6c3f",
   "metadata": {},
   "outputs": [],
   "source": []
  }
 ],
 "metadata": {
  "kernelspec": {
   "display_name": "Python 3 (ipykernel)",
   "language": "python",
   "name": "python3"
  },
  "language_info": {
   "codemirror_mode": {
    "name": "ipython",
    "version": 3
   },
   "file_extension": ".py",
   "mimetype": "text/x-python",
   "name": "python",
   "nbconvert_exporter": "python",
   "pygments_lexer": "ipython3",
   "version": "3.9.12"
  }
 },
 "nbformat": 4,
 "nbformat_minor": 5
}
