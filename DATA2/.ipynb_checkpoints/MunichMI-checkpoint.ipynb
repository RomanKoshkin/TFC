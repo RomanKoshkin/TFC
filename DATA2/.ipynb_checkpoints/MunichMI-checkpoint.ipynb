{
 "cells": [
  {
   "cell_type": "markdown",
   "id": "c2514342",
   "metadata": {},
   "source": [
    "# MunichMI\n",
    "http://moabb.neurotechx.com/docs/generated/moabb.datasets.MunichMI.html\n",
    "\n",
    "- trials - 7 s\n",
    "- MI start at 3 s"
   ]
  },
  {
   "cell_type": "code",
   "execution_count": 8,
   "id": "4baacbd8",
   "metadata": {},
   "outputs": [
    {
     "data": {
      "text/plain": [
       "'/home/roman/CODE/tachikoma-analysis/DATA2'"
      ]
     },
     "execution_count": 8,
     "metadata": {},
     "output_type": "execute_result"
    }
   ],
   "source": [
    "pwd"
   ]
  },
  {
   "cell_type": "code",
   "execution_count": 9,
   "id": "383ff225",
   "metadata": {},
   "outputs": [
    {
     "name": "stdout",
     "output_type": "stream",
     "text": [
      "60G\t/home/roman/mne_data/\r\n"
     ]
    }
   ],
   "source": [
    "!du -sh /home/roman/mne_data/\n"
   ]
  },
  {
   "cell_type": "code",
   "execution_count": null,
   "id": "b0e1c130",
   "metadata": {},
   "outputs": [],
   "source": []
  },
  {
   "cell_type": "code",
   "execution_count": 10,
   "id": "49285f26",
   "metadata": {},
   "outputs": [],
   "source": [
    "import sys, os, torch\n",
    "import numpy as np\n",
    "import moabb \n",
    "import pandas as pd\n",
    "from tqdm import tqdm\n",
    "from moabb.datasets import (Zhou2016,\n",
    "                            PhysionetMI,\n",
    "                            AlexMI,\n",
    "                            MunichMI,\n",
    "                            BNCI2014001,\n",
    "                            BNCI2014002,\n",
    "                            BNCI2014004,\n",
    "                            BNCI2015001,\n",
    "                            BNCI2015004,\n",
    "                            Cho2017,\n",
    "                            Weibo2014, \n",
    "                            Shin2017A,\n",
    "                            Ofner2017,\n",
    "                            Schirrmeister2017)\n",
    "from pprint import pprint\n",
    "import matplotlib.pyplot as plt\n",
    "import scipy.io\n",
    "from termcolor import cprint\n",
    "\n",
    "\n",
    "from sklearn.pipeline import make_pipeline\n",
    "\n",
    "import mne\n",
    "from mne.decoding import CSP\n",
    "\n",
    "from sklearn.discriminant_analysis import LinearDiscriminantAnalysis as LDA\n",
    "from sklearn.pipeline import make_pipeline\n",
    "from sklearn.svm import SVC\n",
    "\n",
    "from moabb.paradigms import LeftRightImagery, MotorImagery\n",
    "\n",
    "\n",
    "class HiddenPrints:\n",
    "    def __enter__(self):\n",
    "        self._original_stdout = sys.stdout\n",
    "        sys.stdout = open(os.devnull, 'w')\n",
    "\n",
    "    def __exit__(self, exc_type, exc_val, exc_tb):\n",
    "        sys.stdout.close()\n",
    "        sys.stdout = self._original_stdout\n",
    "        \n",
    "# For Arial\n",
    "import matplotlib\n",
    "matplotlib.rcParams['font.family'] = \"sans-serif\"\n",
    "matplotlib.rcParams['font.sans-serif'] = \"Arial\"\n",
    "matplotlib.rcParams[\"text.usetex\"] = False\n",
    "\n",
    "# for latex:\n",
    "# matplotlib.rcParams['font.family'] = \"DejaVu Sans\"\n",
    "# matplotlib.rcParams['font.serif'] = \"Computer Modern\"\n",
    "# matplotlib.rcParams[\"text.usetex\"] = True\n",
    "\n",
    "matplotlib.rcParams[\"lines.linewidth\"] = 3\n",
    "matplotlib.rcParams[\"xtick.direction\"] = \"out\"\n",
    "matplotlib.rcParams[\"ytick.direction\"] = \"out\"\n",
    "matplotlib.rcParams[\"axes.labelsize\"] = 22\n",
    "matplotlib.rcParams[\"xtick.labelsize\"] = 22\n",
    "matplotlib.rcParams[\"ytick.labelsize\"] = 22\n",
    "matplotlib.rcParams[\"font.size\"] = 22\n",
    "matplotlib.rcParams[\"legend.fontsize\"] = 22\n",
    "matplotlib.rcParams[\"axes.titlesize\"] = 22\n",
    "matplotlib.rcParams[\"animation.html\"] = \"jshtml\"\n",
    "matplotlib.rcParams[\"figure.autolayout\"] = True"
   ]
  },
  {
   "cell_type": "code",
   "execution_count": null,
   "id": "13a628c3",
   "metadata": {},
   "outputs": [],
   "source": []
  },
  {
   "cell_type": "code",
   "execution_count": 11,
   "id": "845b80ea",
   "metadata": {},
   "outputs": [
    {
     "name": "stdout",
     "output_type": "stream",
     "text": [
      "\u001b[1m\u001b[34mWarning: tmin = 3\u001b[0m\n"
     ]
    }
   ],
   "source": [
    "tmin = 3\n",
    "cprint(f'Warning: tmin = {tmin}', color='blue', attrs=['bold'])"
   ]
  },
  {
   "cell_type": "code",
   "execution_count": null,
   "id": "24b06474",
   "metadata": {},
   "outputs": [],
   "source": []
  },
  {
   "cell_type": "code",
   "execution_count": 12,
   "id": "f6a1bd8a",
   "metadata": {},
   "outputs": [
    {
     "name": "stdout",
     "output_type": "stream",
     "text": [
      "ds_code: Grosse-Wentrup 2009\n",
      "\u001b[32mN_subj: 10\u001b[0m\n"
     ]
    },
    {
     "name": "stderr",
     "output_type": "stream",
     "text": [
      "\r",
      "  0%|                                                                                                                                  | 0/10 [00:00<?, ?it/s]"
     ]
    },
    {
     "name": "stdout",
     "output_type": "stream",
     "text": [
      "\u001b[31m['right_hand', 'left_hand']\u001b[0m\n"
     ]
    },
    {
     "name": "stderr",
     "output_type": "stream",
     "text": [
      "/home/roman/miniconda3/envs/tachikoma/lib/python3.9/site-packages/pymatreader/utils.py:224: UserWarning: pymatreader cannot import Matlab string variables. Please convert these variables to char arrays in Matlab.\n",
      "  warn('pymatreader cannot import Matlab string variables. '\n"
     ]
    },
    {
     "name": "stdout",
     "output_type": "stream",
     "text": [
      "\u001b[31m['1', '2', '3', '4', '5', '6', '7', '8', '9', '10', '11', '12', '13', '14', '15', '16', '17', '18', '19', '20', '21', '22', '23', '24', '25', '26', '27', '28', '29', '30', '31', '32', '33', '34', '35', '36', '37', '38', '39', '40', '41', '42', '43', '44', '45', '46', '47', '48', '49', '50', '51', '52', '53', '54', '55', '56', '57', '58', '59', '60', '61', '62', '63', '64', '65', '66', '67', '68', '69', '70', '71', '72', '73', '74', '75', '76', '77', '78', '79', '80', '81', '82', '83', '84', '85', '86', '87', '88', '89', '90', '91', '92', '93', '94', '95', '96', '97', '98', '99', '100', '101', '102', '103', '104', '105', '106', '107', '108', '109', '110', '111', '112', '113', '114', '115', '116', '117', '118', '119', '120', '121', '122', '123', '124', '125', '126', '127', '128']\u001b[0m\n"
     ]
    },
    {
     "name": "stderr",
     "output_type": "stream",
     "text": [
      "\r",
      " 10%|████████████▏                                                                                                             | 1/10 [00:57<08:39, 57.68s/it]"
     ]
    },
    {
     "name": "stdout",
     "output_type": "stream",
     "text": [
      "\u001b[34m(300, 7, 240), ['left_hand' 'right_hand']\u001b[0m\n",
      "\u001b[31m['right_hand', 'left_hand']\u001b[0m\n"
     ]
    },
    {
     "name": "stderr",
     "output_type": "stream",
     "text": [
      "/home/roman/miniconda3/envs/tachikoma/lib/python3.9/site-packages/pymatreader/utils.py:224: UserWarning: pymatreader cannot import Matlab string variables. Please convert these variables to char arrays in Matlab.\n",
      "  warn('pymatreader cannot import Matlab string variables. '\n"
     ]
    },
    {
     "name": "stdout",
     "output_type": "stream",
     "text": [
      "\u001b[31m['1', '2', '3', '4', '5', '6', '7', '8', '9', '10', '11', '12', '13', '14', '15', '16', '17', '18', '19', '20', '21', '22', '23', '24', '25', '26', '27', '28', '29', '30', '31', '32', '33', '34', '35', '36', '37', '38', '39', '40', '41', '42', '43', '44', '45', '46', '47', '48', '49', '50', '51', '52', '53', '54', '55', '56', '57', '58', '59', '60', '61', '62', '63', '64', '65', '66', '67', '68', '69', '70', '71', '72', '73', '74', '75', '76', '77', '78', '79', '80', '81', '82', '83', '84', '85', '86', '87', '88', '89', '90', '91', '92', '93', '94', '95', '96', '97', '98', '99', '100', '101', '102', '103', '104', '105', '106', '107', '108', '109', '110', '111', '112', '113', '114', '115', '116', '117', '118', '119', '120', '121', '122', '123', '124', '125', '126', '127', '128']\u001b[0m\n"
     ]
    },
    {
     "name": "stderr",
     "output_type": "stream",
     "text": [
      "\r",
      " 20%|████████████████████████▍                                                                                                 | 2/10 [01:53<07:33, 56.68s/it]"
     ]
    },
    {
     "name": "stdout",
     "output_type": "stream",
     "text": [
      "\u001b[34m(300, 7, 240), ['left_hand' 'right_hand']\u001b[0m\n",
      "\u001b[31m['right_hand', 'left_hand']\u001b[0m\n"
     ]
    },
    {
     "name": "stderr",
     "output_type": "stream",
     "text": [
      "/home/roman/miniconda3/envs/tachikoma/lib/python3.9/site-packages/pymatreader/utils.py:224: UserWarning: pymatreader cannot import Matlab string variables. Please convert these variables to char arrays in Matlab.\n",
      "  warn('pymatreader cannot import Matlab string variables. '\n"
     ]
    },
    {
     "name": "stdout",
     "output_type": "stream",
     "text": [
      "\u001b[31m['1', '2', '3', '4', '5', '6', '7', '8', '9', '10', '11', '12', '13', '14', '15', '16', '17', '18', '19', '20', '21', '22', '23', '24', '25', '26', '27', '28', '29', '30', '31', '32', '33', '34', '35', '36', '37', '38', '39', '40', '41', '42', '43', '44', '45', '46', '47', '48', '49', '50', '51', '52', '53', '54', '55', '56', '57', '58', '59', '60', '61', '62', '63', '64', '65', '66', '67', '68', '69', '70', '71', '72', '73', '74', '75', '76', '77', '78', '79', '80', '81', '82', '83', '84', '85', '86', '87', '88', '89', '90', '91', '92', '93', '94', '95', '96', '97', '98', '99', '100', '101', '102', '103', '104', '105', '106', '107', '108', '109', '110', '111', '112', '113', '114', '115', '116', '117', '118', '119', '120', '121', '122', '123', '124', '125', '126', '127', '128']\u001b[0m\n"
     ]
    },
    {
     "name": "stderr",
     "output_type": "stream",
     "text": [
      "\r",
      " 30%|████████████████████████████████████▌                                                                                     | 3/10 [02:50<06:36, 56.70s/it]"
     ]
    },
    {
     "name": "stdout",
     "output_type": "stream",
     "text": [
      "\u001b[34m(300, 7, 240), ['left_hand' 'right_hand']\u001b[0m\n",
      "\u001b[31m['right_hand', 'left_hand']\u001b[0m\n"
     ]
    },
    {
     "name": "stderr",
     "output_type": "stream",
     "text": [
      "/home/roman/miniconda3/envs/tachikoma/lib/python3.9/site-packages/pymatreader/utils.py:224: UserWarning: pymatreader cannot import Matlab string variables. Please convert these variables to char arrays in Matlab.\n",
      "  warn('pymatreader cannot import Matlab string variables. '\n"
     ]
    },
    {
     "name": "stdout",
     "output_type": "stream",
     "text": [
      "\u001b[31m['1', '2', '3', '4', '5', '6', '7', '8', '9', '10', '11', '12', '13', '14', '15', '16', '17', '18', '19', '20', '21', '22', '23', '24', '25', '26', '27', '28', '29', '30', '31', '32', '33', '34', '35', '36', '37', '38', '39', '40', '41', '42', '43', '44', '45', '46', '47', '48', '49', '50', '51', '52', '53', '54', '55', '56', '57', '58', '59', '60', '61', '62', '63', '64', '65', '66', '67', '68', '69', '70', '71', '72', '73', '74', '75', '76', '77', '78', '79', '80', '81', '82', '83', '84', '85', '86', '87', '88', '89', '90', '91', '92', '93', '94', '95', '96', '97', '98', '99', '100', '101', '102', '103', '104', '105', '106', '107', '108', '109', '110', '111', '112', '113', '114', '115', '116', '117', '118', '119', '120', '121', '122', '123', '124', '125', '126', '127', '128']\u001b[0m\n"
     ]
    },
    {
     "name": "stderr",
     "output_type": "stream",
     "text": [
      "\r",
      " 40%|████████████████████████████████████████████████▊                                                                         | 4/10 [03:46<05:38, 56.50s/it]"
     ]
    },
    {
     "name": "stdout",
     "output_type": "stream",
     "text": [
      "\u001b[34m(300, 7, 240), ['left_hand' 'right_hand']\u001b[0m\n",
      "\u001b[31m['right_hand', 'left_hand']\u001b[0m\n"
     ]
    },
    {
     "name": "stderr",
     "output_type": "stream",
     "text": [
      "/home/roman/miniconda3/envs/tachikoma/lib/python3.9/site-packages/pymatreader/utils.py:224: UserWarning: pymatreader cannot import Matlab string variables. Please convert these variables to char arrays in Matlab.\n",
      "  warn('pymatreader cannot import Matlab string variables. '\n"
     ]
    },
    {
     "name": "stdout",
     "output_type": "stream",
     "text": [
      "\u001b[31m['1', '2', '3', '4', '5', '6', '7', '8', '9', '10', '11', '12', '13', '14', '15', '16', '17', '18', '19', '20', '21', '22', '23', '24', '25', '26', '27', '28', '29', '30', '31', '32', '33', '34', '35', '36', '37', '38', '39', '40', '41', '42', '43', '44', '45', '46', '47', '48', '49', '50', '51', '52', '53', '54', '55', '56', '57', '58', '59', '60', '61', '62', '63', '64', '65', '66', '67', '68', '69', '70', '71', '72', '73', '74', '75', '76', '77', '78', '79', '80', '81', '82', '83', '84', '85', '86', '87', '88', '89', '90', '91', '92', '93', '94', '95', '96', '97', '98', '99', '100', '101', '102', '103', '104', '105', '106', '107', '108', '109', '110', '111', '112', '113', '114', '115', '116', '117', '118', '119', '120', '121', '122', '123', '124', '125', '126', '127', '128']\u001b[0m\n"
     ]
    },
    {
     "name": "stderr",
     "output_type": "stream",
     "text": [
      "\r",
      " 50%|█████████████████████████████████████████████████████████████                                                             | 5/10 [04:43<04:42, 56.59s/it]"
     ]
    },
    {
     "name": "stdout",
     "output_type": "stream",
     "text": [
      "\u001b[34m(300, 7, 240), ['left_hand' 'right_hand']\u001b[0m\n",
      "\u001b[31m['right_hand', 'left_hand']\u001b[0m\n"
     ]
    },
    {
     "name": "stderr",
     "output_type": "stream",
     "text": [
      "/home/roman/miniconda3/envs/tachikoma/lib/python3.9/site-packages/pymatreader/utils.py:224: UserWarning: pymatreader cannot import Matlab string variables. Please convert these variables to char arrays in Matlab.\n",
      "  warn('pymatreader cannot import Matlab string variables. '\n"
     ]
    },
    {
     "name": "stdout",
     "output_type": "stream",
     "text": [
      "\u001b[31m['1', '2', '3', '4', '5', '6', '7', '8', '9', '10', '11', '12', '13', '14', '15', '16', '17', '18', '19', '20', '21', '22', '23', '24', '25', '26', '27', '28', '29', '30', '31', '32', '33', '34', '35', '36', '37', '38', '39', '40', '41', '42', '43', '44', '45', '46', '47', '48', '49', '50', '51', '52', '53', '54', '55', '56', '57', '58', '59', '60', '61', '62', '63', '64', '65', '66', '67', '68', '69', '70', '71', '72', '73', '74', '75', '76', '77', '78', '79', '80', '81', '82', '83', '84', '85', '86', '87', '88', '89', '90', '91', '92', '93', '94', '95', '96', '97', '98', '99', '100', '101', '102', '103', '104', '105', '106', '107', '108', '109', '110', '111', '112', '113', '114', '115', '116', '117', '118', '119', '120', '121', '122', '123', '124', '125', '126', '127', '128']\u001b[0m\n"
     ]
    },
    {
     "name": "stderr",
     "output_type": "stream",
     "text": [
      "\r",
      " 60%|█████████████████████████████████████████████████████████████████████████▏                                                | 6/10 [05:39<03:46, 56.61s/it]"
     ]
    },
    {
     "name": "stdout",
     "output_type": "stream",
     "text": [
      "\u001b[34m(300, 7, 240), ['left_hand' 'right_hand']\u001b[0m\n",
      "\u001b[31m['right_hand', 'left_hand']\u001b[0m\n"
     ]
    },
    {
     "name": "stderr",
     "output_type": "stream",
     "text": [
      "/home/roman/miniconda3/envs/tachikoma/lib/python3.9/site-packages/pymatreader/utils.py:224: UserWarning: pymatreader cannot import Matlab string variables. Please convert these variables to char arrays in Matlab.\n",
      "  warn('pymatreader cannot import Matlab string variables. '\n"
     ]
    },
    {
     "name": "stdout",
     "output_type": "stream",
     "text": [
      "\u001b[31m['1', '2', '3', '4', '5', '6', '7', '8', '9', '10', '11', '12', '13', '14', '15', '16', '17', '18', '19', '20', '21', '22', '23', '24', '25', '26', '27', '28', '29', '30', '31', '32', '33', '34', '35', '36', '37', '38', '39', '40', '41', '42', '43', '44', '45', '46', '47', '48', '49', '50', '51', '52', '53', '54', '55', '56', '57', '58', '59', '60', '61', '62', '63', '64', '65', '66', '67', '68', '69', '70', '71', '72', '73', '74', '75', '76', '77', '78', '79', '80', '81', '82', '83', '84', '85', '86', '87', '88', '89', '90', '91', '92', '93', '94', '95', '96', '97', '98', '99', '100', '101', '102', '103', '104', '105', '106', '107', '108', '109', '110', '111', '112', '113', '114', '115', '116', '117', '118', '119', '120', '121', '122', '123', '124', '125', '126', '127', '128']\u001b[0m\n"
     ]
    },
    {
     "name": "stderr",
     "output_type": "stream",
     "text": [
      "\r",
      " 70%|█████████████████████████████████████████████████████████████████████████████████████▍                                    | 7/10 [06:36<02:49, 56.65s/it]"
     ]
    },
    {
     "name": "stdout",
     "output_type": "stream",
     "text": [
      "\u001b[34m(300, 7, 240), ['left_hand' 'right_hand']\u001b[0m\n",
      "\u001b[31m['right_hand', 'left_hand']\u001b[0m\n"
     ]
    },
    {
     "name": "stderr",
     "output_type": "stream",
     "text": [
      "/home/roman/miniconda3/envs/tachikoma/lib/python3.9/site-packages/pymatreader/utils.py:224: UserWarning: pymatreader cannot import Matlab string variables. Please convert these variables to char arrays in Matlab.\n",
      "  warn('pymatreader cannot import Matlab string variables. '\n"
     ]
    },
    {
     "name": "stdout",
     "output_type": "stream",
     "text": [
      "\u001b[31m['1', '2', '3', '4', '5', '6', '7', '8', '9', '10', '11', '12', '13', '14', '15', '16', '17', '18', '19', '20', '21', '22', '23', '24', '25', '26', '27', '28', '29', '30', '31', '32', '33', '34', '35', '36', '37', '38', '39', '40', '41', '42', '43', '44', '45', '46', '47', '48', '49', '50', '51', '52', '53', '54', '55', '56', '57', '58', '59', '60', '61', '62', '63', '64', '65', '66', '67', '68', '69', '70', '71', '72', '73', '74', '75', '76', '77', '78', '79', '80', '81', '82', '83', '84', '85', '86', '87', '88', '89', '90', '91', '92', '93', '94', '95', '96', '97', '98', '99', '100', '101', '102', '103', '104', '105', '106', '107', '108', '109', '110', '111', '112', '113', '114', '115', '116', '117', '118', '119', '120', '121', '122', '123', '124', '125', '126', '127', '128']\u001b[0m\n"
     ]
    },
    {
     "name": "stderr",
     "output_type": "stream",
     "text": [
      "\r",
      " 80%|█████████████████████████████████████████████████████████████████████████████████████████████████▌                        | 8/10 [07:33<01:53, 56.66s/it]"
     ]
    },
    {
     "name": "stdout",
     "output_type": "stream",
     "text": [
      "\u001b[34m(300, 7, 240), ['left_hand' 'right_hand']\u001b[0m\n",
      "\u001b[31m['right_hand', 'left_hand']\u001b[0m\n"
     ]
    },
    {
     "name": "stderr",
     "output_type": "stream",
     "text": [
      "/home/roman/miniconda3/envs/tachikoma/lib/python3.9/site-packages/pymatreader/utils.py:224: UserWarning: pymatreader cannot import Matlab string variables. Please convert these variables to char arrays in Matlab.\n",
      "  warn('pymatreader cannot import Matlab string variables. '\n"
     ]
    },
    {
     "name": "stdout",
     "output_type": "stream",
     "text": [
      "\u001b[31m['1', '2', '3', '4', '5', '6', '7', '8', '9', '10', '11', '12', '13', '14', '15', '16', '17', '18', '19', '20', '21', '22', '23', '24', '25', '26', '27', '28', '29', '30', '31', '32', '33', '34', '35', '36', '37', '38', '39', '40', '41', '42', '43', '44', '45', '46', '47', '48', '49', '50', '51', '52', '53', '54', '55', '56', '57', '58', '59', '60', '61', '62', '63', '64', '65', '66', '67', '68', '69', '70', '71', '72', '73', '74', '75', '76', '77', '78', '79', '80', '81', '82', '83', '84', '85', '86', '87', '88', '89', '90', '91', '92', '93', '94', '95', '96', '97', '98', '99', '100', '101', '102', '103', '104', '105', '106', '107', '108', '109', '110', '111', '112', '113', '114', '115', '116', '117', '118', '119', '120', '121', '122', '123', '124', '125', '126', '127', '128']\u001b[0m\n"
     ]
    },
    {
     "name": "stderr",
     "output_type": "stream",
     "text": [
      "\r",
      " 90%|█████████████████████████████████████████████████████████████████████████████████████████████████████████████▊            | 9/10 [08:30<00:56, 56.76s/it]"
     ]
    },
    {
     "name": "stdout",
     "output_type": "stream",
     "text": [
      "\u001b[34m(300, 7, 240), ['left_hand' 'right_hand']\u001b[0m\n",
      "\u001b[31m['right_hand', 'left_hand']\u001b[0m\n"
     ]
    },
    {
     "name": "stderr",
     "output_type": "stream",
     "text": [
      "/home/roman/miniconda3/envs/tachikoma/lib/python3.9/site-packages/pymatreader/utils.py:224: UserWarning: pymatreader cannot import Matlab string variables. Please convert these variables to char arrays in Matlab.\n",
      "  warn('pymatreader cannot import Matlab string variables. '\n"
     ]
    },
    {
     "name": "stdout",
     "output_type": "stream",
     "text": [
      "\u001b[31m['1', '2', '3', '4', '5', '6', '7', '8', '9', '10', '11', '12', '13', '14', '15', '16', '17', '18', '19', '20', '21', '22', '23', '24', '25', '26', '27', '28', '29', '30', '31', '32', '33', '34', '35', '36', '37', '38', '39', '40', '41', '42', '43', '44', '45', '46', '47', '48', '49', '50', '51', '52', '53', '54', '55', '56', '57', '58', '59', '60', '61', '62', '63', '64', '65', '66', '67', '68', '69', '70', '71', '72', '73', '74', '75', '76', '77', '78', '79', '80', '81', '82', '83', '84', '85', '86', '87', '88', '89', '90', '91', '92', '93', '94', '95', '96', '97', '98', '99', '100', '101', '102', '103', '104', '105', '106', '107', '108', '109', '110', '111', '112', '113', '114', '115', '116', '117', '118', '119', '120', '121', '122', '123', '124', '125', '126', '127', '128']\u001b[0m\n"
     ]
    },
    {
     "name": "stderr",
     "output_type": "stream",
     "text": [
      "100%|█████████████████████████████████████████████████████████████████████████████████████████████████████████████████████████| 10/10 [09:27<00:00, 56.78s/it]"
     ]
    },
    {
     "name": "stdout",
     "output_type": "stream",
     "text": [
      "\u001b[34m(300, 7, 240), ['left_hand' 'right_hand']\u001b[0m\n"
     ]
    },
    {
     "name": "stderr",
     "output_type": "stream",
     "text": [
      "\n"
     ]
    }
   ],
   "source": [
    "ds = MunichMI()\n",
    "print(f'ds_code: {ds.code}')\n",
    "cprint(f'N_subj: {len(ds.subject_list)}', color='green')\n",
    "\n",
    "\n",
    "\n",
    "# ChOI = ['F3', 'F4', 'Fz', 'Cz', 'P3', 'P4', 'Pz']\n",
    "ChOI = [str(i) for i in [101, 100, 61, 62, 124, 125, 63]]\n",
    "eventsOI  = ['left_hand', 'right_hand']\n",
    "\n",
    "subject_list = ds.subject_list\n",
    "# subject_list = [1]\n",
    "\n",
    "A = []\n",
    "MM, XX = [], []\n",
    "\n",
    "for sid in tqdm(subject_list):\n",
    "    with HiddenPrints():\n",
    "        ds.download(subject_list=subject_list)\n",
    "\n",
    "    events = list(ds.event_id.keys())\n",
    "    cprint(events, 'red')\n",
    "    \n",
    "\n",
    "    n_classes = len(events)\n",
    "    paradigm = MotorImagery(n_classes=n_classes, \n",
    "                            events=events, \n",
    "                            tmin=tmin,\n",
    "                            tmax=None, #  – End time (in second) of the epoch, relative to the begining of the dataset specific task interval. tmax = 5 would mean the epoch will end 5 second after the begining of the task as defined in the dataset. If None, use the dataset value.\n",
    "                            baseline=(0, 0.5),\n",
    "                            channels=None,\n",
    "                            resample=60, \n",
    "                            fmin=0.05,\n",
    "                            fmax=30) # <<<<<<<<<<\n",
    "\n",
    "    dat = ds.get_data([sid])\n",
    "    for k in dat[sid].keys():\n",
    "        for kk in dat[sid][k]:\n",
    "            ch_names = dat[sid][k][kk].ch_names\n",
    "            chIDs = np.array([i for i, n in enumerate(ch_names) if n in ChOI])\n",
    "            A.append(chIDs)\n",
    "    cprint(ch_names, color='red')\n",
    "\n",
    "    X__, labels_, meta_ = paradigm.get_data(dataset=ds, subjects=[sid])\n",
    "    meta_['label'] = labels_\n",
    "    \n",
    "    trialsOI = np.where(meta_.label.isin(eventsOI))[0]\n",
    "    meta = meta_.iloc[trialsOI]#.reset_index(drop=True)\n",
    "    X_ = X__[trialsOI, :, :]\n",
    "    X = X_[:, chIDs, :]\n",
    "    XX.append(X)\n",
    "    MM.append(meta.to_dict(orient='records'))\n",
    "\n",
    "    cprint(f'{X.shape}, {np.unique(labels_)}', color='blue')\n",
    "    \n",
    "MM_ = []\n",
    "for i in MM:\n",
    "    for j in i:\n",
    "        MM_.append(j)\n",
    "meta = pd.DataFrame(MM_)\n",
    "samples = np.concatenate(XX, axis=0)\n",
    "\n"
   ]
  },
  {
   "cell_type": "code",
   "execution_count": null,
   "id": "d2d01087",
   "metadata": {},
   "outputs": [],
   "source": []
  },
  {
   "cell_type": "code",
   "execution_count": 16,
   "id": "540dd0ef",
   "metadata": {},
   "outputs": [],
   "source": [
    "labelsToIDs = {\"right_hand\": 0, \"left_hand\": 1}\n",
    "\n",
    "def save_to_torch(samples, meta, ds):\n",
    "    torch.save({'samples': torch.from_numpy(samples).float(),\n",
    "                'labels': torch.tensor(meta.label.map(labelsToIDs),  dtype=torch.int64),\n",
    "                'meta': meta,\n",
    "                'ChOI': ['F3', 'F4', 'Fz', 'Cz', 'P3', 'P4', 'Pz'],\n",
    "                'eventsOI': eventsOI,\n",
    "                'Xshape': X.shape},\n",
    "                f\"BNCI{ds.code.replace(' ', '')}.pt\")\n",
    "\n",
    "save_to_torch(samples, meta, ds)"
   ]
  },
  {
   "cell_type": "code",
   "execution_count": 17,
   "id": "baaf51fe",
   "metadata": {},
   "outputs": [
    {
     "data": {
      "text/plain": [
       "(3000, 7, 240)"
      ]
     },
     "execution_count": 17,
     "metadata": {},
     "output_type": "execute_result"
    }
   ],
   "source": [
    "samples.shape"
   ]
  },
  {
   "cell_type": "code",
   "execution_count": null,
   "id": "fc237b4a",
   "metadata": {},
   "outputs": [],
   "source": []
  },
  {
   "cell_type": "code",
   "execution_count": 18,
   "id": "50a83df6",
   "metadata": {},
   "outputs": [
    {
     "data": {
      "text/plain": [
       "<matplotlib.legend.Legend at 0x7f66bd68e3a0>"
      ]
     },
     "execution_count": 18,
     "metadata": {},
     "output_type": "execute_result"
    },
    {
     "data": {
      "image/png": "[encoded data removed]",
      "text/plain": [
       "<Figure size 1296x720 with 7 Axes>"
      ]
     },
     "metadata": {
      "needs_background": "light"
     },
     "output_type": "display_data"
    }
   ],
   "source": [
    "rights = np.where(meta.label.map(labelsToIDs) == 0)[0]\n",
    "lefts = np.where(meta.label.map(labelsToIDs) == 1)[0]\n",
    "\n",
    "\n",
    "fix, ax = plt.subplots(1,7, figsize=(18,10), sharey=True)\n",
    "for i in range(7):\n",
    "    m = samples[rights,i,:].mean(0).squeeze()\n",
    "    s = samples[rights,i,:].std(0).squeeze()\n",
    "    ax[i].plot(m, lw=3, label='right_hand'if i==6 else None)\n",
    "    ax[i].plot(m+s, color='grey', lw=3)\n",
    "    ax[i].plot(m-s, color='grey', lw=3)\n",
    "    \n",
    "    m = samples[lefts,i,:].mean(0).squeeze()\n",
    "    s = samples[lefts,i,:].std(0).squeeze()\n",
    "    ax[i].plot(m, lw=1, label='left_hand'if i==6 else None)\n",
    "    ax[i].plot(m+s, color='grey', lw=1)\n",
    "    ax[i].plot(m-s, color='grey', lw=1)\n",
    "    ax[i].spines.top.set_visible(False)\n",
    "    ax[i].spines.right.set_visible(False)\n",
    "\n",
    "    \n",
    "    \n",
    "    ax[i].set_title(['F3', 'F4', 'Fz', 'Cz', 'P3', 'P4', 'Pz'][i])\n",
    "    ax[i].axvline(300, lw=1)\n",
    "\n",
    "plt.legend()\n"
   ]
  },
  {
   "cell_type": "code",
   "execution_count": null,
   "id": "6437a01f",
   "metadata": {},
   "outputs": [],
   "source": [
    "torch.load"
   ]
  },
  {
   "cell_type": "code",
   "execution_count": null,
   "id": "92436aba",
   "metadata": {},
   "outputs": [],
   "source": []
  }
 ],
 "metadata": {
  "kernelspec": {
   "display_name": "Python 3 (ipykernel)",
   "language": "python",
   "name": "python3"
  },
  "language_info": {
   "codemirror_mode": {
    "name": "ipython",
    "version": 3
   },
   "file_extension": ".py",
   "mimetype": "text/x-python",
   "name": "python",
   "nbconvert_exporter": "python",
   "pygments_lexer": "ipython3",
   "version": "3.9.12"
  }
 },
 "nbformat": 4,
 "nbformat_minor": 5
}
