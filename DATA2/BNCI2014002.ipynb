{
 "cells": [
  {
   "cell_type": "code",
   "execution_count": 1,
   "id": "4baacbd8",
   "metadata": {},
   "outputs": [
    {
     "data": {
      "text/plain": [
       "'/home/roman/CODE/tachikoma-analysis/DATA2'"
      ]
     },
     "execution_count": 1,
     "metadata": {},
     "output_type": "execute_result"
    }
   ],
   "source": [
    "pwd"
   ]
  },
  {
   "cell_type": "code",
   "execution_count": 2,
   "id": "262c9fdc",
   "metadata": {},
   "outputs": [
    {
     "name": "stdout",
     "output_type": "stream",
     "text": [
      "60G\t/home/roman/mne_data\r\n"
     ]
    }
   ],
   "source": [
    "!du -sh /home/roman/mne_data\n"
   ]
  },
  {
   "cell_type": "code",
   "execution_count": null,
   "id": "870b9106",
   "metadata": {},
   "outputs": [],
   "source": []
  },
  {
   "cell_type": "code",
   "execution_count": 3,
   "id": "49285f26",
   "metadata": {},
   "outputs": [],
   "source": [
    "import sys, os, torch\n",
    "from tqdm import tqdm\n",
    "import numpy as np\n",
    "import moabb \n",
    "import pandas as pd\n",
    "from moabb.datasets import (Zhou2016,\n",
    "                            PhysionetMI,\n",
    "                            AlexMI,\n",
    "                            MunichMI,\n",
    "                            BNCI2014001,\n",
    "                            BNCI2014002,\n",
    "                            BNCI2014004,\n",
    "                            BNCI2015001,\n",
    "                            BNCI2015004,\n",
    "                            Cho2017,\n",
    "                            Weibo2014, \n",
    "                            Shin2017A,\n",
    "                            Ofner2017,\n",
    "                            Schirrmeister2017)\n",
    "from pprint import pprint\n",
    "import matplotlib.pyplot as plt\n",
    "import scipy.io\n",
    "from termcolor import cprint\n",
    "\n",
    "\n",
    "from sklearn.pipeline import make_pipeline\n",
    "\n",
    "import mne\n",
    "from mne.decoding import CSP\n",
    "\n",
    "from sklearn.discriminant_analysis import LinearDiscriminantAnalysis as LDA\n",
    "from sklearn.pipeline import make_pipeline\n",
    "from sklearn.svm import SVC\n",
    "\n",
    "from moabb.paradigms import LeftRightImagery, MotorImagery\n",
    "\n",
    "class HiddenPrints:\n",
    "    def __enter__(self):\n",
    "        self._original_stdout = sys.stdout\n",
    "        sys.stdout = open(os.devnull, 'w')\n",
    "\n",
    "    def __exit__(self, exc_type, exc_val, exc_tb):\n",
    "        sys.stdout.close()\n",
    "        sys.stdout = self._original_stdout"
   ]
  },
  {
   "cell_type": "code",
   "execution_count": null,
   "id": "85144ae7",
   "metadata": {},
   "outputs": [],
   "source": []
  },
  {
   "cell_type": "code",
   "execution_count": 4,
   "id": "f1e4e859",
   "metadata": {},
   "outputs": [
    {
     "name": "stdout",
     "output_type": "stream",
     "text": [
      "N_subj: 14\n"
     ]
    },
    {
     "name": "stderr",
     "output_type": "stream",
     "text": [
      "\r",
      "  0%|                                                                                                                                  | 0/14 [00:00<?, ?it/s]"
     ]
    },
    {
     "name": "stdout",
     "output_type": "stream",
     "text": [
      "\u001b[31m['right_hand', 'feet']\u001b[0m\n",
      "['EEG1', 'EEG2', 'EEG3', 'EEG4', 'EEG5', 'EEG6', 'EEG7', 'EEG8', 'EEG9', 'EEG10', 'EEG11', 'EEG12', 'EEG13', 'EEG14', 'EEG15', 'stim']\n"
     ]
    },
    {
     "name": "stderr",
     "output_type": "stream",
     "text": [
      "  0%|                                                                                                                                  | 0/14 [00:15<?, ?it/s]\n"
     ]
    },
    {
     "ename": "IndexError",
     "evalue": "arrays used as indices must be of integer (or boolean) type",
     "output_type": "error",
     "traceback": [
      "\u001b[0;31m---------------------------------------------------------------------------\u001b[0m",
      "\u001b[0;31mIndexError\u001b[0m                                Traceback (most recent call last)",
      "File \u001b[0;32m<timed exec>:49\u001b[0m, in \u001b[0;36m<module>\u001b[0;34m\u001b[0m\n",
      "\u001b[0;31mIndexError\u001b[0m: arrays used as indices must be of integer (or boolean) type"
     ]
    }
   ],
   "source": [
    "%%time\n",
    "\n",
    "ds = BNCI2014002()\n",
    "\n",
    "print(f'N_subj: {len(ds.subject_list)}')\n",
    "\n",
    "\n",
    "ChOI = ['F3', 'F4', 'Fz', 'Cz', 'P3', 'P4', 'Pz']\n",
    "eventsOI  = ['left_hand', 'right_hand']\n",
    "\n",
    "subject_list = ds.subject_list\n",
    "\n",
    "A = []\n",
    "MM, XX = [], []\n",
    "\n",
    "for sid in tqdm(subject_list):\n",
    "    with HiddenPrints():\n",
    "        ds.download(subject_list=subject_list)\n",
    "\n",
    "    events = list(ds.event_id.keys())\n",
    "    cprint(events, 'red')\n",
    "    \n",
    "\n",
    "    n_classes = len(events)\n",
    "    paradigm = MotorImagery(n_classes=n_classes, \n",
    "                            events=events, \n",
    "                            tmin=0,\n",
    "                            tmax=None, #  – End time (in second) of the epoch, relative to the begining of the dataset specific task interval. tmax = 5 would mean the epoch will end 5 second after the begining of the task as defined in the dataset. If None, use the dataset value.\n",
    "                            baseline=(0, 0.5),\n",
    "                            channels=None,\n",
    "                            resample=60, \n",
    "                            fmin=0.05,\n",
    "                            fmax=30) # <<<<<<<<<<\n",
    "\n",
    "    # get data for all the subjects, sessions and runs in the dataset\n",
    "\n",
    "    dat = ds.get_data([sid])\n",
    "    for k in dat[sid].keys():\n",
    "        for kk in dat[sid][k]:\n",
    "            ch_names = dat[sid][k][kk].ch_names\n",
    "            chIDs = np.array([i for i, n in enumerate(ch_names) if n in ChOI])\n",
    "            A.append(chIDs)\n",
    "    print(ch_names)\n",
    "\n",
    "    X__, labels_, meta_ = paradigm.get_data(dataset=ds, subjects=[sid])\n",
    "    meta_['label'] = labels_\n",
    "    \n",
    "    trialsOI = np.where(meta_.label.isin(eventsOI))[0]\n",
    "    meta = meta_.iloc[trialsOI]#.reset_index(drop=True)\n",
    "    X_ = X__[trialsOI, :, :]\n",
    "    X = X_[:, chIDs, :]\n",
    "    XX.append(X)\n",
    "    MM.append(meta.to_dict(orient='records'))\n",
    "\n",
    "    cprint(f'{X.shape}, {np.unique(labels_)}', color='blue')\n",
    "    \n",
    "MM_ = []\n",
    "for i in MM:\n",
    "    for j in i:\n",
    "        MM_.append(j)\n",
    "meta = pd.DataFrame(MM_)\n",
    "samples = np.concatenate(XX, axis=0)\n",
    "\n"
   ]
  },
  {
   "cell_type": "code",
   "execution_count": null,
   "id": "9145d653",
   "metadata": {},
   "outputs": [],
   "source": []
  },
  {
   "cell_type": "code",
   "execution_count": null,
   "id": "27ab21da",
   "metadata": {},
   "outputs": [],
   "source": []
  },
  {
   "cell_type": "code",
   "execution_count": 5,
   "id": "cb353d3e",
   "metadata": {},
   "outputs": [
    {
     "ename": "NameError",
     "evalue": "name 'samples' is not defined",
     "output_type": "error",
     "traceback": [
      "\u001b[0;31m---------------------------------------------------------------------------\u001b[0m",
      "\u001b[0;31mNameError\u001b[0m                                 Traceback (most recent call last)",
      "Input \u001b[0;32mIn [5]\u001b[0m, in \u001b[0;36m<cell line: 12>\u001b[0;34m()\u001b[0m\n\u001b[1;32m      3\u001b[0m \u001b[38;5;28;01mdef\u001b[39;00m \u001b[38;5;21msave_to_torch\u001b[39m(samples, meta, ds):    \n\u001b[1;32m      4\u001b[0m     torch\u001b[38;5;241m.\u001b[39msave({\u001b[38;5;124m'\u001b[39m\u001b[38;5;124msamples\u001b[39m\u001b[38;5;124m'\u001b[39m: torch\u001b[38;5;241m.\u001b[39mfrom_numpy(samples)\u001b[38;5;241m.\u001b[39mfloat(),\n\u001b[1;32m      5\u001b[0m                 \u001b[38;5;124m'\u001b[39m\u001b[38;5;124mlabels\u001b[39m\u001b[38;5;124m'\u001b[39m: torch\u001b[38;5;241m.\u001b[39mtensor(meta\u001b[38;5;241m.\u001b[39mlabel\u001b[38;5;241m.\u001b[39mmap(labelsToIDs),  dtype\u001b[38;5;241m=\u001b[39mtorch\u001b[38;5;241m.\u001b[39mint64),\n\u001b[1;32m      6\u001b[0m                 \u001b[38;5;124m'\u001b[39m\u001b[38;5;124mmeta\u001b[39m\u001b[38;5;124m'\u001b[39m: meta,\n\u001b[0;32m   (...)\u001b[0m\n\u001b[1;32m      9\u001b[0m                 \u001b[38;5;124m'\u001b[39m\u001b[38;5;124mXshape\u001b[39m\u001b[38;5;124m'\u001b[39m: X\u001b[38;5;241m.\u001b[39mshape},\n\u001b[1;32m     10\u001b[0m                 \u001b[38;5;124mf\u001b[39m\u001b[38;5;124m\"\u001b[39m\u001b[38;5;124mBNCI\u001b[39m\u001b[38;5;132;01m{\u001b[39;00mds\u001b[38;5;241m.\u001b[39mcode\u001b[38;5;241m.\u001b[39mreplace(\u001b[38;5;124m'\u001b[39m\u001b[38;5;124m \u001b[39m\u001b[38;5;124m'\u001b[39m, \u001b[38;5;124m'\u001b[39m\u001b[38;5;124m'\u001b[39m)\u001b[38;5;132;01m}\u001b[39;00m\u001b[38;5;124m.pt\u001b[39m\u001b[38;5;124m\"\u001b[39m)\n\u001b[0;32m---> 12\u001b[0m save_to_torch(\u001b[43msamples\u001b[49m, meta, ds)\n",
      "\u001b[0;31mNameError\u001b[0m: name 'samples' is not defined"
     ]
    }
   ],
   "source": [
    "labelsToIDs = {\"right_hand\": 0, \"left_hand\": 1}\n",
    "\n",
    "def save_to_torch(samples, meta, ds):    \n",
    "    torch.save({'samples': torch.from_numpy(samples).float(),\n",
    "                'labels': torch.tensor(meta.label.map(labelsToIDs),  dtype=torch.int64),\n",
    "                'meta': meta,\n",
    "                'ChOI': ChOI,\n",
    "                'eventsOI': eventsOI,\n",
    "                'Xshape': X.shape},\n",
    "                f\"BNCI{ds.code.replace(' ', '')}.pt\")\n",
    "\n",
    "save_to_torch(samples, meta, ds)"
   ]
  },
  {
   "cell_type": "code",
   "execution_count": null,
   "id": "2c3979a2",
   "metadata": {},
   "outputs": [],
   "source": [
    "ChOI, samples.shape"
   ]
  },
  {
   "cell_type": "code",
   "execution_count": null,
   "id": "47c1d5bc",
   "metadata": {},
   "outputs": [],
   "source": []
  },
  {
   "cell_type": "code",
   "execution_count": null,
   "id": "755be5db",
   "metadata": {},
   "outputs": [],
   "source": []
  }
 ],
 "metadata": {
  "kernelspec": {
   "display_name": "Python 3 (ipykernel)",
   "language": "python",
   "name": "python3"
  },
  "language_info": {
   "codemirror_mode": {
    "name": "ipython",
    "version": 3
   },
   "file_extension": ".py",
   "mimetype": "text/x-python",
   "name": "python",
   "nbconvert_exporter": "python",
   "pygments_lexer": "ipython3",
   "version": "3.9.12"
  }
 },
 "nbformat": 4,
 "nbformat_minor": 5
}
