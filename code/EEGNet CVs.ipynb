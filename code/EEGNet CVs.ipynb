{
 "cells": [
  {
   "cell_type": "code",
   "execution_count": 18,
   "id": "a37ebb07",
   "metadata": {},
   "outputs": [
    {
     "name": "stdout",
     "output_type": "stream",
     "text": [
      "The autoreload extension is already loaded. To reload it, use:\n",
      "  %reload_ext autoreload\n"
     ]
    }
   ],
   "source": [
    "%load_ext autoreload"
   ]
  },
  {
   "cell_type": "code",
   "execution_count": 19,
   "id": "3d389993",
   "metadata": {},
   "outputs": [
    {
     "name": "stdout",
     "output_type": "stream",
     "text": [
      "CUDA available: True\n",
      "\u001b[32m1.12.1+cu113\u001b[0m\n",
      "Current device:\n",
      "ID 0 | Name: RTX A6000\n",
      "supported arch list: ['sm_37', 'sm_50', 'sm_60', 'sm_70', 'sm_75', 'sm_80', 'sm_86']\n",
      "\n",
      "Current device:\n",
      "ID 1 | Name: Quadro P2200\n",
      "supported arch list: ['sm_37', 'sm_50', 'sm_60', 'sm_70', 'sm_75', 'sm_80', 'sm_86']\n",
      "\n"
     ]
    }
   ],
   "source": [
    "%autoreload 2\n",
    "\n",
    "import os, argparse, json, copy, wandb\n",
    "\n",
    "import umap\n",
    "from sklearn.manifold import TSNE\n",
    "\n",
    "from sklearn.model_selection import train_test_split\n",
    "import torch\n",
    "import torch.nn.functional as F\n",
    "from torch.utils.data import DataLoader, Dataset\n",
    "from dataset_utils import *\n",
    "from utils import HiddenPrints\n",
    "import torch.fft as fft\n",
    "from einops import rearrange, repeat\n",
    "\n",
    "import pandas as pd\n",
    "import numpy as np\n",
    "from termcolor import cprint\n",
    "from pprint import pprint\n",
    "from tqdm import tqdm\n",
    "from datetime import datetime\n",
    "\n",
    "from train import finetune\n",
    "\n",
    "from trainer import Trainer, model_finetune, model_test, model_pretrain\n",
    "from train import evaluate\n",
    "\n",
    "from augmentations import *\n",
    "from dataloader import MIdatasetMC\n",
    "from config_files.BIG_EEG_MI_1chRearrange_bigger import Config as Configs\n",
    "from utils import _logger, set_requires_grad\n",
    "from model import *\n",
    "from utils import _calc_metrics, copy_Files\n",
    "from loss import * # base_Model, base_Model_F, target_classifier\n",
    "from sklearn.metrics import cohen_kappa_score as kappa\n",
    "\n",
    "\n",
    "\n",
    "# For Arial\n",
    "import matplotlib\n",
    "import matplotlib.pyplot as plt\n",
    "matplotlib.rcParams['font.family'] = \"sans-serif\"\n",
    "matplotlib.rcParams['font.sans-serif'] = \"Arial\"\n",
    "matplotlib.rcParams[\"text.usetex\"] = False\n",
    "\n",
    "# for latex:\n",
    "# matplotlib.rcParams['font.family'] = \"DejaVu Sans\"\n",
    "# matplotlib.rcParams['font.serif'] = \"Computer Modern\"\n",
    "# matplotlib.rcParams[\"text.usetex\"] = True\n",
    "\n",
    "matplotlib.rcParams[\"lines.linewidth\"] = 3\n",
    "matplotlib.rcParams[\"xtick.direction\"] = \"out\"\n",
    "matplotlib.rcParams[\"ytick.direction\"] = \"out\"\n",
    "matplotlib.rcParams[\"axes.labelsize\"] = 22\n",
    "matplotlib.rcParams[\"xtick.labelsize\"] = 22\n",
    "matplotlib.rcParams[\"ytick.labelsize\"] = 22\n",
    "matplotlib.rcParams[\"font.size\"] = 22\n",
    "matplotlib.rcParams[\"legend.fontsize\"] = 22\n",
    "matplotlib.rcParams[\"axes.titlesize\"] = 22\n",
    "matplotlib.rcParams[\"animation.html\"] = \"jshtml\"\n",
    "matplotlib.rcParams[\"figure.autolayout\"] = True\n",
    "\n",
    "matplotlib.rcParams['axes.spines.right'] = False\n",
    "matplotlib.rcParams['axes.spines.top'] = False\n",
    "\n",
    "bar_format='{l_bar}{bar:10}{r_bar}{bar:-10b}'\n",
    "\n",
    "print(f'CUDA available: {torch.cuda.is_available()}')\n",
    "cprint(torch.__version__, color='green')\n",
    "device_count = torch.cuda.device_count()\n",
    "for i in range(device_count):\n",
    "    torch.cuda.set_device(i)\n",
    "    cur_device_id = torch.cuda.current_device()\n",
    "    cur_device_name = torch.cuda.get_device_name(cur_device_id)\n",
    "    print(f'Current device:\\nID {cur_device_id} | Name: {cur_device_name}')\n",
    "    print(f'supported arch list: {torch.cuda.get_arch_list()}\\n')\n",
    "    "
   ]
  },
  {
   "cell_type": "code",
   "execution_count": 20,
   "id": "736e69a9",
   "metadata": {},
   "outputs": [],
   "source": [
    "device = 'cuda:0'\n",
    "configs = Configs()\n",
    "# configs.report()"
   ]
  },
  {
   "cell_type": "code",
   "execution_count": 21,
   "id": "914267d8",
   "metadata": {},
   "outputs": [
    {
     "data": {
      "text/plain": [
       "\"Srate = 100 Hz, passband: 0-45 Hz, channels ['F3', 'F4', 'Fz', 'Cz', 'P3', 'P4', 'Pz']. See meta for more details. See /home/roman/CODE/tachikoma-analysis/DATA\""
      ]
     },
     "execution_count": 21,
     "metadata": {},
     "output_type": "execute_result"
    }
   ],
   "source": [
    "# load the data and instantiate the Dataset class\n",
    "\n",
    "path = '/home/roman/CODE/tachikoma-analysis/DATA2'\n",
    "dataset = torch.load(os.path.join(path, \"BIG_MI_12_datasets_53213samp.pt\"))\n",
    "dataset['info']"
   ]
  },
  {
   "cell_type": "code",
   "execution_count": null,
   "id": "4b20013d",
   "metadata": {},
   "outputs": [],
   "source": []
  },
  {
   "cell_type": "code",
   "execution_count": 22,
   "id": "a8ebba4f",
   "metadata": {},
   "outputs": [
    {
     "name": "stdout",
     "output_type": "stream",
     "text": [
      "\u001b[32mBNCIPhysionetMotorImagery.pt\u001b[0m\n",
      "\u001b[30mpretrain_dataset: torch.Size([48295])\u001b[0m\n",
      "\u001b[33m['right_hand' 'left_hand']\u001b[0m\n",
      "\u001b[30mtarget_dataset: torch.Size([4918])\u001b[0m\n",
      "Total samples in pretrain and finetune: 53213\n",
      "\u001b[33mtest_subject: 2\u001b[0m\n",
      "\u001b[1m\u001b[31mShuffle: False\u001b[0m\n",
      "\u001b[33mtorch.Size([4873, 7, 120]), torch.Size([45, 7, 120])\u001b[0m\n",
      "\u001b[34mNumber of subjects in train_dataset: 108\u001b[0m\n",
      "['BNCIOfner2017.pt' 'BNCISchirrmeister2017.pt' 'BNCI004-2015.pt'\n",
      " 'BNCICho2017.pt' 'BNCI001-2014.pt' 'BNCIPhysionetMotorImagery.pt'\n",
      " 'BNCI001-2015.pt' 'BNCIGrosse-Wentrup2009.pt' 'BNCIWeibo2014.pt'\n",
      " 'BNCIZhou2016.pt' 'BNCIAlexandreMotorImagery.pt' 'BNCIShin2017A.pt']\n"
     ]
    }
   ],
   "source": [
    "shuffle = False\n",
    "targetDsName = 'BNCIPhysionetMotorImagery.pt'\n",
    "test_subject = 2\n",
    "\n",
    "\n",
    "\n",
    "pretrain_dataset, target_dataset = SplitIntoPretrainAndFinetune(dataset, targetDsName)\n",
    "train_dataset, test_dataset = get_train_test_datasets(target_dataset, shuffle=shuffle, test_subject=test_subject)\n",
    "# train_dataset, test_dataset = get_train_test_datasets(target_dataset, shuffle=shuffle, test_subject=None)\n",
    "\n",
    "Nsubj = len(train_dataset['meta'].subject.unique())\n",
    "cprint(f\"Number of subjects in train_dataset: {Nsubj}\", color='blue')\n",
    "print(dataset['meta'].ds.unique())"
   ]
  },
  {
   "cell_type": "code",
   "execution_count": 23,
   "id": "d4616413",
   "metadata": {},
   "outputs": [
    {
     "data": {
      "text/html": [
       "<div>\n",
       "<style scoped>\n",
       "    .dataframe tbody tr th:only-of-type {\n",
       "        vertical-align: middle;\n",
       "    }\n",
       "\n",
       "    .dataframe tbody tr th {\n",
       "        vertical-align: top;\n",
       "    }\n",
       "\n",
       "    .dataframe thead th {\n",
       "        text-align: right;\n",
       "    }\n",
       "</style>\n",
       "<table border=\"1\" class=\"dataframe\">\n",
       "  <thead>\n",
       "    <tr style=\"text-align: right;\">\n",
       "      <th></th>\n",
       "      <th>subject</th>\n",
       "      <th>session</th>\n",
       "      <th>run</th>\n",
       "      <th>label</th>\n",
       "      <th>ds</th>\n",
       "      <th>class_id</th>\n",
       "    </tr>\n",
       "  </thead>\n",
       "  <tbody>\n",
       "    <tr>\n",
       "      <th>30781</th>\n",
       "      <td>2</td>\n",
       "      <td>session_0</td>\n",
       "      <td>run_0</td>\n",
       "      <td>left_hand</td>\n",
       "      <td>BNCIPhysionetMotorImagery.pt</td>\n",
       "      <td>1</td>\n",
       "    </tr>\n",
       "    <tr>\n",
       "      <th>30782</th>\n",
       "      <td>2</td>\n",
       "      <td>session_0</td>\n",
       "      <td>run_0</td>\n",
       "      <td>right_hand</td>\n",
       "      <td>BNCIPhysionetMotorImagery.pt</td>\n",
       "      <td>0</td>\n",
       "    </tr>\n",
       "    <tr>\n",
       "      <th>30783</th>\n",
       "      <td>2</td>\n",
       "      <td>session_0</td>\n",
       "      <td>run_0</td>\n",
       "      <td>left_hand</td>\n",
       "      <td>BNCIPhysionetMotorImagery.pt</td>\n",
       "      <td>1</td>\n",
       "    </tr>\n",
       "    <tr>\n",
       "      <th>30784</th>\n",
       "      <td>2</td>\n",
       "      <td>session_0</td>\n",
       "      <td>run_0</td>\n",
       "      <td>right_hand</td>\n",
       "      <td>BNCIPhysionetMotorImagery.pt</td>\n",
       "      <td>0</td>\n",
       "    </tr>\n",
       "    <tr>\n",
       "      <th>30785</th>\n",
       "      <td>2</td>\n",
       "      <td>session_0</td>\n",
       "      <td>run_0</td>\n",
       "      <td>left_hand</td>\n",
       "      <td>BNCIPhysionetMotorImagery.pt</td>\n",
       "      <td>1</td>\n",
       "    </tr>\n",
       "    <tr>\n",
       "      <th>30786</th>\n",
       "      <td>2</td>\n",
       "      <td>session_0</td>\n",
       "      <td>run_0</td>\n",
       "      <td>right_hand</td>\n",
       "      <td>BNCIPhysionetMotorImagery.pt</td>\n",
       "      <td>0</td>\n",
       "    </tr>\n",
       "    <tr>\n",
       "      <th>30787</th>\n",
       "      <td>2</td>\n",
       "      <td>session_0</td>\n",
       "      <td>run_0</td>\n",
       "      <td>right_hand</td>\n",
       "      <td>BNCIPhysionetMotorImagery.pt</td>\n",
       "      <td>0</td>\n",
       "    </tr>\n",
       "    <tr>\n",
       "      <th>30788</th>\n",
       "      <td>2</td>\n",
       "      <td>session_0</td>\n",
       "      <td>run_0</td>\n",
       "      <td>left_hand</td>\n",
       "      <td>BNCIPhysionetMotorImagery.pt</td>\n",
       "      <td>1</td>\n",
       "    </tr>\n",
       "    <tr>\n",
       "      <th>30789</th>\n",
       "      <td>2</td>\n",
       "      <td>session_0</td>\n",
       "      <td>run_0</td>\n",
       "      <td>right_hand</td>\n",
       "      <td>BNCIPhysionetMotorImagery.pt</td>\n",
       "      <td>0</td>\n",
       "    </tr>\n",
       "    <tr>\n",
       "      <th>30790</th>\n",
       "      <td>2</td>\n",
       "      <td>session_0</td>\n",
       "      <td>run_0</td>\n",
       "      <td>left_hand</td>\n",
       "      <td>BNCIPhysionetMotorImagery.pt</td>\n",
       "      <td>1</td>\n",
       "    </tr>\n",
       "    <tr>\n",
       "      <th>30791</th>\n",
       "      <td>2</td>\n",
       "      <td>session_0</td>\n",
       "      <td>run_0</td>\n",
       "      <td>right_hand</td>\n",
       "      <td>BNCIPhysionetMotorImagery.pt</td>\n",
       "      <td>0</td>\n",
       "    </tr>\n",
       "    <tr>\n",
       "      <th>30792</th>\n",
       "      <td>2</td>\n",
       "      <td>session_0</td>\n",
       "      <td>run_0</td>\n",
       "      <td>left_hand</td>\n",
       "      <td>BNCIPhysionetMotorImagery.pt</td>\n",
       "      <td>1</td>\n",
       "    </tr>\n",
       "    <tr>\n",
       "      <th>30793</th>\n",
       "      <td>2</td>\n",
       "      <td>session_0</td>\n",
       "      <td>run_0</td>\n",
       "      <td>right_hand</td>\n",
       "      <td>BNCIPhysionetMotorImagery.pt</td>\n",
       "      <td>0</td>\n",
       "    </tr>\n",
       "    <tr>\n",
       "      <th>30794</th>\n",
       "      <td>2</td>\n",
       "      <td>session_0</td>\n",
       "      <td>run_0</td>\n",
       "      <td>left_hand</td>\n",
       "      <td>BNCIPhysionetMotorImagery.pt</td>\n",
       "      <td>1</td>\n",
       "    </tr>\n",
       "    <tr>\n",
       "      <th>30795</th>\n",
       "      <td>2</td>\n",
       "      <td>session_0</td>\n",
       "      <td>run_0</td>\n",
       "      <td>right_hand</td>\n",
       "      <td>BNCIPhysionetMotorImagery.pt</td>\n",
       "      <td>0</td>\n",
       "    </tr>\n",
       "    <tr>\n",
       "      <th>30796</th>\n",
       "      <td>2</td>\n",
       "      <td>session_0</td>\n",
       "      <td>run_1</td>\n",
       "      <td>left_hand</td>\n",
       "      <td>BNCIPhysionetMotorImagery.pt</td>\n",
       "      <td>1</td>\n",
       "    </tr>\n",
       "    <tr>\n",
       "      <th>30797</th>\n",
       "      <td>2</td>\n",
       "      <td>session_0</td>\n",
       "      <td>run_1</td>\n",
       "      <td>right_hand</td>\n",
       "      <td>BNCIPhysionetMotorImagery.pt</td>\n",
       "      <td>0</td>\n",
       "    </tr>\n",
       "    <tr>\n",
       "      <th>30798</th>\n",
       "      <td>2</td>\n",
       "      <td>session_0</td>\n",
       "      <td>run_1</td>\n",
       "      <td>right_hand</td>\n",
       "      <td>BNCIPhysionetMotorImagery.pt</td>\n",
       "      <td>0</td>\n",
       "    </tr>\n",
       "    <tr>\n",
       "      <th>30799</th>\n",
       "      <td>2</td>\n",
       "      <td>session_0</td>\n",
       "      <td>run_1</td>\n",
       "      <td>left_hand</td>\n",
       "      <td>BNCIPhysionetMotorImagery.pt</td>\n",
       "      <td>1</td>\n",
       "    </tr>\n",
       "    <tr>\n",
       "      <th>30800</th>\n",
       "      <td>2</td>\n",
       "      <td>session_0</td>\n",
       "      <td>run_1</td>\n",
       "      <td>right_hand</td>\n",
       "      <td>BNCIPhysionetMotorImagery.pt</td>\n",
       "      <td>0</td>\n",
       "    </tr>\n",
       "    <tr>\n",
       "      <th>30801</th>\n",
       "      <td>2</td>\n",
       "      <td>session_0</td>\n",
       "      <td>run_1</td>\n",
       "      <td>left_hand</td>\n",
       "      <td>BNCIPhysionetMotorImagery.pt</td>\n",
       "      <td>1</td>\n",
       "    </tr>\n",
       "    <tr>\n",
       "      <th>30802</th>\n",
       "      <td>2</td>\n",
       "      <td>session_0</td>\n",
       "      <td>run_1</td>\n",
       "      <td>right_hand</td>\n",
       "      <td>BNCIPhysionetMotorImagery.pt</td>\n",
       "      <td>0</td>\n",
       "    </tr>\n",
       "    <tr>\n",
       "      <th>30803</th>\n",
       "      <td>2</td>\n",
       "      <td>session_0</td>\n",
       "      <td>run_1</td>\n",
       "      <td>left_hand</td>\n",
       "      <td>BNCIPhysionetMotorImagery.pt</td>\n",
       "      <td>1</td>\n",
       "    </tr>\n",
       "    <tr>\n",
       "      <th>30804</th>\n",
       "      <td>2</td>\n",
       "      <td>session_0</td>\n",
       "      <td>run_1</td>\n",
       "      <td>right_hand</td>\n",
       "      <td>BNCIPhysionetMotorImagery.pt</td>\n",
       "      <td>0</td>\n",
       "    </tr>\n",
       "    <tr>\n",
       "      <th>30805</th>\n",
       "      <td>2</td>\n",
       "      <td>session_0</td>\n",
       "      <td>run_1</td>\n",
       "      <td>left_hand</td>\n",
       "      <td>BNCIPhysionetMotorImagery.pt</td>\n",
       "      <td>1</td>\n",
       "    </tr>\n",
       "    <tr>\n",
       "      <th>30806</th>\n",
       "      <td>2</td>\n",
       "      <td>session_0</td>\n",
       "      <td>run_1</td>\n",
       "      <td>right_hand</td>\n",
       "      <td>BNCIPhysionetMotorImagery.pt</td>\n",
       "      <td>0</td>\n",
       "    </tr>\n",
       "    <tr>\n",
       "      <th>30807</th>\n",
       "      <td>2</td>\n",
       "      <td>session_0</td>\n",
       "      <td>run_1</td>\n",
       "      <td>left_hand</td>\n",
       "      <td>BNCIPhysionetMotorImagery.pt</td>\n",
       "      <td>1</td>\n",
       "    </tr>\n",
       "    <tr>\n",
       "      <th>30808</th>\n",
       "      <td>2</td>\n",
       "      <td>session_0</td>\n",
       "      <td>run_1</td>\n",
       "      <td>left_hand</td>\n",
       "      <td>BNCIPhysionetMotorImagery.pt</td>\n",
       "      <td>1</td>\n",
       "    </tr>\n",
       "    <tr>\n",
       "      <th>30809</th>\n",
       "      <td>2</td>\n",
       "      <td>session_0</td>\n",
       "      <td>run_1</td>\n",
       "      <td>right_hand</td>\n",
       "      <td>BNCIPhysionetMotorImagery.pt</td>\n",
       "      <td>0</td>\n",
       "    </tr>\n",
       "    <tr>\n",
       "      <th>30810</th>\n",
       "      <td>2</td>\n",
       "      <td>session_0</td>\n",
       "      <td>run_1</td>\n",
       "      <td>left_hand</td>\n",
       "      <td>BNCIPhysionetMotorImagery.pt</td>\n",
       "      <td>1</td>\n",
       "    </tr>\n",
       "    <tr>\n",
       "      <th>30811</th>\n",
       "      <td>2</td>\n",
       "      <td>session_0</td>\n",
       "      <td>run_2</td>\n",
       "      <td>left_hand</td>\n",
       "      <td>BNCIPhysionetMotorImagery.pt</td>\n",
       "      <td>1</td>\n",
       "    </tr>\n",
       "    <tr>\n",
       "      <th>30812</th>\n",
       "      <td>2</td>\n",
       "      <td>session_0</td>\n",
       "      <td>run_2</td>\n",
       "      <td>right_hand</td>\n",
       "      <td>BNCIPhysionetMotorImagery.pt</td>\n",
       "      <td>0</td>\n",
       "    </tr>\n",
       "    <tr>\n",
       "      <th>30813</th>\n",
       "      <td>2</td>\n",
       "      <td>session_0</td>\n",
       "      <td>run_2</td>\n",
       "      <td>right_hand</td>\n",
       "      <td>BNCIPhysionetMotorImagery.pt</td>\n",
       "      <td>0</td>\n",
       "    </tr>\n",
       "    <tr>\n",
       "      <th>30814</th>\n",
       "      <td>2</td>\n",
       "      <td>session_0</td>\n",
       "      <td>run_2</td>\n",
       "      <td>left_hand</td>\n",
       "      <td>BNCIPhysionetMotorImagery.pt</td>\n",
       "      <td>1</td>\n",
       "    </tr>\n",
       "    <tr>\n",
       "      <th>30815</th>\n",
       "      <td>2</td>\n",
       "      <td>session_0</td>\n",
       "      <td>run_2</td>\n",
       "      <td>right_hand</td>\n",
       "      <td>BNCIPhysionetMotorImagery.pt</td>\n",
       "      <td>0</td>\n",
       "    </tr>\n",
       "    <tr>\n",
       "      <th>30816</th>\n",
       "      <td>2</td>\n",
       "      <td>session_0</td>\n",
       "      <td>run_2</td>\n",
       "      <td>left_hand</td>\n",
       "      <td>BNCIPhysionetMotorImagery.pt</td>\n",
       "      <td>1</td>\n",
       "    </tr>\n",
       "    <tr>\n",
       "      <th>30817</th>\n",
       "      <td>2</td>\n",
       "      <td>session_0</td>\n",
       "      <td>run_2</td>\n",
       "      <td>left_hand</td>\n",
       "      <td>BNCIPhysionetMotorImagery.pt</td>\n",
       "      <td>1</td>\n",
       "    </tr>\n",
       "    <tr>\n",
       "      <th>30818</th>\n",
       "      <td>2</td>\n",
       "      <td>session_0</td>\n",
       "      <td>run_2</td>\n",
       "      <td>right_hand</td>\n",
       "      <td>BNCIPhysionetMotorImagery.pt</td>\n",
       "      <td>0</td>\n",
       "    </tr>\n",
       "    <tr>\n",
       "      <th>30819</th>\n",
       "      <td>2</td>\n",
       "      <td>session_0</td>\n",
       "      <td>run_2</td>\n",
       "      <td>right_hand</td>\n",
       "      <td>BNCIPhysionetMotorImagery.pt</td>\n",
       "      <td>0</td>\n",
       "    </tr>\n",
       "    <tr>\n",
       "      <th>30820</th>\n",
       "      <td>2</td>\n",
       "      <td>session_0</td>\n",
       "      <td>run_2</td>\n",
       "      <td>left_hand</td>\n",
       "      <td>BNCIPhysionetMotorImagery.pt</td>\n",
       "      <td>1</td>\n",
       "    </tr>\n",
       "    <tr>\n",
       "      <th>30821</th>\n",
       "      <td>2</td>\n",
       "      <td>session_0</td>\n",
       "      <td>run_2</td>\n",
       "      <td>right_hand</td>\n",
       "      <td>BNCIPhysionetMotorImagery.pt</td>\n",
       "      <td>0</td>\n",
       "    </tr>\n",
       "    <tr>\n",
       "      <th>30822</th>\n",
       "      <td>2</td>\n",
       "      <td>session_0</td>\n",
       "      <td>run_2</td>\n",
       "      <td>left_hand</td>\n",
       "      <td>BNCIPhysionetMotorImagery.pt</td>\n",
       "      <td>1</td>\n",
       "    </tr>\n",
       "    <tr>\n",
       "      <th>30823</th>\n",
       "      <td>2</td>\n",
       "      <td>session_0</td>\n",
       "      <td>run_2</td>\n",
       "      <td>left_hand</td>\n",
       "      <td>BNCIPhysionetMotorImagery.pt</td>\n",
       "      <td>1</td>\n",
       "    </tr>\n",
       "    <tr>\n",
       "      <th>30824</th>\n",
       "      <td>2</td>\n",
       "      <td>session_0</td>\n",
       "      <td>run_2</td>\n",
       "      <td>right_hand</td>\n",
       "      <td>BNCIPhysionetMotorImagery.pt</td>\n",
       "      <td>0</td>\n",
       "    </tr>\n",
       "    <tr>\n",
       "      <th>30825</th>\n",
       "      <td>2</td>\n",
       "      <td>session_0</td>\n",
       "      <td>run_2</td>\n",
       "      <td>left_hand</td>\n",
       "      <td>BNCIPhysionetMotorImagery.pt</td>\n",
       "      <td>1</td>\n",
       "    </tr>\n",
       "  </tbody>\n",
       "</table>\n",
       "</div>"
      ],
      "text/plain": [
       "       subject    session    run       label                            ds  \\\n",
       "30781        2  session_0  run_0   left_hand  BNCIPhysionetMotorImagery.pt   \n",
       "30782        2  session_0  run_0  right_hand  BNCIPhysionetMotorImagery.pt   \n",
       "30783        2  session_0  run_0   left_hand  BNCIPhysionetMotorImagery.pt   \n",
       "30784        2  session_0  run_0  right_hand  BNCIPhysionetMotorImagery.pt   \n",
       "30785        2  session_0  run_0   left_hand  BNCIPhysionetMotorImagery.pt   \n",
       "30786        2  session_0  run_0  right_hand  BNCIPhysionetMotorImagery.pt   \n",
       "30787        2  session_0  run_0  right_hand  BNCIPhysionetMotorImagery.pt   \n",
       "30788        2  session_0  run_0   left_hand  BNCIPhysionetMotorImagery.pt   \n",
       "30789        2  session_0  run_0  right_hand  BNCIPhysionetMotorImagery.pt   \n",
       "30790        2  session_0  run_0   left_hand  BNCIPhysionetMotorImagery.pt   \n",
       "30791        2  session_0  run_0  right_hand  BNCIPhysionetMotorImagery.pt   \n",
       "30792        2  session_0  run_0   left_hand  BNCIPhysionetMotorImagery.pt   \n",
       "30793        2  session_0  run_0  right_hand  BNCIPhysionetMotorImagery.pt   \n",
       "30794        2  session_0  run_0   left_hand  BNCIPhysionetMotorImagery.pt   \n",
       "30795        2  session_0  run_0  right_hand  BNCIPhysionetMotorImagery.pt   \n",
       "30796        2  session_0  run_1   left_hand  BNCIPhysionetMotorImagery.pt   \n",
       "30797        2  session_0  run_1  right_hand  BNCIPhysionetMotorImagery.pt   \n",
       "30798        2  session_0  run_1  right_hand  BNCIPhysionetMotorImagery.pt   \n",
       "30799        2  session_0  run_1   left_hand  BNCIPhysionetMotorImagery.pt   \n",
       "30800        2  session_0  run_1  right_hand  BNCIPhysionetMotorImagery.pt   \n",
       "30801        2  session_0  run_1   left_hand  BNCIPhysionetMotorImagery.pt   \n",
       "30802        2  session_0  run_1  right_hand  BNCIPhysionetMotorImagery.pt   \n",
       "30803        2  session_0  run_1   left_hand  BNCIPhysionetMotorImagery.pt   \n",
       "30804        2  session_0  run_1  right_hand  BNCIPhysionetMotorImagery.pt   \n",
       "30805        2  session_0  run_1   left_hand  BNCIPhysionetMotorImagery.pt   \n",
       "30806        2  session_0  run_1  right_hand  BNCIPhysionetMotorImagery.pt   \n",
       "30807        2  session_0  run_1   left_hand  BNCIPhysionetMotorImagery.pt   \n",
       "30808        2  session_0  run_1   left_hand  BNCIPhysionetMotorImagery.pt   \n",
       "30809        2  session_0  run_1  right_hand  BNCIPhysionetMotorImagery.pt   \n",
       "30810        2  session_0  run_1   left_hand  BNCIPhysionetMotorImagery.pt   \n",
       "30811        2  session_0  run_2   left_hand  BNCIPhysionetMotorImagery.pt   \n",
       "30812        2  session_0  run_2  right_hand  BNCIPhysionetMotorImagery.pt   \n",
       "30813        2  session_0  run_2  right_hand  BNCIPhysionetMotorImagery.pt   \n",
       "30814        2  session_0  run_2   left_hand  BNCIPhysionetMotorImagery.pt   \n",
       "30815        2  session_0  run_2  right_hand  BNCIPhysionetMotorImagery.pt   \n",
       "30816        2  session_0  run_2   left_hand  BNCIPhysionetMotorImagery.pt   \n",
       "30817        2  session_0  run_2   left_hand  BNCIPhysionetMotorImagery.pt   \n",
       "30818        2  session_0  run_2  right_hand  BNCIPhysionetMotorImagery.pt   \n",
       "30819        2  session_0  run_2  right_hand  BNCIPhysionetMotorImagery.pt   \n",
       "30820        2  session_0  run_2   left_hand  BNCIPhysionetMotorImagery.pt   \n",
       "30821        2  session_0  run_2  right_hand  BNCIPhysionetMotorImagery.pt   \n",
       "30822        2  session_0  run_2   left_hand  BNCIPhysionetMotorImagery.pt   \n",
       "30823        2  session_0  run_2   left_hand  BNCIPhysionetMotorImagery.pt   \n",
       "30824        2  session_0  run_2  right_hand  BNCIPhysionetMotorImagery.pt   \n",
       "30825        2  session_0  run_2   left_hand  BNCIPhysionetMotorImagery.pt   \n",
       "\n",
       "       class_id  \n",
       "30781         1  \n",
       "30782         0  \n",
       "30783         1  \n",
       "30784         0  \n",
       "30785         1  \n",
       "30786         0  \n",
       "30787         0  \n",
       "30788         1  \n",
       "30789         0  \n",
       "30790         1  \n",
       "30791         0  \n",
       "30792         1  \n",
       "30793         0  \n",
       "30794         1  \n",
       "30795         0  \n",
       "30796         1  \n",
       "30797         0  \n",
       "30798         0  \n",
       "30799         1  \n",
       "30800         0  \n",
       "30801         1  \n",
       "30802         0  \n",
       "30803         1  \n",
       "30804         0  \n",
       "30805         1  \n",
       "30806         0  \n",
       "30807         1  \n",
       "30808         1  \n",
       "30809         0  \n",
       "30810         1  \n",
       "30811         1  \n",
       "30812         0  \n",
       "30813         0  \n",
       "30814         1  \n",
       "30815         0  \n",
       "30816         1  \n",
       "30817         1  \n",
       "30818         0  \n",
       "30819         0  \n",
       "30820         1  \n",
       "30821         0  \n",
       "30822         1  \n",
       "30823         1  \n",
       "30824         0  \n",
       "30825         1  "
      ]
     },
     "execution_count": 23,
     "metadata": {},
     "output_type": "execute_result"
    }
   ],
   "source": [
    "test_dataset['meta']"
   ]
  },
  {
   "cell_type": "code",
   "execution_count": null,
   "id": "02252aae",
   "metadata": {},
   "outputs": [],
   "source": []
  },
  {
   "cell_type": "code",
   "execution_count": 24,
   "id": "60e07680",
   "metadata": {},
   "outputs": [
    {
     "data": {
      "text/plain": [
       "<AxesSubplot:>"
      ]
     },
     "execution_count": 24,
     "metadata": {},
     "output_type": "execute_result"
    },
    {
     "data": {
      "image/png": "[encoded data removed]",
      "text/plain": [
       "<Figure size 1296x288 with 1 Axes>"
      ]
     },
     "metadata": {
      "needs_background": "light"
     },
     "output_type": "display_data"
    }
   ],
   "source": [
    "fig, ax = plt.subplots(1,1, figsize=(18,4))\n",
    "train_dataset['meta'].subject.hist(ax=ax, bins=range(0,Nsubj), label='train')\n",
    "test_dataset['meta'].subject.hist(ax=ax, bins=range(0,Nsubj), label='test')"
   ]
  },
  {
   "cell_type": "code",
   "execution_count": null,
   "id": "d3199658",
   "metadata": {},
   "outputs": [],
   "source": []
  },
  {
   "cell_type": "code",
   "execution_count": 26,
   "id": "4de5bc57",
   "metadata": {
    "scrolled": false
   },
   "outputs": [
    {
     "name": "stdout",
     "output_type": "stream",
     "text": [
      "\u001b[34m******************************************************************************************\u001b[0m\n",
      "\u001b[1m\u001b[33mFor 120 time samples, the network will look like this:\u001b[0m\n",
      "------------------------------------------------------------------------------------------\n",
      "\u001b[30mConv2d(1, 8, kernel_size=(1, 31), stride=(1, 1), padding=same, bias=False)\u001b[0m\n",
      "------------------------------------------------------------------------------------------\n",
      "\u001b[32mInput: torch.Size([10, 1, 7, 120])\u001b[0m\n",
      "\u001b[34mweight, torch.Size([8, 1, 1, 31]), Nparams: 248\u001b[0m\n",
      "\u001b[31mOutput: torch.Size([10, 8, 7, 120])\u001b[0m\n",
      "\n",
      "------------------------------------------------------------------------------------------\n",
      "\u001b[30mBatchNorm2d(8, eps=1e-05, momentum=0.9, affine=True, track_running_stats=True)\u001b[0m\n",
      "------------------------------------------------------------------------------------------\n",
      "\u001b[32mInput: torch.Size([10, 8, 7, 120])\u001b[0m\n",
      "\u001b[34mweight, torch.Size([8]), Nparams: 8\u001b[0m\n",
      "\u001b[34mbias, torch.Size([8]), Nparams: 8\u001b[0m\n",
      "\u001b[31mOutput: torch.Size([10, 8, 7, 120])\u001b[0m\n",
      "\n",
      "------------------------------------------------------------------------------------------\n",
      "\u001b[30mConv2d(8, 16, kernel_size=(7, 1), stride=(1, 1), padding=valid, groups=8, bias=False)\u001b[0m\n",
      "------------------------------------------------------------------------------------------\n",
      "\u001b[32mInput: torch.Size([10, 8, 7, 120])\u001b[0m\n",
      "\u001b[34mweight, torch.Size([16, 1, 7, 1]), Nparams: 112\u001b[0m\n",
      "\u001b[31mOutput: torch.Size([10, 16, 1, 120])\u001b[0m\n",
      "\n",
      "------------------------------------------------------------------------------------------\n",
      "\u001b[30mBatchNorm2d(16, eps=1e-05, momentum=0.9, affine=True, track_running_stats=True)\u001b[0m\n",
      "------------------------------------------------------------------------------------------\n",
      "\u001b[32mInput: torch.Size([10, 16, 1, 120])\u001b[0m\n",
      "\u001b[34mweight, torch.Size([16]), Nparams: 16\u001b[0m\n",
      "\u001b[34mbias, torch.Size([16]), Nparams: 16\u001b[0m\n",
      "\u001b[31mOutput: torch.Size([10, 16, 1, 120])\u001b[0m\n",
      "\n",
      "------------------------------------------------------------------------------------------\n",
      "\u001b[30mELU(alpha=1.0)\u001b[0m\n",
      "------------------------------------------------------------------------------------------\n",
      "\u001b[32mInput: torch.Size([10, 16, 1, 120])\u001b[0m\n",
      "\u001b[31mOutput: torch.Size([10, 16, 1, 120])\u001b[0m\n",
      "\n",
      "------------------------------------------------------------------------------------------\n",
      "\u001b[30mAvgPool2d(kernel_size=(1, 4), stride=(1, 4), padding=0)\u001b[0m\n",
      "------------------------------------------------------------------------------------------\n",
      "\u001b[32mInput: torch.Size([10, 16, 1, 120])\u001b[0m\n",
      "\u001b[31mOutput: torch.Size([10, 16, 1, 30])\u001b[0m\n",
      "\n",
      "------------------------------------------------------------------------------------------\n",
      "\u001b[30mDropout(p=0.5, inplace=False)\u001b[0m\n",
      "------------------------------------------------------------------------------------------\n",
      "\u001b[32mInput: torch.Size([10, 16, 1, 30])\u001b[0m\n",
      "\u001b[31mOutput: torch.Size([10, 16, 1, 30])\u001b[0m\n",
      "\n",
      "------------------------------------------------------------------------------------------\n",
      "\u001b[30mConv2d(16, 16, kernel_size=(1, 17), stride=(1, 1), padding=same, groups=16, bias=False)\u001b[0m\n",
      "------------------------------------------------------------------------------------------\n",
      "\u001b[32mInput: torch.Size([10, 16, 1, 30])\u001b[0m\n",
      "\u001b[34mweight, torch.Size([16, 1, 1, 17]), Nparams: 272\u001b[0m\n",
      "\u001b[31mOutput: torch.Size([10, 16, 1, 30])\u001b[0m\n",
      "\n",
      "------------------------------------------------------------------------------------------\n",
      "\u001b[30mConv2d(16, 16, kernel_size=(1, 1), stride=(1, 1), padding=same, bias=False)\u001b[0m\n",
      "------------------------------------------------------------------------------------------\n",
      "\u001b[32mInput: torch.Size([10, 16, 1, 30])\u001b[0m\n",
      "\u001b[34mweight, torch.Size([16, 16, 1, 1]), Nparams: 256\u001b[0m\n",
      "\u001b[31mOutput: torch.Size([10, 16, 1, 30])\u001b[0m\n",
      "\n",
      "------------------------------------------------------------------------------------------\n",
      "\u001b[30mBatchNorm2d(16, eps=1e-05, momentum=0.9, affine=True, track_running_stats=True)\u001b[0m\n",
      "------------------------------------------------------------------------------------------\n",
      "\u001b[32mInput: torch.Size([10, 16, 1, 30])\u001b[0m\n",
      "\u001b[34mweight, torch.Size([16]), Nparams: 16\u001b[0m\n",
      "\u001b[34mbias, torch.Size([16]), Nparams: 16\u001b[0m\n",
      "\u001b[31mOutput: torch.Size([10, 16, 1, 30])\u001b[0m\n",
      "\n",
      "------------------------------------------------------------------------------------------\n",
      "\u001b[30mELU(alpha=1.0)\u001b[0m\n",
      "------------------------------------------------------------------------------------------\n",
      "\u001b[32mInput: torch.Size([10, 16, 1, 30])\u001b[0m\n",
      "\u001b[31mOutput: torch.Size([10, 16, 1, 30])\u001b[0m\n",
      "\n",
      "------------------------------------------------------------------------------------------\n",
      "\u001b[30mAvgPool2d(kernel_size=(1, 8), stride=(1, 8), padding=0)\u001b[0m\n",
      "------------------------------------------------------------------------------------------\n",
      "\u001b[32mInput: torch.Size([10, 16, 1, 30])\u001b[0m\n",
      "\u001b[31mOutput: torch.Size([10, 16, 1, 3])\u001b[0m\n",
      "\n",
      "------------------------------------------------------------------------------------------\n",
      "\u001b[30mDropout(p=0.5, inplace=False)\u001b[0m\n",
      "------------------------------------------------------------------------------------------\n",
      "\u001b[32mInput: torch.Size([10, 16, 1, 3])\u001b[0m\n",
      "\u001b[31mOutput: torch.Size([10, 16, 1, 3])\u001b[0m\n",
      "\n",
      "------------------------------------------------------------------------------------------\n",
      "\u001b[30mFlatten(start_dim=1, end_dim=-1)\u001b[0m\n",
      "------------------------------------------------------------------------------------------\n",
      "\u001b[32mInput: torch.Size([10, 16, 1, 3])\u001b[0m\n",
      "\u001b[31mOutput: torch.Size([10, 48])\u001b[0m\n",
      "\n",
      "------------------------------------------------------------------------------------------\n",
      "\u001b[30mLinear(in_features=48, out_features=2, bias=True)\u001b[0m\n",
      "------------------------------------------------------------------------------------------\n",
      "\u001b[32mInput: torch.Size([10, 48])\u001b[0m\n",
      "\u001b[34mweight, torch.Size([2, 48]), Nparams: 96\u001b[0m\n",
      "\u001b[34mbias, torch.Size([2]), Nparams: 2\u001b[0m\n",
      "\u001b[31mOutput: torch.Size([10, 2])\u001b[0m\n",
      "\n",
      "\u001b[34m******************************************************************************************\u001b[0m\n",
      "\u001b[1m\u001b[32mTOTAL PARAMS: 1066\u001b[0m\n",
      "\u001b[34m******************************************************************************************\u001b[0m\n"
     ]
    },
    {
     "name": "stderr",
     "output_type": "stream",
     "text": [
      "/home/roman/miniconda3/envs/tachikoma/lib/python3.9/site-packages/torch/nn/modules/lazy.py:178: UserWarning: Lazy modules are a new feature under heavy development so changes to the API or functionality can happen at any moment.\n",
      "  warnings.warn('Lazy modules are a new feature under heavy development '\n"
     ]
    }
   ],
   "source": [
    "EEGnet = TorchEEGNet(num_chan=7, kerLen=31, drop=0.5, F1=8, D=2, F2=16, nclass=2, device=device)\n",
    "EEGnet.summary(num_time_samples=120)"
   ]
  },
  {
   "cell_type": "code",
   "execution_count": 16,
   "id": "ffec1507",
   "metadata": {},
   "outputs": [
    {
     "name": "stdout",
     "output_type": "stream",
     "text": [
      "\u001b[31mnumber of classes: 2\u001b[0m\n",
      "\u001b[32mtorch.Size([4873, 7, 120])\u001b[0m\n"
     ]
    },
    {
     "name": "stderr",
     "output_type": "stream",
     "text": [
      "epoch_acc: 0.57 evalAcc: 0.00 batch_acc: 0.68: : 50it [00:00, 64.78it/s]\n",
      "epoch_acc: 0.68 evalAcc: 0.87 batch_acc: 0.66: : 50it [00:00, 62.17it/s]\n",
      "epoch_acc: 0.72 evalAcc: 0.91 batch_acc: 0.68: : 50it [00:00, 60.90it/s]\n",
      "epoch_acc: 0.73 evalAcc: 0.87 batch_acc: 0.75: : 50it [00:00, 60.72it/s]\n",
      "epoch_acc: 0.73 evalAcc: 0.89 batch_acc: 0.75: : 50it [00:00, 68.73it/s]\n",
      "epoch_acc: 0.74 evalAcc: 0.87 batch_acc: 0.79: : 50it [00:00, 63.09it/s]\n",
      "epoch_acc: 0.74 evalAcc: 0.93 batch_acc: 0.75: : 50it [00:00, 67.59it/s]\n",
      "epoch_acc: 0.75 evalAcc: 0.93 batch_acc: 0.83: : 50it [00:00, 59.45it/s]\n",
      "epoch_acc: 0.75 evalAcc: 0.96 batch_acc: 0.75: : 50it [00:00, 63.05it/s]\n",
      "epoch_acc: 0.75 evalAcc: 0.96 batch_acc: 0.77: : 50it [00:00, 60.18it/s]\n"
     ]
    },
    {
     "data": {
      "text/plain": [
       "(0.9555555555555556, 0.7491666666666668)"
      ]
     },
     "execution_count": 16,
     "metadata": {},
     "output_type": "execute_result"
    }
   ],
   "source": [
    "def EEGNet_run(train_dataset, test_dataset):\n",
    "    \n",
    "    nclass = len(test_dataset['meta'].class_id.unique())\n",
    "    cprint(f'number of classes: {nclass}', 'red')\n",
    "    \n",
    "    EEGnet = TorchEEGNet(num_chan=7, kerLen=31, drop=0.5, F1=8, D=2, F2=16, nclass=nclass, device=device)\n",
    "    # EEGnet.summary(num_time_samples=120)\n",
    "\n",
    "    # instantiate the Dataset class\n",
    "    ds = MIdatasetMC(train_dataset, configs)\n",
    "\n",
    "    # instantiate a dataloader for the fine-tuning dataset\n",
    "    dl = torch.utils.data.DataLoader(dataset=ds,\n",
    "                                              batch_size=configs.batch_size,\n",
    "                                              shuffle=True,\n",
    "                                              drop_last=True,\n",
    "                                              num_workers=14)  # optimal: 14 workers with batch_size=60\n",
    "\n",
    "    criterion = nn.CrossEntropyLoss()\n",
    "    optimizer = torch.optim.Adam(params=EEGnet.model.parameters(), lr=0.003)\n",
    "    \n",
    "    EVAL_ACC = []\n",
    "    evalAcc = 0\n",
    "    for ep in range(10):\n",
    "        epAcc = []\n",
    "        pbar = tqdm(enumerate(dl))\n",
    "\n",
    "        EEGnet.model.train()\n",
    "        for i, (x_t, y, x_t_aug, x_f, x_f_aug, msk_t, msk_f, meta) in pbar:\n",
    "\n",
    "            x_t, y = x_t.float().unsqueeze(1).to(device), y.long().to(device)\n",
    "            # x_t_aug = x_t_aug.float().to(device)\n",
    "            # x_f, x_f_aug = x_f.float().to(device), x_f_aug.float().to(device)\n",
    "\n",
    "            optimizer.zero_grad()\n",
    "            pred = EEGnet.forward(x_t)\n",
    "            loss = criterion(pred, y)\n",
    "            loss.backward()\n",
    "            optimizer.step()\n",
    "            EEGnet.max_norm()\n",
    "            withinBatchAcc = np.mean([(p == l) for p, l in zip(pred.argmax(axis=1).tolist(), y.tolist())])\n",
    "            epAcc.append(withinBatchAcc)\n",
    "            pbar.set_description(f'epoch_acc: {np.mean(epAcc):.2f} evalAcc: {evalAcc:.2f} batch_acc: {withinBatchAcc:.2f}')\n",
    "\n",
    "        # evaluate:\n",
    "        EEGnet.model.eval()\n",
    "        x_t = test_dataset['samples'].unsqueeze(1).float().to(device)\n",
    "        y = test_dataset['labels']\n",
    "        pred = EEGnet.forward(x_t)\n",
    "        evalAcc = np.mean([(p == l) for p, l in zip(pred.argmax(axis=1).tolist(), y.tolist())])\n",
    "        pbar.set_description(f'epoch_acc: {np.mean(epAcc):.2f} evalAcc: {evalAcc:.2f} batch_acc: {withinBatchAcc:.2f}')\n",
    "        EVAL_ACC.append(evalAcc)\n",
    "    return np.max(EVAL_ACC), np.mean(epAcc)\n",
    "\n",
    "\n",
    "EEGNet_run(train_dataset, test_dataset)"
   ]
  },
  {
   "cell_type": "markdown",
   "id": "2454ac97",
   "metadata": {},
   "source": [
    "# Cross-subject validation"
   ]
  },
  {
   "cell_type": "code",
   "execution_count": 10,
   "id": "0598562f",
   "metadata": {},
   "outputs": [
    {
     "name": "stdout",
     "output_type": "stream",
     "text": [
      "\u001b[33mtest_subject: 1\u001b[0m\n",
      "\u001b[1m\u001b[31mShuffle: False\u001b[0m\n",
      "\u001b[33mtorch.Size([4873, 7, 120]), torch.Size([45, 7, 120])\u001b[0m\n",
      "\u001b[32mtorch.Size([4873, 7, 120])\u001b[0m\n"
     ]
    },
    {
     "name": "stderr",
     "output_type": "stream",
     "text": [
      "epoch_acc: 0.62 evalAcc: 0.00 batch_acc: 0.59: : 50it [00:00, 52.34it/s]\n",
      "epoch_acc: 0.70 evalAcc: 0.58 batch_acc: 0.76: : 50it [00:00, 57.24it/s]\n",
      "epoch_acc: 0.72 evalAcc: 0.62 batch_acc: 0.74: : 50it [00:00, 59.16it/s]\n",
      "epoch_acc: 0.73 evalAcc: 0.62 batch_acc: 0.72: : 50it [00:00, 58.02it/s]\n",
      "epoch_acc: 0.74 evalAcc: 0.67 batch_acc: 0.73: : 50it [00:00, 57.75it/s]\n",
      "epoch_acc: 0.74 evalAcc: 0.73 batch_acc: 0.73: : 50it [00:00, 60.95it/s]\n",
      "epoch_acc: 0.74 evalAcc: 0.78 batch_acc: 0.77: : 50it [00:00, 59.81it/s]\n",
      "epoch_acc: 0.74 evalAcc: 0.73 batch_acc: 0.75: : 50it [00:00, 59.90it/s]\n",
      "epoch_acc: 0.74 evalAcc: 0.73 batch_acc: 0.72: : 50it [00:00, 66.13it/s]\n",
      "epoch_acc: 0.75 evalAcc: 0.76 batch_acc: 0.71: : 50it [00:00, 63.79it/s]\n"
     ]
    },
    {
     "name": "stdout",
     "output_type": "stream",
     "text": [
      "\u001b[33mtest_subject: 2\u001b[0m\n",
      "\u001b[1m\u001b[31mShuffle: False\u001b[0m\n",
      "\u001b[33mtorch.Size([4873, 7, 120]), torch.Size([45, 7, 120])\u001b[0m\n",
      "\u001b[32mtorch.Size([4873, 7, 120])\u001b[0m\n"
     ]
    },
    {
     "name": "stderr",
     "output_type": "stream",
     "text": [
      "epoch_acc: 0.55 evalAcc: 0.00 batch_acc: 0.60: : 50it [00:00, 63.00it/s]\n",
      "epoch_acc: 0.68 evalAcc: 0.71 batch_acc: 0.72: : 50it [00:00, 59.89it/s]\n",
      "epoch_acc: 0.73 evalAcc: 0.89 batch_acc: 0.72: : 50it [00:00, 58.42it/s]\n",
      "epoch_acc: 0.73 evalAcc: 0.91 batch_acc: 0.74: : 50it [00:00, 64.34it/s]\n",
      "epoch_acc: 0.73 evalAcc: 0.87 batch_acc: 0.67: : 50it [00:00, 60.79it/s]\n",
      "epoch_acc: 0.74 evalAcc: 0.89 batch_acc: 0.74: : 50it [00:00, 57.04it/s]\n",
      "epoch_acc: 0.75 evalAcc: 0.93 batch_acc: 0.74: : 50it [00:00, 60.07it/s]\n",
      "epoch_acc: 0.74 evalAcc: 0.93 batch_acc: 0.76: : 50it [00:00, 62.20it/s]\n",
      "epoch_acc: 0.75 evalAcc: 0.89 batch_acc: 0.67: : 50it [00:00, 54.88it/s]\n",
      "epoch_acc: 0.74 evalAcc: 0.91 batch_acc: 0.71: : 50it [00:00, 60.26it/s]\n"
     ]
    },
    {
     "name": "stdout",
     "output_type": "stream",
     "text": [
      "\u001b[33mtest_subject: 3\u001b[0m\n",
      "\u001b[1m\u001b[31mShuffle: False\u001b[0m\n",
      "\u001b[33mtorch.Size([4873, 7, 120]), torch.Size([45, 7, 120])\u001b[0m\n",
      "\u001b[32mtorch.Size([4873, 7, 120])\u001b[0m\n"
     ]
    },
    {
     "name": "stderr",
     "output_type": "stream",
     "text": [
      "epoch_acc: 0.61 evalAcc: 0.00 batch_acc: 0.79: : 50it [00:00, 59.71it/s]\n",
      "epoch_acc: 0.72 evalAcc: 0.96 batch_acc: 0.72: : 50it [00:00, 61.28it/s]\n",
      "epoch_acc: 0.73 evalAcc: 0.93 batch_acc: 0.72: : 50it [00:00, 58.46it/s]\n",
      "epoch_acc: 0.74 evalAcc: 0.93 batch_acc: 0.75: : 50it [00:00, 59.02it/s]\n",
      "epoch_acc: 0.74 evalAcc: 0.93 batch_acc: 0.85: : 50it [00:00, 59.99it/s]\n",
      "epoch_acc: 0.74 evalAcc: 0.93 batch_acc: 0.70: : 50it [00:00, 60.17it/s]\n",
      "epoch_acc: 0.74 evalAcc: 0.93 batch_acc: 0.77: : 50it [00:00, 58.87it/s]\n",
      "epoch_acc: 0.75 evalAcc: 0.96 batch_acc: 0.73: : 50it [00:00, 60.94it/s]\n",
      "epoch_acc: 0.74 evalAcc: 0.93 batch_acc: 0.77: : 50it [00:00, 66.76it/s]\n",
      "epoch_acc: 0.75 evalAcc: 0.93 batch_acc: 0.76: : 50it [00:00, 58.36it/s]\n"
     ]
    },
    {
     "name": "stdout",
     "output_type": "stream",
     "text": [
      "\u001b[33mtest_subject: 4\u001b[0m\n",
      "\u001b[1m\u001b[31mShuffle: False\u001b[0m\n",
      "\u001b[33mtorch.Size([4873, 7, 120]), torch.Size([45, 7, 120])\u001b[0m\n",
      "\u001b[32mtorch.Size([4873, 7, 120])\u001b[0m\n"
     ]
    },
    {
     "name": "stderr",
     "output_type": "stream",
     "text": [
      "epoch_acc: 0.59 evalAcc: 0.00 batch_acc: 0.64: : 50it [00:00, 60.76it/s]\n",
      "epoch_acc: 0.70 evalAcc: 0.73 batch_acc: 0.69: : 50it [00:00, 60.99it/s]\n",
      "epoch_acc: 0.73 evalAcc: 0.84 batch_acc: 0.67: : 50it [00:00, 60.82it/s]\n",
      "epoch_acc: 0.74 evalAcc: 0.84 batch_acc: 0.75: : 50it [00:00, 59.76it/s]\n",
      "epoch_acc: 0.74 evalAcc: 0.84 batch_acc: 0.81: : 50it [00:00, 61.01it/s]\n",
      "epoch_acc: 0.74 evalAcc: 0.84 batch_acc: 0.73: : 50it [00:00, 62.40it/s]\n",
      "epoch_acc: 0.74 evalAcc: 0.80 batch_acc: 0.76: : 50it [00:00, 61.16it/s]\n",
      "epoch_acc: 0.75 evalAcc: 0.82 batch_acc: 0.71: : 50it [00:00, 64.68it/s]\n",
      "epoch_acc: 0.74 evalAcc: 0.78 batch_acc: 0.75: : 50it [00:00, 56.25it/s]\n",
      "epoch_acc: 0.74 evalAcc: 0.80 batch_acc: 0.67: : 50it [00:00, 59.95it/s]\n"
     ]
    },
    {
     "name": "stdout",
     "output_type": "stream",
     "text": [
      "\u001b[33mtest_subject: 5\u001b[0m\n",
      "\u001b[1m\u001b[31mShuffle: False\u001b[0m\n",
      "\u001b[33mtorch.Size([4873, 7, 120]), torch.Size([45, 7, 120])\u001b[0m\n",
      "\u001b[32mtorch.Size([4873, 7, 120])\u001b[0m\n"
     ]
    },
    {
     "name": "stderr",
     "output_type": "stream",
     "text": [
      "epoch_acc: 0.62 evalAcc: 0.00 batch_acc: 0.62: : 50it [00:00, 60.40it/s]\n",
      "epoch_acc: 0.70 evalAcc: 0.53 batch_acc: 0.75: : 50it [00:00, 61.62it/s]\n",
      "epoch_acc: 0.72 evalAcc: 0.60 batch_acc: 0.73: : 50it [00:00, 59.91it/s]\n",
      "epoch_acc: 0.73 evalAcc: 0.64 batch_acc: 0.72: : 50it [00:00, 57.16it/s]\n",
      "epoch_acc: 0.74 evalAcc: 0.60 batch_acc: 0.69: : 50it [00:00, 59.11it/s]\n",
      "epoch_acc: 0.74 evalAcc: 0.62 batch_acc: 0.84: : 50it [00:00, 57.27it/s]\n",
      "epoch_acc: 0.75 evalAcc: 0.56 batch_acc: 0.79: : 50it [00:00, 60.88it/s]\n",
      "epoch_acc: 0.74 evalAcc: 0.56 batch_acc: 0.72: : 50it [00:00, 62.05it/s]\n",
      "epoch_acc: 0.75 evalAcc: 0.58 batch_acc: 0.73: : 50it [00:00, 58.71it/s]\n",
      "epoch_acc: 0.75 evalAcc: 0.58 batch_acc: 0.77: : 50it [00:00, 61.90it/s]\n"
     ]
    },
    {
     "name": "stdout",
     "output_type": "stream",
     "text": [
      "\u001b[33mtest_subject: 6\u001b[0m\n",
      "\u001b[1m\u001b[31mShuffle: False\u001b[0m\n",
      "\u001b[33mtorch.Size([4873, 7, 120]), torch.Size([45, 7, 120])\u001b[0m\n",
      "\u001b[32mtorch.Size([4873, 7, 120])\u001b[0m\n"
     ]
    },
    {
     "name": "stderr",
     "output_type": "stream",
     "text": [
      "epoch_acc: 0.59 evalAcc: 0.00 batch_acc: 0.75: : 50it [00:00, 62.05it/s]\n",
      "epoch_acc: 0.69 evalAcc: 0.84 batch_acc: 0.75: : 50it [00:00, 55.51it/s]\n",
      "epoch_acc: 0.72 evalAcc: 0.91 batch_acc: 0.67: : 50it [00:00, 55.52it/s]\n",
      "epoch_acc: 0.74 evalAcc: 0.87 batch_acc: 0.70: : 50it [00:00, 60.23it/s]\n",
      "epoch_acc: 0.73 evalAcc: 0.89 batch_acc: 0.73: : 50it [00:00, 60.68it/s]\n",
      "epoch_acc: 0.73 evalAcc: 0.91 batch_acc: 0.74: : 50it [00:00, 62.25it/s]\n",
      "epoch_acc: 0.74 evalAcc: 0.87 batch_acc: 0.72: : 50it [00:00, 63.20it/s]\n",
      "epoch_acc: 0.74 evalAcc: 0.93 batch_acc: 0.69: : 50it [00:00, 58.80it/s]\n",
      "epoch_acc: 0.74 evalAcc: 0.91 batch_acc: 0.75: : 50it [00:00, 60.58it/s]\n",
      "epoch_acc: 0.75 evalAcc: 0.84 batch_acc: 0.76: : 50it [00:00, 62.93it/s]\n"
     ]
    },
    {
     "name": "stdout",
     "output_type": "stream",
     "text": [
      "\u001b[33mtest_subject: 7\u001b[0m\n",
      "\u001b[1m\u001b[31mShuffle: False\u001b[0m\n",
      "\u001b[33mtorch.Size([4873, 7, 120]), torch.Size([45, 7, 120])\u001b[0m\n",
      "\u001b[32mtorch.Size([4873, 7, 120])\u001b[0m\n"
     ]
    },
    {
     "name": "stderr",
     "output_type": "stream",
     "text": [
      "epoch_acc: 0.61 evalAcc: 0.00 batch_acc: 0.77: : 50it [00:00, 58.95it/s]\n",
      "epoch_acc: 0.71 evalAcc: 0.73 batch_acc: 0.81: : 50it [00:00, 59.82it/s]\n",
      "epoch_acc: 0.73 evalAcc: 0.67 batch_acc: 0.68: : 50it [00:00, 60.32it/s]\n",
      "epoch_acc: 0.74 evalAcc: 0.53 batch_acc: 0.72: : 50it [00:00, 58.36it/s]\n",
      "epoch_acc: 0.75 evalAcc: 0.60 batch_acc: 0.81: : 50it [00:00, 58.24it/s]\n",
      "epoch_acc: 0.75 evalAcc: 0.58 batch_acc: 0.77: : 50it [00:00, 57.85it/s]\n",
      "epoch_acc: 0.74 evalAcc: 0.58 batch_acc: 0.76: : 50it [00:00, 63.22it/s]\n",
      "epoch_acc: 0.74 evalAcc: 0.62 batch_acc: 0.75: : 50it [00:00, 60.42it/s]\n",
      "epoch_acc: 0.75 evalAcc: 0.56 batch_acc: 0.83: : 50it [00:00, 63.36it/s]\n",
      "epoch_acc: 0.75 evalAcc: 0.60 batch_acc: 0.70: : 50it [00:00, 60.76it/s]\n"
     ]
    },
    {
     "name": "stdout",
     "output_type": "stream",
     "text": [
      "\u001b[33mtest_subject: 8\u001b[0m\n",
      "\u001b[1m\u001b[31mShuffle: False\u001b[0m\n",
      "\u001b[33mtorch.Size([4873, 7, 120]), torch.Size([45, 7, 120])\u001b[0m\n",
      "\u001b[32mtorch.Size([4873, 7, 120])\u001b[0m\n"
     ]
    },
    {
     "name": "stderr",
     "output_type": "stream",
     "text": [
      "epoch_acc: 0.59 evalAcc: 0.00 batch_acc: 0.58: : 50it [00:00, 63.91it/s]\n",
      "epoch_acc: 0.68 evalAcc: 0.64 batch_acc: 0.71: : 50it [00:00, 57.59it/s]\n",
      "epoch_acc: 0.72 evalAcc: 0.64 batch_acc: 0.71: : 50it [00:00, 65.98it/s] \n",
      "epoch_acc: 0.73 evalAcc: 0.67 batch_acc: 0.77: : 50it [00:00, 58.23it/s]\n",
      "epoch_acc: 0.74 evalAcc: 0.64 batch_acc: 0.79: : 50it [00:00, 61.00it/s]\n",
      "epoch_acc: 0.74 evalAcc: 0.69 batch_acc: 0.76: : 50it [00:00, 59.51it/s]\n",
      "epoch_acc: 0.74 evalAcc: 0.76 batch_acc: 0.68: : 50it [00:00, 60.83it/s]\n",
      "epoch_acc: 0.74 evalAcc: 0.69 batch_acc: 0.80: : 50it [00:00, 57.58it/s]\n",
      "epoch_acc: 0.74 evalAcc: 0.73 batch_acc: 0.75: : 50it [00:00, 59.22it/s]\n",
      "epoch_acc: 0.75 evalAcc: 0.67 batch_acc: 0.78: : 50it [00:00, 63.64it/s]\n"
     ]
    },
    {
     "name": "stdout",
     "output_type": "stream",
     "text": [
      "\u001b[33mtest_subject: 9\u001b[0m\n",
      "\u001b[1m\u001b[31mShuffle: False\u001b[0m\n",
      "\u001b[33mtorch.Size([4873, 7, 120]), torch.Size([45, 7, 120])\u001b[0m\n",
      "\u001b[32mtorch.Size([4873, 7, 120])\u001b[0m\n"
     ]
    },
    {
     "name": "stderr",
     "output_type": "stream",
     "text": [
      "epoch_acc: 0.61 evalAcc: 0.00 batch_acc: 0.70: : 50it [00:00, 61.54it/s]\n",
      "epoch_acc: 0.72 evalAcc: 0.80 batch_acc: 0.71: : 50it [00:00, 57.68it/s]\n",
      "epoch_acc: 0.73 evalAcc: 0.82 batch_acc: 0.69: : 50it [00:00, 59.90it/s]\n",
      "epoch_acc: 0.74 evalAcc: 0.78 batch_acc: 0.74: : 50it [00:00, 57.55it/s]\n",
      "epoch_acc: 0.74 evalAcc: 0.82 batch_acc: 0.76: : 50it [00:00, 58.76it/s]\n",
      "epoch_acc: 0.75 evalAcc: 0.82 batch_acc: 0.73: : 50it [00:00, 60.26it/s]\n",
      "epoch_acc: 0.74 evalAcc: 0.84 batch_acc: 0.76: : 50it [00:00, 58.83it/s]\n",
      "epoch_acc: 0.74 evalAcc: 0.82 batch_acc: 0.75: : 50it [00:00, 58.75it/s]\n",
      "epoch_acc: 0.75 evalAcc: 0.80 batch_acc: 0.71: : 50it [00:00, 58.72it/s]\n",
      "epoch_acc: 0.75 evalAcc: 0.84 batch_acc: 0.71: : 50it [00:00, 54.89it/s]\n"
     ]
    },
    {
     "name": "stdout",
     "output_type": "stream",
     "text": [
      "\u001b[33mtest_subject: 10\u001b[0m\n",
      "\u001b[1m\u001b[31mShuffle: False\u001b[0m\n",
      "\u001b[33mtorch.Size([4873, 7, 120]), torch.Size([45, 7, 120])\u001b[0m\n",
      "\u001b[32mtorch.Size([4873, 7, 120])\u001b[0m\n"
     ]
    },
    {
     "name": "stderr",
     "output_type": "stream",
     "text": [
      "epoch_acc: 0.62 evalAcc: 0.00 batch_acc: 0.70: : 50it [00:00, 63.52it/s]\n",
      "epoch_acc: 0.72 evalAcc: 0.64 batch_acc: 0.75: : 50it [00:00, 59.02it/s]\n",
      "epoch_acc: 0.73 evalAcc: 0.64 batch_acc: 0.77: : 50it [00:00, 58.34it/s]\n",
      "epoch_acc: 0.74 evalAcc: 0.69 batch_acc: 0.69: : 50it [00:00, 56.76it/s]\n",
      "epoch_acc: 0.74 evalAcc: 0.69 batch_acc: 0.78: : 50it [00:00, 59.83it/s]\n",
      "epoch_acc: 0.74 evalAcc: 0.69 batch_acc: 0.74: : 50it [00:00, 62.37it/s]\n",
      "epoch_acc: 0.75 evalAcc: 0.67 batch_acc: 0.75: : 50it [00:00, 60.44it/s]\n",
      "epoch_acc: 0.75 evalAcc: 0.67 batch_acc: 0.71: : 50it [00:00, 59.19it/s]\n",
      "epoch_acc: 0.75 evalAcc: 0.71 batch_acc: 0.72: : 50it [00:00, 66.28it/s]\n",
      "epoch_acc: 0.76 evalAcc: 0.67 batch_acc: 0.81: : 50it [00:00, 58.10it/s]\n"
     ]
    },
    {
     "name": "stdout",
     "output_type": "stream",
     "text": [
      "\u001b[33mtest_subject: 11\u001b[0m\n",
      "\u001b[1m\u001b[31mShuffle: False\u001b[0m\n",
      "\u001b[33mtorch.Size([4873, 7, 120]), torch.Size([45, 7, 120])\u001b[0m\n",
      "\u001b[32mtorch.Size([4873, 7, 120])\u001b[0m\n"
     ]
    },
    {
     "name": "stderr",
     "output_type": "stream",
     "text": [
      "epoch_acc: 0.63 evalAcc: 0.00 batch_acc: 0.69: : 50it [00:00, 62.53it/s]\n",
      "epoch_acc: 0.72 evalAcc: 0.82 batch_acc: 0.78: : 50it [00:00, 61.28it/s]\n",
      "epoch_acc: 0.73 evalAcc: 0.78 batch_acc: 0.67: : 50it [00:00, 61.04it/s]\n",
      "epoch_acc: 0.74 evalAcc: 0.80 batch_acc: 0.73: : 50it [00:00, 61.07it/s]\n",
      "epoch_acc: 0.75 evalAcc: 0.84 batch_acc: 0.74: : 50it [00:00, 61.33it/s]\n",
      "epoch_acc: 0.74 evalAcc: 0.82 batch_acc: 0.73: : 50it [00:00, 59.80it/s]\n",
      "epoch_acc: 0.74 evalAcc: 0.80 batch_acc: 0.79: : 50it [00:00, 60.24it/s]\n",
      "epoch_acc: 0.75 evalAcc: 0.80 batch_acc: 0.85: : 50it [00:00, 62.64it/s]\n",
      "epoch_acc: 0.75 evalAcc: 0.80 batch_acc: 0.70: : 50it [00:00, 59.21it/s]\n",
      "epoch_acc: 0.75 evalAcc: 0.78 batch_acc: 0.83: : 50it [00:00, 65.17it/s]\n"
     ]
    },
    {
     "name": "stdout",
     "output_type": "stream",
     "text": [
      "\u001b[33mtest_subject: 12\u001b[0m\n",
      "\u001b[1m\u001b[31mShuffle: False\u001b[0m\n",
      "\u001b[33mtorch.Size([4873, 7, 120]), torch.Size([45, 7, 120])\u001b[0m\n",
      "\u001b[32mtorch.Size([4873, 7, 120])\u001b[0m\n"
     ]
    },
    {
     "name": "stderr",
     "output_type": "stream",
     "text": [
      "epoch_acc: 0.60 evalAcc: 0.00 batch_acc: 0.65: : 50it [00:00, 62.36it/s]\n",
      "epoch_acc: 0.72 evalAcc: 0.73 batch_acc: 0.76: : 50it [00:00, 60.52it/s]\n",
      "epoch_acc: 0.73 evalAcc: 0.80 batch_acc: 0.74: : 50it [00:00, 58.31it/s]\n",
      "epoch_acc: 0.73 evalAcc: 0.78 batch_acc: 0.78: : 50it [00:00, 58.02it/s]\n",
      "epoch_acc: 0.73 evalAcc: 0.71 batch_acc: 0.74: : 50it [00:00, 61.57it/s]\n",
      "epoch_acc: 0.74 evalAcc: 0.78 batch_acc: 0.77: : 50it [00:00, 57.68it/s]\n",
      "epoch_acc: 0.74 evalAcc: 0.80 batch_acc: 0.71: : 50it [00:00, 54.62it/s]\n",
      "epoch_acc: 0.75 evalAcc: 0.80 batch_acc: 0.81: : 50it [00:00, 60.23it/s]\n",
      "epoch_acc: 0.75 evalAcc: 0.80 batch_acc: 0.77: : 50it [00:00, 59.28it/s]\n",
      "epoch_acc: 0.75 evalAcc: 0.80 batch_acc: 0.72: : 50it [00:00, 62.83it/s]\n"
     ]
    },
    {
     "name": "stdout",
     "output_type": "stream",
     "text": [
      "\u001b[33mtest_subject: 13\u001b[0m\n",
      "\u001b[1m\u001b[31mShuffle: False\u001b[0m\n",
      "\u001b[33mtorch.Size([4873, 7, 120]), torch.Size([45, 7, 120])\u001b[0m\n",
      "\u001b[32mtorch.Size([4873, 7, 120])\u001b[0m\n"
     ]
    },
    {
     "name": "stderr",
     "output_type": "stream",
     "text": [
      "epoch_acc: 0.59 evalAcc: 0.00 batch_acc: 0.54: : 50it [00:00, 60.43it/s]\n",
      "epoch_acc: 0.70 evalAcc: 0.62 batch_acc: 0.75: : 50it [00:00, 60.83it/s]\n",
      "epoch_acc: 0.73 evalAcc: 0.64 batch_acc: 0.79: : 50it [00:00, 60.04it/s]\n",
      "epoch_acc: 0.73 evalAcc: 0.71 batch_acc: 0.72: : 50it [00:00, 61.64it/s]\n",
      "epoch_acc: 0.73 evalAcc: 0.62 batch_acc: 0.82: : 50it [00:00, 57.89it/s]\n",
      "epoch_acc: 0.74 evalAcc: 0.71 batch_acc: 0.69: : 50it [00:00, 57.50it/s]\n",
      "epoch_acc: 0.75 evalAcc: 0.71 batch_acc: 0.71: : 50it [00:00, 59.27it/s]\n",
      "epoch_acc: 0.75 evalAcc: 0.73 batch_acc: 0.77: : 50it [00:00, 61.20it/s]\n",
      "epoch_acc: 0.75 evalAcc: 0.73 batch_acc: 0.74: : 50it [00:00, 58.75it/s]\n",
      "epoch_acc: 0.74 evalAcc: 0.78 batch_acc: 0.77: : 50it [00:00, 58.00it/s]\n"
     ]
    },
    {
     "name": "stdout",
     "output_type": "stream",
     "text": [
      "\u001b[33mtest_subject: 14\u001b[0m\n",
      "\u001b[1m\u001b[31mShuffle: False\u001b[0m\n",
      "\u001b[33mtorch.Size([4873, 7, 120]), torch.Size([45, 7, 120])\u001b[0m\n",
      "\u001b[32mtorch.Size([4873, 7, 120])\u001b[0m\n"
     ]
    },
    {
     "name": "stderr",
     "output_type": "stream",
     "text": [
      "epoch_acc: 0.63 evalAcc: 0.00 batch_acc: 0.66: : 50it [00:00, 62.67it/s]\n",
      "epoch_acc: 0.72 evalAcc: 0.62 batch_acc: 0.70: : 50it [00:00, 59.78it/s]\n",
      "epoch_acc: 0.74 evalAcc: 0.67 batch_acc: 0.76: : 50it [00:00, 60.71it/s]\n",
      "epoch_acc: 0.74 evalAcc: 0.62 batch_acc: 0.75: : 50it [00:00, 62.79it/s]\n",
      "epoch_acc: 0.74 evalAcc: 0.60 batch_acc: 0.74: : 50it [00:00, 59.77it/s]\n",
      "epoch_acc: 0.74 evalAcc: 0.60 batch_acc: 0.69: : 50it [00:00, 58.42it/s]\n",
      "epoch_acc: 0.74 evalAcc: 0.60 batch_acc: 0.69: : 50it [00:00, 55.64it/s]\n",
      "epoch_acc: 0.75 evalAcc: 0.62 batch_acc: 0.77: : 50it [00:00, 60.08it/s]\n",
      "epoch_acc: 0.75 evalAcc: 0.58 batch_acc: 0.77: : 50it [00:00, 57.93it/s]\n",
      "epoch_acc: 0.75 evalAcc: 0.58 batch_acc: 0.78: : 50it [00:00, 56.40it/s]\n"
     ]
    },
    {
     "name": "stdout",
     "output_type": "stream",
     "text": [
      "\u001b[33mtest_subject: 15\u001b[0m\n",
      "\u001b[1m\u001b[31mShuffle: False\u001b[0m\n",
      "\u001b[33mtorch.Size([4873, 7, 120]), torch.Size([45, 7, 120])\u001b[0m\n",
      "\u001b[32mtorch.Size([4873, 7, 120])\u001b[0m\n"
     ]
    },
    {
     "name": "stderr",
     "output_type": "stream",
     "text": [
      "epoch_acc: 0.61 evalAcc: 0.00 batch_acc: 0.72: : 50it [00:00, 59.52it/s]\n",
      "epoch_acc: 0.69 evalAcc: 0.80 batch_acc: 0.67: : 50it [00:00, 60.79it/s]\n",
      "epoch_acc: 0.73 evalAcc: 0.89 batch_acc: 0.81: : 50it [00:00, 59.73it/s]\n",
      "epoch_acc: 0.73 evalAcc: 0.98 batch_acc: 0.68: : 50it [00:00, 59.42it/s]\n",
      "epoch_acc: 0.74 evalAcc: 0.93 batch_acc: 0.74: : 50it [00:00, 62.99it/s]\n",
      "epoch_acc: 0.75 evalAcc: 0.96 batch_acc: 0.71: : 50it [00:00, 61.25it/s]\n",
      "epoch_acc: 0.74 evalAcc: 0.96 batch_acc: 0.76: : 50it [00:00, 59.85it/s]\n",
      "epoch_acc: 0.75 evalAcc: 0.96 batch_acc: 0.78: : 50it [00:00, 58.28it/s]\n",
      "epoch_acc: 0.74 evalAcc: 0.96 batch_acc: 0.73: : 50it [00:00, 59.56it/s]\n",
      "epoch_acc: 0.75 evalAcc: 0.93 batch_acc: 0.77: : 50it [00:00, 59.12it/s]\n"
     ]
    },
    {
     "name": "stdout",
     "output_type": "stream",
     "text": [
      "\u001b[33mtest_subject: 16\u001b[0m\n",
      "\u001b[1m\u001b[31mShuffle: False\u001b[0m\n",
      "\u001b[33mtorch.Size([4873, 7, 120]), torch.Size([45, 7, 120])\u001b[0m\n",
      "\u001b[32mtorch.Size([4873, 7, 120])\u001b[0m\n"
     ]
    },
    {
     "name": "stderr",
     "output_type": "stream",
     "text": [
      "epoch_acc: 0.62 evalAcc: 0.00 batch_acc: 0.68: : 50it [00:00, 62.24it/s]\n",
      "epoch_acc: 0.71 evalAcc: 0.62 batch_acc: 0.71: : 50it [00:00, 57.92it/s]\n",
      "epoch_acc: 0.72 evalAcc: 0.64 batch_acc: 0.72: : 50it [00:00, 64.08it/s]\n",
      "epoch_acc: 0.72 evalAcc: 0.67 batch_acc: 0.68: : 50it [00:00, 61.09it/s]\n",
      "epoch_acc: 0.74 evalAcc: 0.60 batch_acc: 0.76: : 50it [00:00, 63.35it/s]\n",
      "epoch_acc: 0.73 evalAcc: 0.62 batch_acc: 0.75: : 50it [00:00, 64.05it/s]\n",
      "epoch_acc: 0.74 evalAcc: 0.64 batch_acc: 0.73: : 50it [00:00, 61.79it/s]\n",
      "epoch_acc: 0.74 evalAcc: 0.64 batch_acc: 0.73: : 50it [00:00, 62.42it/s]\n",
      "epoch_acc: 0.75 evalAcc: 0.60 batch_acc: 0.77: : 50it [00:00, 56.42it/s]\n",
      "epoch_acc: 0.75 evalAcc: 0.62 batch_acc: 0.75: : 50it [00:00, 60.54it/s]\n"
     ]
    },
    {
     "name": "stdout",
     "output_type": "stream",
     "text": [
      "\u001b[33mtest_subject: 17\u001b[0m\n",
      "\u001b[1m\u001b[31mShuffle: False\u001b[0m\n",
      "\u001b[33mtorch.Size([4873, 7, 120]), torch.Size([45, 7, 120])\u001b[0m\n",
      "\u001b[32mtorch.Size([4873, 7, 120])\u001b[0m\n"
     ]
    },
    {
     "name": "stderr",
     "output_type": "stream",
     "text": [
      "epoch_acc: 0.62 evalAcc: 0.00 batch_acc: 0.62: : 50it [00:00, 58.65it/s]\n",
      "epoch_acc: 0.70 evalAcc: 0.76 batch_acc: 0.69: : 50it [00:00, 60.43it/s]\n",
      "epoch_acc: 0.72 evalAcc: 0.78 batch_acc: 0.71: : 50it [00:00, 61.17it/s]\n",
      "epoch_acc: 0.73 evalAcc: 0.80 batch_acc: 0.79: : 50it [00:00, 59.69it/s]\n",
      "epoch_acc: 0.73 evalAcc: 0.78 batch_acc: 0.68: : 50it [00:00, 58.88it/s]\n",
      "epoch_acc: 0.73 evalAcc: 0.78 batch_acc: 0.68: : 50it [00:00, 60.76it/s]\n",
      "epoch_acc: 0.74 evalAcc: 0.78 batch_acc: 0.69: : 50it [00:00, 62.77it/s]\n",
      "epoch_acc: 0.74 evalAcc: 0.80 batch_acc: 0.68: : 50it [00:00, 60.87it/s]\n",
      "epoch_acc: 0.74 evalAcc: 0.80 batch_acc: 0.71: : 50it [00:00, 62.35it/s]\n",
      "epoch_acc: 0.74 evalAcc: 0.80 batch_acc: 0.76: : 50it [00:00, 60.30it/s]\n"
     ]
    },
    {
     "name": "stdout",
     "output_type": "stream",
     "text": [
      "\u001b[33mtest_subject: 18\u001b[0m\n",
      "\u001b[1m\u001b[31mShuffle: False\u001b[0m\n",
      "\u001b[33mtorch.Size([4873, 7, 120]), torch.Size([45, 7, 120])\u001b[0m\n",
      "\u001b[32mtorch.Size([4873, 7, 120])\u001b[0m\n"
     ]
    },
    {
     "name": "stderr",
     "output_type": "stream",
     "text": [
      "epoch_acc: 0.56 evalAcc: 0.00 batch_acc: 0.67: : 50it [00:00, 60.34it/s]\n",
      "epoch_acc: 0.71 evalAcc: 0.96 batch_acc: 0.73: : 50it [00:00, 57.65it/s]\n",
      "epoch_acc: 0.73 evalAcc: 0.98 batch_acc: 0.76: : 50it [00:00, 61.91it/s]\n",
      "epoch_acc: 0.73 evalAcc: 0.98 batch_acc: 0.70: : 50it [00:00, 63.44it/s]\n",
      "epoch_acc: 0.73 evalAcc: 0.98 batch_acc: 0.72: : 50it [00:00, 55.15it/s]\n",
      "epoch_acc: 0.74 evalAcc: 0.98 batch_acc: 0.77: : 50it [00:00, 61.32it/s]\n",
      "epoch_acc: 0.74 evalAcc: 0.98 batch_acc: 0.81: : 50it [00:00, 59.08it/s]\n",
      "epoch_acc: 0.73 evalAcc: 0.96 batch_acc: 0.71: : 50it [00:00, 60.06it/s]\n",
      "epoch_acc: 0.74 evalAcc: 0.98 batch_acc: 0.67: : 50it [00:00, 54.65it/s]\n",
      "epoch_acc: 0.74 evalAcc: 0.98 batch_acc: 0.74: : 50it [00:00, 59.77it/s]\n"
     ]
    },
    {
     "name": "stdout",
     "output_type": "stream",
     "text": [
      "\u001b[33mtest_subject: 19\u001b[0m\n",
      "\u001b[1m\u001b[31mShuffle: False\u001b[0m\n",
      "\u001b[33mtorch.Size([4873, 7, 120]), torch.Size([45, 7, 120])\u001b[0m\n",
      "\u001b[32mtorch.Size([4873, 7, 120])\u001b[0m\n"
     ]
    },
    {
     "name": "stderr",
     "output_type": "stream",
     "text": [
      "epoch_acc: 0.63 evalAcc: 0.00 batch_acc: 0.78: : 50it [00:00, 66.57it/s]\n",
      "epoch_acc: 0.71 evalAcc: 0.71 batch_acc: 0.74: : 50it [00:00, 62.67it/s]\n",
      "epoch_acc: 0.74 evalAcc: 0.76 batch_acc: 0.71: : 50it [00:00, 59.15it/s]\n",
      "epoch_acc: 0.75 evalAcc: 0.67 batch_acc: 0.79: : 50it [00:00, 59.64it/s]\n",
      "epoch_acc: 0.74 evalAcc: 0.71 batch_acc: 0.65: : 50it [00:00, 60.35it/s]\n",
      "epoch_acc: 0.75 evalAcc: 0.73 batch_acc: 0.75: : 50it [00:00, 58.29it/s]\n",
      "epoch_acc: 0.75 evalAcc: 0.73 batch_acc: 0.71: : 50it [00:00, 56.84it/s]\n",
      "epoch_acc: 0.75 evalAcc: 0.71 batch_acc: 0.71: : 50it [00:00, 58.21it/s]\n",
      "epoch_acc: 0.74 evalAcc: 0.69 batch_acc: 0.74: : 50it [00:00, 59.57it/s]\n",
      "epoch_acc: 0.75 evalAcc: 0.73 batch_acc: 0.74: : 50it [00:00, 62.75it/s]\n"
     ]
    },
    {
     "name": "stdout",
     "output_type": "stream",
     "text": [
      "\u001b[33mtest_subject: 20\u001b[0m\n",
      "\u001b[1m\u001b[31mShuffle: False\u001b[0m\n",
      "\u001b[33mtorch.Size([4873, 7, 120]), torch.Size([45, 7, 120])\u001b[0m\n",
      "\u001b[32mtorch.Size([4873, 7, 120])\u001b[0m\n"
     ]
    },
    {
     "name": "stderr",
     "output_type": "stream",
     "text": [
      "epoch_acc: 0.59 evalAcc: 0.00 batch_acc: 0.65: : 50it [00:00, 57.66it/s]\n",
      "epoch_acc: 0.70 evalAcc: 0.71 batch_acc: 0.75: : 50it [00:00, 61.08it/s]\n",
      "epoch_acc: 0.73 evalAcc: 0.78 batch_acc: 0.73: : 50it [00:00, 63.35it/s]\n",
      "epoch_acc: 0.73 evalAcc: 0.80 batch_acc: 0.72: : 50it [00:00, 63.68it/s]\n",
      "epoch_acc: 0.74 evalAcc: 0.82 batch_acc: 0.71: : 50it [00:00, 61.02it/s]\n",
      "epoch_acc: 0.74 evalAcc: 0.73 batch_acc: 0.77: : 50it [00:00, 64.02it/s]\n",
      "epoch_acc: 0.74 evalAcc: 0.80 batch_acc: 0.70: : 50it [00:00, 62.14it/s]\n",
      "epoch_acc: 0.74 evalAcc: 0.73 batch_acc: 0.68: : 50it [00:00, 59.19it/s]\n",
      "epoch_acc: 0.74 evalAcc: 0.76 batch_acc: 0.69: : 50it [00:00, 58.86it/s]\n",
      "epoch_acc: 0.75 evalAcc: 0.82 batch_acc: 0.76: : 50it [00:00, 59.69it/s]\n"
     ]
    },
    {
     "name": "stdout",
     "output_type": "stream",
     "text": [
      "\u001b[33mtest_subject: 21\u001b[0m\n",
      "\u001b[1m\u001b[31mShuffle: False\u001b[0m\n",
      "\u001b[33mtorch.Size([4873, 7, 120]), torch.Size([45, 7, 120])\u001b[0m\n",
      "\u001b[32mtorch.Size([4873, 7, 120])\u001b[0m\n"
     ]
    },
    {
     "name": "stderr",
     "output_type": "stream",
     "text": [
      "epoch_acc: 0.61 evalAcc: 0.00 batch_acc: 0.72: : 50it [00:00, 59.40it/s]\n",
      "epoch_acc: 0.71 evalAcc: 0.71 batch_acc: 0.72: : 50it [00:00, 57.21it/s]\n",
      "epoch_acc: 0.74 evalAcc: 0.69 batch_acc: 0.82: : 50it [00:00, 59.94it/s]\n",
      "epoch_acc: 0.73 evalAcc: 0.64 batch_acc: 0.67: : 50it [00:00, 59.14it/s]\n",
      "epoch_acc: 0.74 evalAcc: 0.71 batch_acc: 0.74: : 50it [00:00, 58.43it/s]\n",
      "epoch_acc: 0.74 evalAcc: 0.69 batch_acc: 0.66: : 50it [00:00, 58.11it/s]\n",
      "epoch_acc: 0.74 evalAcc: 0.80 batch_acc: 0.73: : 50it [00:00, 58.52it/s]\n",
      "epoch_acc: 0.75 evalAcc: 0.71 batch_acc: 0.78: : 50it [00:00, 57.43it/s]\n",
      "epoch_acc: 0.75 evalAcc: 0.69 batch_acc: 0.78: : 50it [00:00, 56.49it/s]\n",
      "epoch_acc: 0.75 evalAcc: 0.73 batch_acc: 0.78: : 50it [00:00, 57.84it/s]\n"
     ]
    },
    {
     "name": "stdout",
     "output_type": "stream",
     "text": [
      "\u001b[33mtest_subject: 22\u001b[0m\n",
      "\u001b[1m\u001b[31mShuffle: False\u001b[0m\n",
      "\u001b[33mtorch.Size([4873, 7, 120]), torch.Size([45, 7, 120])\u001b[0m\n",
      "\u001b[32mtorch.Size([4873, 7, 120])\u001b[0m\n"
     ]
    },
    {
     "name": "stderr",
     "output_type": "stream",
     "text": [
      "epoch_acc: 0.58 evalAcc: 0.00 batch_acc: 0.69: : 50it [00:00, 62.16it/s]\n",
      "epoch_acc: 0.69 evalAcc: 0.96 batch_acc: 0.79: : 50it [00:00, 61.84it/s]\n",
      "epoch_acc: 0.73 evalAcc: 0.98 batch_acc: 0.67: : 50it [00:00, 60.66it/s]\n",
      "epoch_acc: 0.72 evalAcc: 1.00 batch_acc: 0.76: : 50it [00:00, 63.04it/s]\n",
      "epoch_acc: 0.74 evalAcc: 1.00 batch_acc: 0.78: : 50it [00:00, 56.44it/s]\n",
      "epoch_acc: 0.73 evalAcc: 1.00 batch_acc: 0.81: : 50it [00:00, 60.51it/s]\n",
      "epoch_acc: 0.74 evalAcc: 1.00 batch_acc: 0.74: : 50it [00:00, 62.95it/s]\n",
      "epoch_acc: 0.74 evalAcc: 1.00 batch_acc: 0.76: : 50it [00:00, 60.60it/s]\n",
      "epoch_acc: 0.74 evalAcc: 1.00 batch_acc: 0.71: : 50it [00:00, 57.21it/s]\n",
      "epoch_acc: 0.74 evalAcc: 1.00 batch_acc: 0.70: : 50it [00:00, 61.62it/s]\n"
     ]
    },
    {
     "name": "stdout",
     "output_type": "stream",
     "text": [
      "\u001b[33mtest_subject: 23\u001b[0m\n",
      "\u001b[1m\u001b[31mShuffle: False\u001b[0m\n",
      "\u001b[33mtorch.Size([4873, 7, 120]), torch.Size([45, 7, 120])\u001b[0m\n",
      "\u001b[32mtorch.Size([4873, 7, 120])\u001b[0m\n"
     ]
    },
    {
     "name": "stderr",
     "output_type": "stream",
     "text": [
      "epoch_acc: 0.58 evalAcc: 0.00 batch_acc: 0.65: : 50it [00:00, 59.74it/s]\n",
      "epoch_acc: 0.69 evalAcc: 0.67 batch_acc: 0.76: : 50it [00:00, 57.36it/s]\n",
      "epoch_acc: 0.72 evalAcc: 0.76 batch_acc: 0.78: : 50it [00:00, 55.63it/s]\n",
      "epoch_acc: 0.73 evalAcc: 0.73 batch_acc: 0.73: : 50it [00:00, 61.75it/s]\n",
      "epoch_acc: 0.74 evalAcc: 0.80 batch_acc: 0.70: : 50it [00:00, 59.58it/s]\n",
      "epoch_acc: 0.74 evalAcc: 0.80 batch_acc: 0.74: : 50it [00:00, 61.26it/s]\n",
      "epoch_acc: 0.74 evalAcc: 0.80 batch_acc: 0.76: : 50it [00:00, 62.22it/s]\n",
      "epoch_acc: 0.75 evalAcc: 0.84 batch_acc: 0.78: : 50it [00:00, 64.93it/s]\n",
      "epoch_acc: 0.75 evalAcc: 0.80 batch_acc: 0.77: : 50it [00:00, 60.52it/s]\n",
      "epoch_acc: 0.75 evalAcc: 0.80 batch_acc: 0.77: : 50it [00:00, 66.66it/s]\n"
     ]
    },
    {
     "name": "stdout",
     "output_type": "stream",
     "text": [
      "\u001b[33mtest_subject: 24\u001b[0m\n",
      "\u001b[1m\u001b[31mShuffle: False\u001b[0m\n",
      "\u001b[33mtorch.Size([4873, 7, 120]), torch.Size([45, 7, 120])\u001b[0m\n",
      "\u001b[32mtorch.Size([4873, 7, 120])\u001b[0m\n"
     ]
    },
    {
     "name": "stderr",
     "output_type": "stream",
     "text": [
      "epoch_acc: 0.64 evalAcc: 0.00 batch_acc: 0.72: : 50it [00:00, 58.11it/s]\n",
      "epoch_acc: 0.72 evalAcc: 0.69 batch_acc: 0.79: : 50it [00:00, 64.71it/s]\n",
      "epoch_acc: 0.74 evalAcc: 0.78 batch_acc: 0.76: : 50it [00:00, 62.24it/s]\n",
      "epoch_acc: 0.74 evalAcc: 0.80 batch_acc: 0.79: : 50it [00:00, 60.55it/s]\n",
      "epoch_acc: 0.73 evalAcc: 0.80 batch_acc: 0.70: : 50it [00:00, 58.59it/s]\n",
      "epoch_acc: 0.75 evalAcc: 0.80 batch_acc: 0.84: : 50it [00:00, 58.12it/s]\n",
      "epoch_acc: 0.75 evalAcc: 0.71 batch_acc: 0.71: : 50it [00:00, 63.03it/s]\n",
      "epoch_acc: 0.74 evalAcc: 0.80 batch_acc: 0.73: : 50it [00:00, 56.10it/s]\n",
      "epoch_acc: 0.76 evalAcc: 0.78 batch_acc: 0.70: : 50it [00:00, 60.28it/s]\n",
      "epoch_acc: 0.74 evalAcc: 0.73 batch_acc: 0.76: : 50it [00:00, 55.81it/s]\n"
     ]
    },
    {
     "name": "stdout",
     "output_type": "stream",
     "text": [
      "\u001b[33mtest_subject: 25\u001b[0m\n",
      "\u001b[1m\u001b[31mShuffle: False\u001b[0m\n",
      "\u001b[33mtorch.Size([4873, 7, 120]), torch.Size([45, 7, 120])\u001b[0m\n",
      "\u001b[32mtorch.Size([4873, 7, 120])\u001b[0m\n"
     ]
    },
    {
     "name": "stderr",
     "output_type": "stream",
     "text": [
      "epoch_acc: 0.64 evalAcc: 0.00 batch_acc: 0.70: : 50it [00:00, 57.76it/s]\n",
      "epoch_acc: 0.72 evalAcc: 0.38 batch_acc: 0.73: : 50it [00:00, 61.11it/s]\n",
      "epoch_acc: 0.73 evalAcc: 0.44 batch_acc: 0.76: : 50it [00:00, 61.87it/s]\n",
      "epoch_acc: 0.74 evalAcc: 0.47 batch_acc: 0.70: : 50it [00:00, 64.73it/s]\n",
      "epoch_acc: 0.74 evalAcc: 0.51 batch_acc: 0.79: : 50it [00:00, 58.45it/s]\n",
      "epoch_acc: 0.75 evalAcc: 0.44 batch_acc: 0.77: : 50it [00:00, 60.77it/s]\n",
      "epoch_acc: 0.75 evalAcc: 0.53 batch_acc: 0.74: : 50it [00:00, 64.76it/s]\n",
      "epoch_acc: 0.75 evalAcc: 0.56 batch_acc: 0.71: : 50it [00:00, 60.38it/s]\n",
      "epoch_acc: 0.75 evalAcc: 0.47 batch_acc: 0.77: : 50it [00:00, 55.98it/s]\n",
      "epoch_acc: 0.75 evalAcc: 0.53 batch_acc: 0.74: : 50it [00:00, 60.17it/s]\n"
     ]
    },
    {
     "name": "stdout",
     "output_type": "stream",
     "text": [
      "\u001b[33mtest_subject: 26\u001b[0m\n",
      "\u001b[1m\u001b[31mShuffle: False\u001b[0m\n",
      "\u001b[33mtorch.Size([4873, 7, 120]), torch.Size([45, 7, 120])\u001b[0m\n",
      "\u001b[32mtorch.Size([4873, 7, 120])\u001b[0m\n"
     ]
    },
    {
     "name": "stderr",
     "output_type": "stream",
     "text": [
      "epoch_acc: 0.60 evalAcc: 0.00 batch_acc: 0.67: : 50it [00:00, 65.65it/s]\n",
      "epoch_acc: 0.71 evalAcc: 0.62 batch_acc: 0.73: : 50it [00:00, 60.89it/s]\n",
      "epoch_acc: 0.73 evalAcc: 0.60 batch_acc: 0.80: : 50it [00:00, 59.19it/s]\n",
      "epoch_acc: 0.74 evalAcc: 0.58 batch_acc: 0.74: : 50it [00:00, 58.72it/s]\n",
      "epoch_acc: 0.74 evalAcc: 0.58 batch_acc: 0.75: : 50it [00:00, 62.94it/s]\n",
      "epoch_acc: 0.75 evalAcc: 0.60 batch_acc: 0.81: : 50it [00:00, 60.18it/s]\n",
      "epoch_acc: 0.75 evalAcc: 0.62 batch_acc: 0.74: : 50it [00:00, 58.57it/s]\n",
      "epoch_acc: 0.75 evalAcc: 0.56 batch_acc: 0.73: : 50it [00:00, 60.57it/s]\n",
      "epoch_acc: 0.75 evalAcc: 0.60 batch_acc: 0.74: : 50it [00:00, 58.63it/s]\n",
      "epoch_acc: 0.75 evalAcc: 0.60 batch_acc: 0.74: : 50it [00:00, 55.92it/s]\n"
     ]
    },
    {
     "name": "stdout",
     "output_type": "stream",
     "text": [
      "\u001b[33mtest_subject: 27\u001b[0m\n",
      "\u001b[1m\u001b[31mShuffle: False\u001b[0m\n",
      "\u001b[33mtorch.Size([4873, 7, 120]), torch.Size([45, 7, 120])\u001b[0m\n",
      "\u001b[32mtorch.Size([4873, 7, 120])\u001b[0m\n"
     ]
    },
    {
     "name": "stderr",
     "output_type": "stream",
     "text": [
      "epoch_acc: 0.59 evalAcc: 0.00 batch_acc: 0.73: : 50it [00:00, 59.22it/s]\n",
      "epoch_acc: 0.71 evalAcc: 0.73 batch_acc: 0.75: : 50it [00:00, 57.22it/s]\n",
      "epoch_acc: 0.73 evalAcc: 0.84 batch_acc: 0.79: : 50it [00:00, 57.88it/s]\n",
      "epoch_acc: 0.74 evalAcc: 0.73 batch_acc: 0.75: : 50it [00:00, 57.15it/s]\n",
      "epoch_acc: 0.74 evalAcc: 0.78 batch_acc: 0.65: : 50it [00:00, 61.86it/s]\n",
      "epoch_acc: 0.74 evalAcc: 0.78 batch_acc: 0.75: : 50it [00:00, 61.90it/s]\n",
      "epoch_acc: 0.74 evalAcc: 0.73 batch_acc: 0.72: : 50it [00:00, 59.54it/s]\n",
      "epoch_acc: 0.75 evalAcc: 0.76 batch_acc: 0.78: : 50it [00:00, 53.94it/s]\n",
      "epoch_acc: 0.75 evalAcc: 0.78 batch_acc: 0.79: : 50it [00:01, 49.57it/s]\n",
      "epoch_acc: 0.75 evalAcc: 0.80 batch_acc: 0.75: : 50it [00:00, 53.87it/s]\n"
     ]
    },
    {
     "name": "stdout",
     "output_type": "stream",
     "text": [
      "\u001b[33mtest_subject: 28\u001b[0m\n",
      "\u001b[1m\u001b[31mShuffle: False\u001b[0m\n",
      "\u001b[33mtorch.Size([4873, 7, 120]), torch.Size([45, 7, 120])\u001b[0m\n",
      "\u001b[32mtorch.Size([4873, 7, 120])\u001b[0m\n"
     ]
    },
    {
     "name": "stderr",
     "output_type": "stream",
     "text": [
      "epoch_acc: 0.60 evalAcc: 0.00 batch_acc: 0.67: : 50it [00:00, 55.50it/s]\n",
      "epoch_acc: 0.71 evalAcc: 0.62 batch_acc: 0.71: : 50it [00:00, 59.36it/s]\n",
      "epoch_acc: 0.71 evalAcc: 0.56 batch_acc: 0.81: : 50it [00:00, 61.38it/s]\n",
      "epoch_acc: 0.73 evalAcc: 0.58 batch_acc: 0.65: : 50it [00:00, 64.00it/s]\n",
      "epoch_acc: 0.73 evalAcc: 0.62 batch_acc: 0.74: : 50it [00:00, 59.42it/s]\n",
      "epoch_acc: 0.75 evalAcc: 0.62 batch_acc: 0.72: : 50it [00:00, 60.18it/s]\n",
      "epoch_acc: 0.74 evalAcc: 0.62 batch_acc: 0.76: : 50it [00:00, 56.70it/s]\n",
      "epoch_acc: 0.75 evalAcc: 0.64 batch_acc: 0.65: : 50it [00:00, 55.62it/s]\n",
      "epoch_acc: 0.75 evalAcc: 0.60 batch_acc: 0.77: : 50it [00:00, 60.99it/s]\n",
      "epoch_acc: 0.76 evalAcc: 0.62 batch_acc: 0.83: : 50it [00:00, 58.91it/s]\n"
     ]
    },
    {
     "name": "stdout",
     "output_type": "stream",
     "text": [
      "\u001b[33mtest_subject: 29\u001b[0m\n",
      "\u001b[1m\u001b[31mShuffle: False\u001b[0m\n",
      "\u001b[33mtorch.Size([4873, 7, 120]), torch.Size([45, 7, 120])\u001b[0m\n",
      "\u001b[32mtorch.Size([4873, 7, 120])\u001b[0m\n"
     ]
    },
    {
     "name": "stderr",
     "output_type": "stream",
     "text": [
      "epoch_acc: 0.60 evalAcc: 0.00 batch_acc: 0.56: : 50it [00:00, 59.00it/s]\n",
      "epoch_acc: 0.69 evalAcc: 0.73 batch_acc: 0.70: : 50it [00:00, 57.77it/s]\n",
      "epoch_acc: 0.71 evalAcc: 0.78 batch_acc: 0.67: : 50it [00:00, 58.08it/s]\n",
      "epoch_acc: 0.73 evalAcc: 0.67 batch_acc: 0.69: : 50it [00:00, 60.62it/s]\n",
      "epoch_acc: 0.73 evalAcc: 0.76 batch_acc: 0.73: : 50it [00:00, 60.42it/s]\n",
      "epoch_acc: 0.74 evalAcc: 0.69 batch_acc: 0.68: : 50it [00:00, 62.21it/s]\n",
      "epoch_acc: 0.75 evalAcc: 0.71 batch_acc: 0.78: : 50it [00:00, 61.57it/s]\n",
      "epoch_acc: 0.74 evalAcc: 0.78 batch_acc: 0.74: : 50it [00:00, 62.69it/s]\n",
      "epoch_acc: 0.75 evalAcc: 0.67 batch_acc: 0.79: : 50it [00:01, 42.16it/s]\n",
      "epoch_acc: 0.75 evalAcc: 0.73 batch_acc: 0.74: : 50it [00:01, 34.64it/s]\n"
     ]
    },
    {
     "name": "stdout",
     "output_type": "stream",
     "text": [
      "\u001b[33mtest_subject: 30\u001b[0m\n",
      "\u001b[1m\u001b[31mShuffle: False\u001b[0m\n",
      "\u001b[33mtorch.Size([4873, 7, 120]), torch.Size([45, 7, 120])\u001b[0m\n",
      "\u001b[32mtorch.Size([4873, 7, 120])\u001b[0m\n"
     ]
    },
    {
     "name": "stderr",
     "output_type": "stream",
     "text": [
      "epoch_acc: 0.57 evalAcc: 0.00 batch_acc: 0.68: : 50it [00:00, 60.59it/s]\n",
      "epoch_acc: 0.71 evalAcc: 0.60 batch_acc: 0.80: : 50it [00:00, 61.24it/s]\n",
      "epoch_acc: 0.73 evalAcc: 0.82 batch_acc: 0.70: : 50it [00:00, 63.68it/s]\n",
      "epoch_acc: 0.74 evalAcc: 0.82 batch_acc: 0.73: : 50it [00:00, 63.59it/s]\n",
      "epoch_acc: 0.74 evalAcc: 0.82 batch_acc: 0.70: : 50it [00:00, 57.25it/s]\n",
      "epoch_acc: 0.75 evalAcc: 0.80 batch_acc: 0.76: : 50it [00:00, 54.94it/s]\n",
      "epoch_acc: 0.74 evalAcc: 0.84 batch_acc: 0.70: : 50it [00:00, 63.20it/s]\n",
      "epoch_acc: 0.75 evalAcc: 0.84 batch_acc: 0.77: : 50it [00:01, 44.15it/s]\n",
      "epoch_acc: 0.75 evalAcc: 0.80 batch_acc: 0.79: : 50it [00:01, 42.49it/s]\n",
      "epoch_acc: 0.75 evalAcc: 0.80 batch_acc: 0.73: : 50it [00:01, 45.66it/s]\n"
     ]
    },
    {
     "name": "stdout",
     "output_type": "stream",
     "text": [
      "\u001b[33mtest_subject: 31\u001b[0m\n",
      "\u001b[1m\u001b[31mShuffle: False\u001b[0m\n",
      "\u001b[33mtorch.Size([4873, 7, 120]), torch.Size([45, 7, 120])\u001b[0m\n",
      "\u001b[32mtorch.Size([4873, 7, 120])\u001b[0m\n"
     ]
    },
    {
     "name": "stderr",
     "output_type": "stream",
     "text": [
      "epoch_acc: 0.60 evalAcc: 0.00 batch_acc: 0.65: : 50it [00:01, 45.48it/s]\n",
      "epoch_acc: 0.70 evalAcc: 0.56 batch_acc: 0.71: : 50it [00:00, 60.89it/s]\n",
      "epoch_acc: 0.72 evalAcc: 0.60 batch_acc: 0.72: : 50it [00:00, 59.02it/s]\n",
      "epoch_acc: 0.74 evalAcc: 0.58 batch_acc: 0.66: : 50it [00:00, 61.78it/s]\n",
      "epoch_acc: 0.74 evalAcc: 0.60 batch_acc: 0.72: : 50it [00:00, 58.31it/s]\n",
      "epoch_acc: 0.75 evalAcc: 0.60 batch_acc: 0.78: : 50it [00:00, 61.13it/s]\n",
      "epoch_acc: 0.75 evalAcc: 0.60 batch_acc: 0.75: : 50it [00:00, 58.31it/s]\n",
      "epoch_acc: 0.74 evalAcc: 0.62 batch_acc: 0.73: : 50it [00:00, 55.64it/s]\n",
      "epoch_acc: 0.74 evalAcc: 0.64 batch_acc: 0.73: : 50it [00:00, 57.79it/s]\n",
      "epoch_acc: 0.76 evalAcc: 0.62 batch_acc: 0.76: : 50it [00:00, 59.33it/s]\n"
     ]
    },
    {
     "name": "stdout",
     "output_type": "stream",
     "text": [
      "\u001b[33mtest_subject: 32\u001b[0m\n",
      "\u001b[1m\u001b[31mShuffle: False\u001b[0m\n",
      "\u001b[33mtorch.Size([4873, 7, 120]), torch.Size([45, 7, 120])\u001b[0m\n",
      "\u001b[32mtorch.Size([4873, 7, 120])\u001b[0m\n"
     ]
    },
    {
     "name": "stderr",
     "output_type": "stream",
     "text": [
      "epoch_acc: 0.60 evalAcc: 0.00 batch_acc: 0.69: : 50it [00:00, 56.68it/s]\n",
      "epoch_acc: 0.69 evalAcc: 0.82 batch_acc: 0.68: : 50it [00:00, 58.70it/s]\n",
      "epoch_acc: 0.72 evalAcc: 0.93 batch_acc: 0.72: : 50it [00:00, 56.41it/s]\n",
      "epoch_acc: 0.73 evalAcc: 0.91 batch_acc: 0.79: : 50it [00:00, 61.25it/s]\n",
      "epoch_acc: 0.73 evalAcc: 0.93 batch_acc: 0.73: : 50it [00:00, 56.67it/s]\n",
      "epoch_acc: 0.74 evalAcc: 0.96 batch_acc: 0.77: : 50it [00:00, 58.38it/s]\n",
      "epoch_acc: 0.74 evalAcc: 0.96 batch_acc: 0.79: : 50it [00:00, 56.15it/s]\n",
      "epoch_acc: 0.75 evalAcc: 0.96 batch_acc: 0.75: : 50it [00:00, 59.75it/s]\n",
      "epoch_acc: 0.74 evalAcc: 0.98 batch_acc: 0.71: : 50it [00:00, 56.81it/s]\n",
      "epoch_acc: 0.74 evalAcc: 0.96 batch_acc: 0.78: : 50it [00:00, 60.91it/s]\n"
     ]
    },
    {
     "name": "stdout",
     "output_type": "stream",
     "text": [
      "\u001b[33mtest_subject: 33\u001b[0m\n",
      "\u001b[1m\u001b[31mShuffle: False\u001b[0m\n",
      "\u001b[33mtorch.Size([4873, 7, 120]), torch.Size([45, 7, 120])\u001b[0m\n",
      "\u001b[32mtorch.Size([4873, 7, 120])\u001b[0m\n"
     ]
    },
    {
     "name": "stderr",
     "output_type": "stream",
     "text": [
      "epoch_acc: 0.59 evalAcc: 0.00 batch_acc: 0.69: : 50it [00:00, 57.22it/s]\n",
      "epoch_acc: 0.70 evalAcc: 0.60 batch_acc: 0.78: : 50it [00:00, 61.03it/s]\n",
      "epoch_acc: 0.73 evalAcc: 0.73 batch_acc: 0.72: : 50it [00:00, 62.17it/s]\n",
      "epoch_acc: 0.73 evalAcc: 0.73 batch_acc: 0.69: : 50it [00:00, 63.97it/s]\n",
      "epoch_acc: 0.74 evalAcc: 0.69 batch_acc: 0.73: : 50it [00:00, 58.45it/s]\n",
      "epoch_acc: 0.74 evalAcc: 0.69 batch_acc: 0.73: : 50it [00:00, 57.63it/s]\n",
      "epoch_acc: 0.73 evalAcc: 0.73 batch_acc: 0.64: : 50it [00:00, 56.54it/s]\n",
      "epoch_acc: 0.74 evalAcc: 0.73 batch_acc: 0.71: : 50it [00:00, 57.13it/s]\n",
      "epoch_acc: 0.75 evalAcc: 0.73 batch_acc: 0.82: : 50it [00:00, 58.38it/s]\n",
      "epoch_acc: 0.75 evalAcc: 0.73 batch_acc: 0.69: : 50it [00:00, 59.06it/s]\n"
     ]
    },
    {
     "name": "stdout",
     "output_type": "stream",
     "text": [
      "\u001b[33mtest_subject: 34\u001b[0m\n",
      "\u001b[1m\u001b[31mShuffle: False\u001b[0m\n",
      "\u001b[33mtorch.Size([4873, 7, 120]), torch.Size([45, 7, 120])\u001b[0m\n",
      "\u001b[32mtorch.Size([4873, 7, 120])\u001b[0m\n"
     ]
    },
    {
     "name": "stderr",
     "output_type": "stream",
     "text": [
      "epoch_acc: 0.57 evalAcc: 0.00 batch_acc: 0.67: : 50it [00:00, 58.29it/s]\n",
      "epoch_acc: 0.67 evalAcc: 0.64 batch_acc: 0.62: : 50it [00:00, 62.23it/s]\n",
      "epoch_acc: 0.72 evalAcc: 0.64 batch_acc: 0.70: : 50it [00:00, 56.66it/s]\n",
      "epoch_acc: 0.73 evalAcc: 0.69 batch_acc: 0.80: : 50it [00:00, 58.43it/s]\n",
      "epoch_acc: 0.74 evalAcc: 0.64 batch_acc: 0.71: : 50it [00:00, 61.19it/s]\n",
      "epoch_acc: 0.73 evalAcc: 0.67 batch_acc: 0.71: : 50it [00:00, 55.94it/s]\n",
      "epoch_acc: 0.74 evalAcc: 0.69 batch_acc: 0.77: : 50it [00:00, 55.03it/s]\n",
      "epoch_acc: 0.74 evalAcc: 0.69 batch_acc: 0.75: : 50it [00:00, 59.58it/s]\n",
      "epoch_acc: 0.75 evalAcc: 0.58 batch_acc: 0.76: : 50it [00:00, 57.29it/s]\n",
      "epoch_acc: 0.74 evalAcc: 0.67 batch_acc: 0.71: : 50it [00:00, 61.75it/s]\n"
     ]
    },
    {
     "name": "stdout",
     "output_type": "stream",
     "text": [
      "\u001b[33mtest_subject: 35\u001b[0m\n",
      "\u001b[1m\u001b[31mShuffle: False\u001b[0m\n",
      "\u001b[33mtorch.Size([4873, 7, 120]), torch.Size([45, 7, 120])\u001b[0m\n",
      "\u001b[32mtorch.Size([4873, 7, 120])\u001b[0m\n"
     ]
    },
    {
     "name": "stderr",
     "output_type": "stream",
     "text": [
      "epoch_acc: 0.63 evalAcc: 0.00 batch_acc: 0.70: : 50it [00:00, 57.23it/s]\n",
      "epoch_acc: 0.71 evalAcc: 0.76 batch_acc: 0.72: : 50it [00:00, 57.13it/s]\n",
      "epoch_acc: 0.73 evalAcc: 0.89 batch_acc: 0.70: : 50it [00:00, 57.73it/s]\n",
      "epoch_acc: 0.73 evalAcc: 0.87 batch_acc: 0.71: : 50it [00:00, 57.40it/s]\n",
      "epoch_acc: 0.74 evalAcc: 0.89 batch_acc: 0.68: : 50it [00:00, 58.05it/s]\n",
      "epoch_acc: 0.74 evalAcc: 0.89 batch_acc: 0.79: : 50it [00:00, 60.61it/s]\n",
      "epoch_acc: 0.74 evalAcc: 0.84 batch_acc: 0.78: : 50it [00:00, 59.33it/s]\n",
      "epoch_acc: 0.75 evalAcc: 0.91 batch_acc: 0.73: : 50it [00:00, 59.41it/s]\n",
      "epoch_acc: 0.75 evalAcc: 0.87 batch_acc: 0.77: : 50it [00:00, 56.13it/s]\n",
      "epoch_acc: 0.74 evalAcc: 0.89 batch_acc: 0.81: : 50it [00:00, 60.06it/s]\n"
     ]
    },
    {
     "name": "stdout",
     "output_type": "stream",
     "text": [
      "\u001b[33mtest_subject: 36\u001b[0m\n",
      "\u001b[1m\u001b[31mShuffle: False\u001b[0m\n",
      "\u001b[33mtorch.Size([4873, 7, 120]), torch.Size([45, 7, 120])\u001b[0m\n",
      "\u001b[32mtorch.Size([4873, 7, 120])\u001b[0m\n"
     ]
    },
    {
     "name": "stderr",
     "output_type": "stream",
     "text": [
      "epoch_acc: 0.65 evalAcc: 0.00 batch_acc: 0.73: : 50it [00:00, 61.86it/s]\n",
      "epoch_acc: 0.72 evalAcc: 0.93 batch_acc: 0.66: : 50it [00:00, 58.32it/s]\n",
      "epoch_acc: 0.73 evalAcc: 0.91 batch_acc: 0.71: : 50it [00:00, 58.04it/s]\n",
      "epoch_acc: 0.73 evalAcc: 0.91 batch_acc: 0.74: : 50it [00:00, 59.22it/s]\n",
      "epoch_acc: 0.74 evalAcc: 0.91 batch_acc: 0.76: : 50it [00:00, 50.72it/s]\n",
      "epoch_acc: 0.74 evalAcc: 0.91 batch_acc: 0.74: : 50it [00:00, 57.75it/s]\n",
      "epoch_acc: 0.74 evalAcc: 0.89 batch_acc: 0.82: : 50it [00:00, 61.30it/s]\n",
      "epoch_acc: 0.74 evalAcc: 0.91 batch_acc: 0.81: : 50it [00:00, 59.32it/s]\n",
      "epoch_acc: 0.74 evalAcc: 0.89 batch_acc: 0.70: : 50it [00:00, 58.41it/s]\n",
      "epoch_acc: 0.75 evalAcc: 0.89 batch_acc: 0.73: : 50it [00:00, 59.48it/s]\n"
     ]
    },
    {
     "name": "stdout",
     "output_type": "stream",
     "text": [
      "\u001b[33mtest_subject: 37\u001b[0m\n",
      "\u001b[1m\u001b[31mShuffle: False\u001b[0m\n",
      "\u001b[33mtorch.Size([4873, 7, 120]), torch.Size([45, 7, 120])\u001b[0m\n",
      "\u001b[32mtorch.Size([4873, 7, 120])\u001b[0m\n"
     ]
    },
    {
     "name": "stderr",
     "output_type": "stream",
     "text": [
      "epoch_acc: 0.57 evalAcc: 0.00 batch_acc: 0.60: : 50it [00:00, 56.62it/s]\n",
      "epoch_acc: 0.68 evalAcc: 0.56 batch_acc: 0.66: : 50it [00:00, 60.84it/s]\n",
      "epoch_acc: 0.72 evalAcc: 0.69 batch_acc: 0.75: : 50it [00:00, 57.57it/s]\n",
      "epoch_acc: 0.73 evalAcc: 0.78 batch_acc: 0.62: : 50it [00:00, 59.23it/s]\n",
      "epoch_acc: 0.74 evalAcc: 0.73 batch_acc: 0.76: : 50it [00:00, 61.18it/s]\n",
      "epoch_acc: 0.74 evalAcc: 0.78 batch_acc: 0.78: : 50it [00:00, 60.30it/s]\n",
      "epoch_acc: 0.73 evalAcc: 0.78 batch_acc: 0.76: : 50it [00:00, 57.43it/s]\n",
      "epoch_acc: 0.74 evalAcc: 0.73 batch_acc: 0.74: : 50it [00:00, 59.76it/s]\n",
      "epoch_acc: 0.75 evalAcc: 0.73 batch_acc: 0.77: : 50it [00:00, 55.62it/s]\n",
      "epoch_acc: 0.74 evalAcc: 0.73 batch_acc: 0.79: : 50it [00:00, 58.28it/s]\n"
     ]
    },
    {
     "name": "stdout",
     "output_type": "stream",
     "text": [
      "\u001b[33mtest_subject: 38\u001b[0m\n",
      "\u001b[1m\u001b[31mShuffle: False\u001b[0m\n",
      "\u001b[33mtorch.Size([4873, 7, 120]), torch.Size([45, 7, 120])\u001b[0m\n",
      "\u001b[32mtorch.Size([4873, 7, 120])\u001b[0m\n"
     ]
    },
    {
     "name": "stderr",
     "output_type": "stream",
     "text": [
      "epoch_acc: 0.60 evalAcc: 0.00 batch_acc: 0.71: : 50it [00:00, 57.04it/s]\n",
      "epoch_acc: 0.72 evalAcc: 0.51 batch_acc: 0.72: : 50it [00:00, 57.84it/s]\n",
      "epoch_acc: 0.74 evalAcc: 0.47 batch_acc: 0.75: : 50it [00:00, 55.45it/s]\n",
      "epoch_acc: 0.74 evalAcc: 0.42 batch_acc: 0.73: : 50it [00:00, 63.78it/s]\n",
      "epoch_acc: 0.73 evalAcc: 0.44 batch_acc: 0.74: : 50it [00:00, 56.56it/s]\n",
      "epoch_acc: 0.74 evalAcc: 0.51 batch_acc: 0.76: : 50it [00:00, 56.92it/s]\n",
      "epoch_acc: 0.74 evalAcc: 0.40 batch_acc: 0.72: : 50it [00:00, 62.45it/s]\n",
      "epoch_acc: 0.74 evalAcc: 0.44 batch_acc: 0.74: : 50it [00:00, 57.34it/s]\n",
      "epoch_acc: 0.75 evalAcc: 0.44 batch_acc: 0.77: : 50it [00:00, 60.72it/s]\n",
      "epoch_acc: 0.75 evalAcc: 0.47 batch_acc: 0.72: : 50it [00:00, 56.70it/s]\n"
     ]
    },
    {
     "name": "stdout",
     "output_type": "stream",
     "text": [
      "\u001b[33mtest_subject: 39\u001b[0m\n",
      "\u001b[1m\u001b[31mShuffle: False\u001b[0m\n",
      "\u001b[33mtorch.Size([4873, 7, 120]), torch.Size([45, 7, 120])\u001b[0m\n",
      "\u001b[32mtorch.Size([4873, 7, 120])\u001b[0m\n"
     ]
    },
    {
     "name": "stderr",
     "output_type": "stream",
     "text": [
      "epoch_acc: 0.61 evalAcc: 0.00 batch_acc: 0.60: : 50it [00:00, 56.41it/s]\n",
      "epoch_acc: 0.72 evalAcc: 0.60 batch_acc: 0.67: : 50it [00:00, 54.97it/s]\n",
      "epoch_acc: 0.73 evalAcc: 0.64 batch_acc: 0.74: : 50it [00:00, 58.16it/s]\n",
      "epoch_acc: 0.74 evalAcc: 0.64 batch_acc: 0.78: : 50it [00:00, 65.65it/s]\n",
      "epoch_acc: 0.74 evalAcc: 0.76 batch_acc: 0.74: : 50it [00:00, 56.40it/s]\n",
      "epoch_acc: 0.74 evalAcc: 0.71 batch_acc: 0.68: : 50it [00:00, 58.45it/s]\n",
      "epoch_acc: 0.74 evalAcc: 0.71 batch_acc: 0.75: : 50it [00:00, 59.61it/s]\n",
      "epoch_acc: 0.75 evalAcc: 0.73 batch_acc: 0.82: : 50it [00:00, 56.81it/s]\n",
      "epoch_acc: 0.75 evalAcc: 0.71 batch_acc: 0.81: : 50it [00:00, 58.05it/s]\n",
      "epoch_acc: 0.75 evalAcc: 0.71 batch_acc: 0.77: : 50it [00:00, 61.39it/s]\n"
     ]
    },
    {
     "name": "stdout",
     "output_type": "stream",
     "text": [
      "\u001b[33mtest_subject: 40\u001b[0m\n",
      "\u001b[1m\u001b[31mShuffle: False\u001b[0m\n",
      "\u001b[33mtorch.Size([4873, 7, 120]), torch.Size([45, 7, 120])\u001b[0m\n",
      "\u001b[32mtorch.Size([4873, 7, 120])\u001b[0m\n"
     ]
    },
    {
     "name": "stderr",
     "output_type": "stream",
     "text": [
      "epoch_acc: 0.59 evalAcc: 0.00 batch_acc: 0.61: : 50it [00:00, 58.15it/s]\n",
      "epoch_acc: 0.70 evalAcc: 0.91 batch_acc: 0.73: : 50it [00:00, 59.82it/s]\n",
      "epoch_acc: 0.72 evalAcc: 0.89 batch_acc: 0.73: : 50it [00:00, 57.32it/s]\n",
      "epoch_acc: 0.72 evalAcc: 0.91 batch_acc: 0.70: : 50it [00:00, 55.96it/s]\n",
      "epoch_acc: 0.73 evalAcc: 0.89 batch_acc: 0.74: : 50it [00:00, 62.32it/s]\n",
      "epoch_acc: 0.74 evalAcc: 0.91 batch_acc: 0.80: : 50it [00:00, 58.74it/s]\n",
      "epoch_acc: 0.74 evalAcc: 0.91 batch_acc: 0.67: : 50it [00:00, 57.22it/s]\n",
      "epoch_acc: 0.74 evalAcc: 0.91 batch_acc: 0.77: : 50it [00:00, 59.95it/s]\n",
      "epoch_acc: 0.74 evalAcc: 0.91 batch_acc: 0.72: : 50it [00:00, 59.63it/s]\n",
      "epoch_acc: 0.74 evalAcc: 0.91 batch_acc: 0.76: : 50it [00:00, 63.07it/s]\n"
     ]
    },
    {
     "name": "stdout",
     "output_type": "stream",
     "text": [
      "\u001b[33mtest_subject: 41\u001b[0m\n",
      "\u001b[1m\u001b[31mShuffle: False\u001b[0m\n",
      "\u001b[33mtorch.Size([4873, 7, 120]), torch.Size([45, 7, 120])\u001b[0m\n",
      "\u001b[32mtorch.Size([4873, 7, 120])\u001b[0m\n"
     ]
    },
    {
     "name": "stderr",
     "output_type": "stream",
     "text": [
      "epoch_acc: 0.59 evalAcc: 0.00 batch_acc: 0.74: : 50it [00:00, 56.13it/s]\n",
      "epoch_acc: 0.70 evalAcc: 0.76 batch_acc: 0.78: : 50it [00:00, 56.26it/s]\n",
      "epoch_acc: 0.72 evalAcc: 0.84 batch_acc: 0.77: : 50it [00:00, 59.35it/s]\n",
      "epoch_acc: 0.73 evalAcc: 0.89 batch_acc: 0.70: : 50it [00:00, 55.47it/s]\n",
      "epoch_acc: 0.74 evalAcc: 0.89 batch_acc: 0.78: : 50it [00:00, 62.69it/s]\n",
      "epoch_acc: 0.74 evalAcc: 0.89 batch_acc: 0.75: : 50it [00:00, 61.78it/s]\n",
      "epoch_acc: 0.74 evalAcc: 0.87 batch_acc: 0.73: : 50it [00:00, 55.25it/s]\n",
      "epoch_acc: 0.74 evalAcc: 0.84 batch_acc: 0.77: : 50it [00:00, 56.04it/s]\n",
      "epoch_acc: 0.74 evalAcc: 0.82 batch_acc: 0.66: : 50it [00:00, 58.68it/s]\n",
      "epoch_acc: 0.75 evalAcc: 0.87 batch_acc: 0.79: : 50it [00:00, 58.78it/s]\n"
     ]
    },
    {
     "name": "stdout",
     "output_type": "stream",
     "text": [
      "\u001b[33mtest_subject: 42\u001b[0m\n",
      "\u001b[1m\u001b[31mShuffle: False\u001b[0m\n",
      "\u001b[33mtorch.Size([4873, 7, 120]), torch.Size([45, 7, 120])\u001b[0m\n",
      "\u001b[32mtorch.Size([4873, 7, 120])\u001b[0m\n"
     ]
    },
    {
     "name": "stderr",
     "output_type": "stream",
     "text": [
      "epoch_acc: 0.59 evalAcc: 0.00 batch_acc: 0.68: : 50it [00:00, 57.05it/s]\n",
      "epoch_acc: 0.71 evalAcc: 0.71 batch_acc: 0.66: : 50it [00:00, 57.93it/s]\n",
      "epoch_acc: 0.72 evalAcc: 0.73 batch_acc: 0.72: : 50it [00:00, 59.80it/s]\n",
      "epoch_acc: 0.74 evalAcc: 0.67 batch_acc: 0.71: : 50it [00:00, 59.37it/s]\n",
      "epoch_acc: 0.75 evalAcc: 0.67 batch_acc: 0.78: : 50it [00:00, 58.86it/s]\n",
      "epoch_acc: 0.74 evalAcc: 0.71 batch_acc: 0.67: : 50it [00:00, 54.00it/s]\n",
      "epoch_acc: 0.74 evalAcc: 0.69 batch_acc: 0.78: : 50it [00:00, 55.15it/s]\n",
      "epoch_acc: 0.74 evalAcc: 0.73 batch_acc: 0.68: : 50it [00:00, 57.32it/s]\n",
      "epoch_acc: 0.75 evalAcc: 0.71 batch_acc: 0.78: : 50it [00:00, 57.01it/s]\n",
      "epoch_acc: 0.75 evalAcc: 0.71 batch_acc: 0.72: : 50it [00:00, 56.08it/s]\n"
     ]
    },
    {
     "name": "stdout",
     "output_type": "stream",
     "text": [
      "\u001b[33mtest_subject: 43\u001b[0m\n",
      "\u001b[1m\u001b[31mShuffle: False\u001b[0m\n",
      "\u001b[33mtorch.Size([4873, 7, 120]), torch.Size([45, 7, 120])\u001b[0m\n",
      "\u001b[32mtorch.Size([4873, 7, 120])\u001b[0m\n"
     ]
    },
    {
     "name": "stderr",
     "output_type": "stream",
     "text": [
      "epoch_acc: 0.62 evalAcc: 0.00 batch_acc: 0.74: : 50it [00:00, 61.12it/s]\n",
      "epoch_acc: 0.70 evalAcc: 0.87 batch_acc: 0.72: : 50it [00:00, 57.34it/s]\n",
      "epoch_acc: 0.72 evalAcc: 0.91 batch_acc: 0.76: : 50it [00:00, 59.52it/s]\n",
      "epoch_acc: 0.74 evalAcc: 0.91 batch_acc: 0.70: : 50it [00:00, 56.02it/s]\n",
      "epoch_acc: 0.73 evalAcc: 0.93 batch_acc: 0.76: : 50it [00:00, 61.02it/s]\n",
      "epoch_acc: 0.74 evalAcc: 0.93 batch_acc: 0.80: : 50it [00:00, 56.89it/s]\n",
      "epoch_acc: 0.73 evalAcc: 0.91 batch_acc: 0.79: : 50it [00:00, 55.92it/s]\n",
      "epoch_acc: 0.74 evalAcc: 0.89 batch_acc: 0.75: : 50it [00:00, 56.71it/s]\n",
      "epoch_acc: 0.75 evalAcc: 0.93 batch_acc: 0.73: : 50it [00:00, 62.52it/s]\n",
      "epoch_acc: 0.75 evalAcc: 0.96 batch_acc: 0.76: : 50it [00:00, 59.30it/s]\n"
     ]
    },
    {
     "name": "stdout",
     "output_type": "stream",
     "text": [
      "\u001b[33mtest_subject: 44\u001b[0m\n",
      "\u001b[1m\u001b[31mShuffle: False\u001b[0m\n",
      "\u001b[33mtorch.Size([4873, 7, 120]), torch.Size([45, 7, 120])\u001b[0m\n",
      "\u001b[32mtorch.Size([4873, 7, 120])\u001b[0m\n"
     ]
    },
    {
     "name": "stderr",
     "output_type": "stream",
     "text": [
      "epoch_acc: 0.61 evalAcc: 0.00 batch_acc: 0.66: : 50it [00:00, 58.28it/s]\n",
      "epoch_acc: 0.70 evalAcc: 0.64 batch_acc: 0.71: : 50it [00:00, 56.81it/s]\n",
      "epoch_acc: 0.72 evalAcc: 0.69 batch_acc: 0.69: : 50it [00:00, 58.30it/s]\n",
      "epoch_acc: 0.73 evalAcc: 0.69 batch_acc: 0.79: : 50it [00:00, 56.40it/s]\n",
      "epoch_acc: 0.73 evalAcc: 0.71 batch_acc: 0.77: : 50it [00:00, 55.37it/s]\n",
      "epoch_acc: 0.74 evalAcc: 0.69 batch_acc: 0.68: : 50it [00:00, 57.81it/s]\n",
      "epoch_acc: 0.74 evalAcc: 0.69 batch_acc: 0.78: : 50it [00:00, 60.95it/s]\n",
      "epoch_acc: 0.74 evalAcc: 0.76 batch_acc: 0.65: : 50it [00:00, 60.46it/s]\n",
      "epoch_acc: 0.74 evalAcc: 0.71 batch_acc: 0.72: : 50it [00:00, 59.95it/s]\n",
      "epoch_acc: 0.74 evalAcc: 0.71 batch_acc: 0.78: : 50it [00:00, 62.37it/s]\n"
     ]
    },
    {
     "name": "stdout",
     "output_type": "stream",
     "text": [
      "\u001b[33mtest_subject: 45\u001b[0m\n",
      "\u001b[1m\u001b[31mShuffle: False\u001b[0m\n",
      "\u001b[33mtorch.Size([4873, 7, 120]), torch.Size([45, 7, 120])\u001b[0m\n",
      "\u001b[32mtorch.Size([4873, 7, 120])\u001b[0m\n"
     ]
    },
    {
     "name": "stderr",
     "output_type": "stream",
     "text": [
      "epoch_acc: 0.57 evalAcc: 0.00 batch_acc: 0.61: : 50it [00:00, 59.05it/s]\n",
      "epoch_acc: 0.70 evalAcc: 0.58 batch_acc: 0.76: : 50it [00:00, 64.16it/s]\n",
      "epoch_acc: 0.73 evalAcc: 0.67 batch_acc: 0.80: : 50it [00:00, 59.24it/s]\n",
      "epoch_acc: 0.74 evalAcc: 0.78 batch_acc: 0.79: : 50it [00:00, 58.26it/s]\n",
      "epoch_acc: 0.74 evalAcc: 0.76 batch_acc: 0.72: : 50it [00:00, 58.71it/s]\n",
      "epoch_acc: 0.74 evalAcc: 0.78 batch_acc: 0.70: : 50it [00:00, 60.44it/s]\n",
      "epoch_acc: 0.75 evalAcc: 0.78 batch_acc: 0.74: : 50it [00:00, 60.04it/s]\n",
      "epoch_acc: 0.75 evalAcc: 0.78 batch_acc: 0.71: : 50it [00:00, 67.69it/s]\n",
      "epoch_acc: 0.74 evalAcc: 0.76 batch_acc: 0.77: : 50it [00:00, 57.89it/s]\n",
      "epoch_acc: 0.74 evalAcc: 0.76 batch_acc: 0.72: : 50it [00:00, 62.41it/s]\n"
     ]
    },
    {
     "name": "stdout",
     "output_type": "stream",
     "text": [
      "\u001b[33mtest_subject: 46\u001b[0m\n",
      "\u001b[1m\u001b[31mShuffle: False\u001b[0m\n",
      "\u001b[33mtorch.Size([4873, 7, 120]), torch.Size([45, 7, 120])\u001b[0m\n",
      "\u001b[32mtorch.Size([4873, 7, 120])\u001b[0m\n"
     ]
    },
    {
     "name": "stderr",
     "output_type": "stream",
     "text": [
      "epoch_acc: 0.63 evalAcc: 0.00 batch_acc: 0.79: : 50it [00:00, 57.76it/s]\n",
      "epoch_acc: 0.71 evalAcc: 0.78 batch_acc: 0.66: : 50it [00:00, 61.51it/s]\n",
      "epoch_acc: 0.73 evalAcc: 0.67 batch_acc: 0.69: : 50it [00:00, 59.69it/s]\n",
      "epoch_acc: 0.73 evalAcc: 0.67 batch_acc: 0.74: : 50it [00:00, 63.14it/s]\n",
      "epoch_acc: 0.74 evalAcc: 0.67 batch_acc: 0.69: : 50it [00:00, 61.45it/s]\n",
      "epoch_acc: 0.74 evalAcc: 0.67 batch_acc: 0.81: : 50it [00:00, 64.64it/s]\n",
      "epoch_acc: 0.74 evalAcc: 0.71 batch_acc: 0.78: : 50it [00:00, 59.17it/s]\n",
      "epoch_acc: 0.75 evalAcc: 0.69 batch_acc: 0.79: : 50it [00:00, 57.03it/s]\n",
      "epoch_acc: 0.75 evalAcc: 0.69 batch_acc: 0.73: : 50it [00:00, 58.65it/s]\n",
      "epoch_acc: 0.74 evalAcc: 0.69 batch_acc: 0.67: : 50it [00:00, 61.12it/s]\n"
     ]
    },
    {
     "name": "stdout",
     "output_type": "stream",
     "text": [
      "\u001b[33mtest_subject: 47\u001b[0m\n",
      "\u001b[1m\u001b[31mShuffle: False\u001b[0m\n",
      "\u001b[33mtorch.Size([4873, 7, 120]), torch.Size([45, 7, 120])\u001b[0m\n",
      "\u001b[32mtorch.Size([4873, 7, 120])\u001b[0m\n"
     ]
    },
    {
     "name": "stderr",
     "output_type": "stream",
     "text": [
      "epoch_acc: 0.66 evalAcc: 0.00 batch_acc: 0.74: : 50it [00:00, 59.06it/s]\n",
      "epoch_acc: 0.72 evalAcc: 0.62 batch_acc: 0.76: : 50it [00:00, 56.63it/s]\n",
      "epoch_acc: 0.74 evalAcc: 0.62 batch_acc: 0.75: : 50it [00:00, 56.66it/s]\n",
      "epoch_acc: 0.74 evalAcc: 0.67 batch_acc: 0.78: : 50it [00:00, 59.79it/s]\n",
      "epoch_acc: 0.74 evalAcc: 0.73 batch_acc: 0.71: : 50it [00:00, 61.76it/s]\n",
      "epoch_acc: 0.75 evalAcc: 0.64 batch_acc: 0.69: : 50it [00:00, 58.00it/s]\n",
      "epoch_acc: 0.75 evalAcc: 0.69 batch_acc: 0.74: : 50it [00:00, 61.86it/s]\n",
      "epoch_acc: 0.74 evalAcc: 0.71 batch_acc: 0.75: : 50it [00:00, 57.03it/s]\n",
      "epoch_acc: 0.75 evalAcc: 0.67 batch_acc: 0.77: : 50it [00:00, 64.95it/s]\n",
      "epoch_acc: 0.75 evalAcc: 0.71 batch_acc: 0.74: : 50it [00:00, 59.03it/s]\n"
     ]
    },
    {
     "name": "stdout",
     "output_type": "stream",
     "text": [
      "\u001b[33mtest_subject: 48\u001b[0m\n",
      "\u001b[1m\u001b[31mShuffle: False\u001b[0m\n",
      "\u001b[33mtorch.Size([4873, 7, 120]), torch.Size([45, 7, 120])\u001b[0m\n",
      "\u001b[32mtorch.Size([4873, 7, 120])\u001b[0m\n"
     ]
    },
    {
     "name": "stderr",
     "output_type": "stream",
     "text": [
      "epoch_acc: 0.60 evalAcc: 0.00 batch_acc: 0.62: : 50it [00:00, 61.55it/s]\n",
      "epoch_acc: 0.71 evalAcc: 0.91 batch_acc: 0.67: : 50it [00:00, 55.20it/s]\n",
      "epoch_acc: 0.73 evalAcc: 0.93 batch_acc: 0.70: : 50it [00:00, 58.06it/s]\n",
      "epoch_acc: 0.73 evalAcc: 0.91 batch_acc: 0.70: : 50it [00:00, 61.20it/s]\n",
      "epoch_acc: 0.74 evalAcc: 0.93 batch_acc: 0.71: : 50it [00:00, 63.55it/s]\n",
      "epoch_acc: 0.74 evalAcc: 0.93 batch_acc: 0.76: : 50it [00:00, 64.68it/s] \n",
      "epoch_acc: 0.74 evalAcc: 0.93 batch_acc: 0.78: : 50it [00:00, 57.86it/s]\n",
      "epoch_acc: 0.74 evalAcc: 0.93 batch_acc: 0.78: : 50it [00:00, 63.56it/s]\n",
      "epoch_acc: 0.74 evalAcc: 0.93 batch_acc: 0.67: : 50it [00:00, 60.83it/s]\n",
      "epoch_acc: 0.75 evalAcc: 0.93 batch_acc: 0.76: : 50it [00:00, 62.66it/s]\n"
     ]
    },
    {
     "name": "stdout",
     "output_type": "stream",
     "text": [
      "\u001b[33mtest_subject: 49\u001b[0m\n",
      "\u001b[1m\u001b[31mShuffle: False\u001b[0m\n",
      "\u001b[33mtorch.Size([4873, 7, 120]), torch.Size([45, 7, 120])\u001b[0m\n",
      "\u001b[32mtorch.Size([4873, 7, 120])\u001b[0m\n"
     ]
    },
    {
     "name": "stderr",
     "output_type": "stream",
     "text": [
      "epoch_acc: 0.62 evalAcc: 0.00 batch_acc: 0.68: : 50it [00:00, 60.68it/s]\n",
      "epoch_acc: 0.71 evalAcc: 0.60 batch_acc: 0.77: : 50it [00:00, 58.41it/s]\n",
      "epoch_acc: 0.73 evalAcc: 0.67 batch_acc: 0.78: : 50it [00:00, 57.08it/s]\n",
      "epoch_acc: 0.73 evalAcc: 0.71 batch_acc: 0.74: : 50it [00:00, 61.00it/s]\n",
      "epoch_acc: 0.74 evalAcc: 0.71 batch_acc: 0.72: : 50it [00:00, 57.20it/s]\n",
      "epoch_acc: 0.75 evalAcc: 0.67 batch_acc: 0.78: : 50it [00:00, 62.40it/s]\n",
      "epoch_acc: 0.74 evalAcc: 0.69 batch_acc: 0.77: : 50it [00:00, 57.88it/s]\n",
      "epoch_acc: 0.74 evalAcc: 0.69 batch_acc: 0.75: : 50it [00:00, 62.42it/s]\n",
      "epoch_acc: 0.75 evalAcc: 0.71 batch_acc: 0.80: : 50it [00:00, 59.21it/s]\n",
      "epoch_acc: 0.74 evalAcc: 0.71 batch_acc: 0.76: : 50it [00:00, 59.51it/s]\n"
     ]
    },
    {
     "name": "stdout",
     "output_type": "stream",
     "text": [
      "\u001b[33mtest_subject: 50\u001b[0m\n",
      "\u001b[1m\u001b[31mShuffle: False\u001b[0m\n",
      "\u001b[33mtorch.Size([4873, 7, 120]), torch.Size([45, 7, 120])\u001b[0m\n",
      "\u001b[32mtorch.Size([4873, 7, 120])\u001b[0m\n"
     ]
    },
    {
     "name": "stderr",
     "output_type": "stream",
     "text": [
      "epoch_acc: 0.60 evalAcc: 0.00 batch_acc: 0.70: : 50it [00:00, 61.81it/s]\n",
      "epoch_acc: 0.69 evalAcc: 0.80 batch_acc: 0.73: : 50it [00:00, 61.52it/s]\n",
      "epoch_acc: 0.72 evalAcc: 0.67 batch_acc: 0.74: : 50it [00:00, 59.72it/s]\n",
      "epoch_acc: 0.73 evalAcc: 0.69 batch_acc: 0.75: : 50it [00:00, 59.70it/s]\n",
      "epoch_acc: 0.73 evalAcc: 0.80 batch_acc: 0.71: : 50it [00:00, 56.58it/s]\n",
      "epoch_acc: 0.74 evalAcc: 0.64 batch_acc: 0.76: : 50it [00:00, 58.34it/s]\n",
      "epoch_acc: 0.75 evalAcc: 0.69 batch_acc: 0.73: : 50it [00:00, 59.48it/s]\n",
      "epoch_acc: 0.75 evalAcc: 0.73 batch_acc: 0.74: : 50it [00:00, 56.37it/s]\n",
      "epoch_acc: 0.75 evalAcc: 0.67 batch_acc: 0.80: : 50it [00:00, 63.41it/s]\n",
      "epoch_acc: 0.75 evalAcc: 0.71 batch_acc: 0.73: : 50it [00:00, 61.67it/s]\n"
     ]
    },
    {
     "name": "stdout",
     "output_type": "stream",
     "text": [
      "\u001b[33mtest_subject: 51\u001b[0m\n",
      "\u001b[1m\u001b[31mShuffle: False\u001b[0m\n",
      "\u001b[33mtorch.Size([4873, 7, 120]), torch.Size([45, 7, 120])\u001b[0m\n",
      "\u001b[32mtorch.Size([4873, 7, 120])\u001b[0m\n"
     ]
    },
    {
     "name": "stderr",
     "output_type": "stream",
     "text": [
      "epoch_acc: 0.61 evalAcc: 0.00 batch_acc: 0.69: : 50it [00:00, 64.67it/s]\n",
      "epoch_acc: 0.71 evalAcc: 0.69 batch_acc: 0.72: : 50it [00:00, 61.81it/s]\n",
      "epoch_acc: 0.73 evalAcc: 0.76 batch_acc: 0.80: : 50it [00:00, 56.65it/s]\n",
      "epoch_acc: 0.74 evalAcc: 0.76 batch_acc: 0.77: : 50it [00:00, 62.03it/s]\n",
      "epoch_acc: 0.74 evalAcc: 0.71 batch_acc: 0.61: : 50it [00:00, 58.36it/s]\n",
      "epoch_acc: 0.74 evalAcc: 0.73 batch_acc: 0.77: : 50it [00:00, 57.57it/s]\n",
      "epoch_acc: 0.74 evalAcc: 0.71 batch_acc: 0.71: : 50it [00:00, 60.61it/s]\n",
      "epoch_acc: 0.74 evalAcc: 0.71 batch_acc: 0.85: : 50it [00:00, 58.35it/s]\n",
      "epoch_acc: 0.75 evalAcc: 0.73 batch_acc: 0.75: : 50it [00:00, 61.83it/s]\n",
      "epoch_acc: 0.75 evalAcc: 0.71 batch_acc: 0.70: : 50it [00:00, 58.07it/s]\n"
     ]
    },
    {
     "name": "stdout",
     "output_type": "stream",
     "text": [
      "\u001b[33mtest_subject: 52\u001b[0m\n",
      "\u001b[1m\u001b[31mShuffle: False\u001b[0m\n",
      "\u001b[33mtorch.Size([4873, 7, 120]), torch.Size([45, 7, 120])\u001b[0m\n",
      "\u001b[32mtorch.Size([4873, 7, 120])\u001b[0m\n"
     ]
    },
    {
     "name": "stderr",
     "output_type": "stream",
     "text": [
      "epoch_acc: 0.59 evalAcc: 0.00 batch_acc: 0.61: : 50it [00:00, 64.37it/s]\n",
      "epoch_acc: 0.71 evalAcc: 0.51 batch_acc: 0.74: : 50it [00:00, 56.88it/s]\n",
      "epoch_acc: 0.74 evalAcc: 0.47 batch_acc: 0.74: : 50it [00:00, 59.92it/s]\n",
      "epoch_acc: 0.74 evalAcc: 0.49 batch_acc: 0.73: : 50it [00:00, 60.77it/s]\n",
      "epoch_acc: 0.74 evalAcc: 0.53 batch_acc: 0.72: : 50it [00:00, 64.63it/s]\n",
      "epoch_acc: 0.74 evalAcc: 0.51 batch_acc: 0.81: : 50it [00:00, 60.58it/s]\n",
      "epoch_acc: 0.75 evalAcc: 0.49 batch_acc: 0.76: : 50it [00:00, 57.90it/s]\n",
      "epoch_acc: 0.75 evalAcc: 0.51 batch_acc: 0.72: : 50it [00:00, 58.24it/s]\n",
      "epoch_acc: 0.75 evalAcc: 0.49 batch_acc: 0.75: : 50it [00:00, 58.68it/s]\n",
      "epoch_acc: 0.75 evalAcc: 0.51 batch_acc: 0.75: : 50it [00:00, 57.18it/s]\n"
     ]
    },
    {
     "name": "stdout",
     "output_type": "stream",
     "text": [
      "\u001b[33mtest_subject: 53\u001b[0m\n",
      "\u001b[1m\u001b[31mShuffle: False\u001b[0m\n",
      "\u001b[33mtorch.Size([4873, 7, 120]), torch.Size([45, 7, 120])\u001b[0m\n",
      "\u001b[32mtorch.Size([4873, 7, 120])\u001b[0m\n"
     ]
    },
    {
     "name": "stderr",
     "output_type": "stream",
     "text": [
      "epoch_acc: 0.62 evalAcc: 0.00 batch_acc: 0.72: : 50it [00:00, 58.31it/s]\n",
      "epoch_acc: 0.70 evalAcc: 0.71 batch_acc: 0.71: : 50it [00:00, 60.81it/s]\n",
      "epoch_acc: 0.73 evalAcc: 0.73 batch_acc: 0.72: : 50it [00:00, 63.62it/s]\n",
      "epoch_acc: 0.73 evalAcc: 0.76 batch_acc: 0.70: : 50it [00:00, 62.79it/s]\n",
      "epoch_acc: 0.75 evalAcc: 0.71 batch_acc: 0.68: : 50it [00:00, 59.24it/s]\n",
      "epoch_acc: 0.74 evalAcc: 0.78 batch_acc: 0.66: : 50it [00:00, 61.55it/s]\n",
      "epoch_acc: 0.74 evalAcc: 0.82 batch_acc: 0.77: : 50it [00:00, 58.03it/s]\n",
      "epoch_acc: 0.75 evalAcc: 0.78 batch_acc: 0.69: : 50it [00:00, 57.91it/s]\n",
      "epoch_acc: 0.75 evalAcc: 0.76 batch_acc: 0.79: : 50it [00:00, 61.49it/s]\n",
      "epoch_acc: 0.75 evalAcc: 0.80 batch_acc: 0.78: : 50it [00:00, 62.49it/s]\n"
     ]
    },
    {
     "name": "stdout",
     "output_type": "stream",
     "text": [
      "\u001b[33mtest_subject: 54\u001b[0m\n",
      "\u001b[1m\u001b[31mShuffle: False\u001b[0m\n",
      "\u001b[33mtorch.Size([4873, 7, 120]), torch.Size([45, 7, 120])\u001b[0m\n",
      "\u001b[32mtorch.Size([4873, 7, 120])\u001b[0m\n"
     ]
    },
    {
     "name": "stderr",
     "output_type": "stream",
     "text": [
      "epoch_acc: 0.63 evalAcc: 0.00 batch_acc: 0.67: : 50it [00:00, 64.88it/s]\n",
      "epoch_acc: 0.72 evalAcc: 0.89 batch_acc: 0.74: : 50it [00:00, 59.79it/s]\n",
      "epoch_acc: 0.73 evalAcc: 0.89 batch_acc: 0.78: : 50it [00:00, 59.32it/s]\n",
      "epoch_acc: 0.74 evalAcc: 0.89 batch_acc: 0.76: : 50it [00:00, 61.43it/s]\n",
      "epoch_acc: 0.74 evalAcc: 0.89 batch_acc: 0.80: : 50it [00:00, 59.81it/s]\n",
      "epoch_acc: 0.75 evalAcc: 0.87 batch_acc: 0.69: : 50it [00:00, 59.82it/s]\n",
      "epoch_acc: 0.75 evalAcc: 0.84 batch_acc: 0.78: : 50it [00:00, 59.57it/s]\n",
      "epoch_acc: 0.74 evalAcc: 0.87 batch_acc: 0.67: : 50it [00:00, 56.30it/s]\n",
      "epoch_acc: 0.75 evalAcc: 0.89 batch_acc: 0.76: : 50it [00:00, 63.41it/s]\n",
      "epoch_acc: 0.74 evalAcc: 0.91 batch_acc: 0.82: : 50it [00:00, 59.01it/s]\n"
     ]
    },
    {
     "name": "stdout",
     "output_type": "stream",
     "text": [
      "\u001b[33mtest_subject: 55\u001b[0m\n",
      "\u001b[1m\u001b[31mShuffle: False\u001b[0m\n",
      "\u001b[33mtorch.Size([4873, 7, 120]), torch.Size([45, 7, 120])\u001b[0m\n",
      "\u001b[32mtorch.Size([4873, 7, 120])\u001b[0m\n"
     ]
    },
    {
     "name": "stderr",
     "output_type": "stream",
     "text": [
      "epoch_acc: 0.58 evalAcc: 0.00 batch_acc: 0.65: : 50it [00:00, 60.49it/s]\n",
      "epoch_acc: 0.68 evalAcc: 0.73 batch_acc: 0.73: : 50it [00:00, 61.20it/s]\n",
      "epoch_acc: 0.71 evalAcc: 0.76 batch_acc: 0.75: : 50it [00:00, 61.69it/s]\n",
      "epoch_acc: 0.72 evalAcc: 0.76 batch_acc: 0.70: : 50it [00:00, 63.18it/s]\n",
      "epoch_acc: 0.74 evalAcc: 0.76 batch_acc: 0.73: : 50it [00:00, 55.67it/s]\n",
      "epoch_acc: 0.75 evalAcc: 0.78 batch_acc: 0.72: : 50it [00:00, 58.72it/s]\n",
      "epoch_acc: 0.75 evalAcc: 0.80 batch_acc: 0.82: : 50it [00:00, 55.99it/s]\n",
      "epoch_acc: 0.75 evalAcc: 0.80 batch_acc: 0.75: : 50it [00:00, 56.08it/s]\n",
      "epoch_acc: 0.75 evalAcc: 0.69 batch_acc: 0.80: : 50it [00:00, 62.94it/s]\n",
      "epoch_acc: 0.74 evalAcc: 0.84 batch_acc: 0.73: : 50it [00:00, 61.00it/s]\n"
     ]
    },
    {
     "name": "stdout",
     "output_type": "stream",
     "text": [
      "\u001b[33mtest_subject: 56\u001b[0m\n",
      "\u001b[1m\u001b[31mShuffle: False\u001b[0m\n",
      "\u001b[33mtorch.Size([4873, 7, 120]), torch.Size([45, 7, 120])\u001b[0m\n",
      "\u001b[32mtorch.Size([4873, 7, 120])\u001b[0m\n"
     ]
    },
    {
     "name": "stderr",
     "output_type": "stream",
     "text": [
      "epoch_acc: 0.59 evalAcc: 0.00 batch_acc: 0.71: : 50it [00:00, 61.93it/s]\n",
      "epoch_acc: 0.70 evalAcc: 0.76 batch_acc: 0.72: : 50it [00:00, 57.03it/s]\n",
      "epoch_acc: 0.71 evalAcc: 0.80 batch_acc: 0.68: : 50it [00:00, 61.96it/s]\n",
      "epoch_acc: 0.73 evalAcc: 0.89 batch_acc: 0.68: : 50it [00:00, 61.45it/s]\n",
      "epoch_acc: 0.73 evalAcc: 0.89 batch_acc: 0.70: : 50it [00:00, 61.31it/s]\n",
      "epoch_acc: 0.74 evalAcc: 0.91 batch_acc: 0.78: : 50it [00:00, 59.72it/s]\n",
      "epoch_acc: 0.73 evalAcc: 0.87 batch_acc: 0.74: : 50it [00:00, 62.53it/s]\n",
      "epoch_acc: 0.74 evalAcc: 0.91 batch_acc: 0.68: : 50it [00:00, 58.05it/s]\n",
      "epoch_acc: 0.74 evalAcc: 0.91 batch_acc: 0.76: : 50it [00:00, 60.49it/s]\n",
      "epoch_acc: 0.74 evalAcc: 0.89 batch_acc: 0.77: : 50it [00:00, 53.13it/s]\n"
     ]
    },
    {
     "name": "stdout",
     "output_type": "stream",
     "text": [
      "\u001b[33mtest_subject: 57\u001b[0m\n",
      "\u001b[1m\u001b[31mShuffle: False\u001b[0m\n",
      "\u001b[33mtorch.Size([4873, 7, 120]), torch.Size([45, 7, 120])\u001b[0m\n",
      "\u001b[32mtorch.Size([4873, 7, 120])\u001b[0m\n"
     ]
    },
    {
     "name": "stderr",
     "output_type": "stream",
     "text": [
      "epoch_acc: 0.63 evalAcc: 0.00 batch_acc: 0.66: : 50it [00:00, 59.19it/s]\n",
      "epoch_acc: 0.72 evalAcc: 0.89 batch_acc: 0.69: : 50it [00:00, 61.87it/s]\n",
      "epoch_acc: 0.73 evalAcc: 0.89 batch_acc: 0.70: : 50it [00:00, 60.70it/s]\n",
      "epoch_acc: 0.74 evalAcc: 0.91 batch_acc: 0.73: : 50it [00:00, 59.90it/s]\n",
      "epoch_acc: 0.74 evalAcc: 0.89 batch_acc: 0.74: : 50it [00:00, 56.17it/s]\n",
      "epoch_acc: 0.74 evalAcc: 0.87 batch_acc: 0.77: : 50it [00:00, 60.65it/s]\n",
      "epoch_acc: 0.74 evalAcc: 0.91 batch_acc: 0.71: : 50it [00:00, 62.28it/s]\n",
      "epoch_acc: 0.74 evalAcc: 0.91 batch_acc: 0.71: : 50it [00:00, 60.78it/s]\n",
      "epoch_acc: 0.74 evalAcc: 0.91 batch_acc: 0.78: : 50it [00:00, 59.54it/s]\n",
      "epoch_acc: 0.75 evalAcc: 0.91 batch_acc: 0.75: : 50it [00:00, 61.46it/s]\n"
     ]
    },
    {
     "name": "stdout",
     "output_type": "stream",
     "text": [
      "\u001b[33mtest_subject: 58\u001b[0m\n",
      "\u001b[1m\u001b[31mShuffle: False\u001b[0m\n",
      "\u001b[33mtorch.Size([4873, 7, 120]), torch.Size([45, 7, 120])\u001b[0m\n",
      "\u001b[32mtorch.Size([4873, 7, 120])\u001b[0m\n"
     ]
    },
    {
     "name": "stderr",
     "output_type": "stream",
     "text": [
      "epoch_acc: 0.64 evalAcc: 0.00 batch_acc: 0.73: : 50it [00:00, 63.83it/s]\n",
      "epoch_acc: 0.71 evalAcc: 0.80 batch_acc: 0.68: : 50it [00:00, 61.63it/s]\n",
      "epoch_acc: 0.72 evalAcc: 0.82 batch_acc: 0.76: : 50it [00:00, 62.57it/s]\n",
      "epoch_acc: 0.74 evalAcc: 0.87 batch_acc: 0.78: : 50it [00:00, 61.37it/s]\n",
      "epoch_acc: 0.73 evalAcc: 0.82 batch_acc: 0.72: : 50it [00:00, 54.88it/s]\n",
      "epoch_acc: 0.74 evalAcc: 0.80 batch_acc: 0.77: : 50it [00:00, 62.58it/s]\n",
      "epoch_acc: 0.74 evalAcc: 0.84 batch_acc: 0.69: : 50it [00:00, 63.09it/s]\n",
      "epoch_acc: 0.74 evalAcc: 0.80 batch_acc: 0.71: : 50it [00:00, 61.03it/s]\n",
      "epoch_acc: 0.75 evalAcc: 0.87 batch_acc: 0.75: : 50it [00:00, 59.96it/s]\n",
      "epoch_acc: 0.74 evalAcc: 0.84 batch_acc: 0.76: : 50it [00:00, 58.87it/s]\n"
     ]
    },
    {
     "name": "stdout",
     "output_type": "stream",
     "text": [
      "\u001b[33mtest_subject: 59\u001b[0m\n",
      "\u001b[1m\u001b[31mShuffle: False\u001b[0m\n",
      "\u001b[33mtorch.Size([4873, 7, 120]), torch.Size([45, 7, 120])\u001b[0m\n",
      "\u001b[32mtorch.Size([4873, 7, 120])\u001b[0m\n"
     ]
    },
    {
     "name": "stderr",
     "output_type": "stream",
     "text": [
      "epoch_acc: 0.58 evalAcc: 0.00 batch_acc: 0.66: : 50it [00:00, 61.56it/s]\n",
      "epoch_acc: 0.71 evalAcc: 0.60 batch_acc: 0.73: : 50it [00:00, 58.89it/s]\n",
      "epoch_acc: 0.73 evalAcc: 0.69 batch_acc: 0.76: : 50it [00:00, 62.39it/s]\n",
      "epoch_acc: 0.73 evalAcc: 0.67 batch_acc: 0.73: : 50it [00:00, 59.61it/s]\n",
      "epoch_acc: 0.74 evalAcc: 0.76 batch_acc: 0.76: : 50it [00:00, 60.02it/s]\n",
      "epoch_acc: 0.74 evalAcc: 0.71 batch_acc: 0.69: : 50it [00:00, 61.95it/s]\n",
      "epoch_acc: 0.74 evalAcc: 0.78 batch_acc: 0.76: : 50it [00:00, 59.00it/s]\n",
      "epoch_acc: 0.74 evalAcc: 0.78 batch_acc: 0.73: : 50it [00:00, 60.07it/s]\n",
      "epoch_acc: 0.75 evalAcc: 0.80 batch_acc: 0.72: : 50it [00:00, 57.81it/s]\n",
      "epoch_acc: 0.74 evalAcc: 0.82 batch_acc: 0.76: : 50it [00:00, 59.05it/s]\n"
     ]
    },
    {
     "name": "stdout",
     "output_type": "stream",
     "text": [
      "\u001b[33mtest_subject: 60\u001b[0m\n",
      "\u001b[1m\u001b[31mShuffle: False\u001b[0m\n",
      "\u001b[33mtorch.Size([4873, 7, 120]), torch.Size([45, 7, 120])\u001b[0m\n",
      "\u001b[32mtorch.Size([4873, 7, 120])\u001b[0m\n"
     ]
    },
    {
     "name": "stderr",
     "output_type": "stream",
     "text": [
      "epoch_acc: 0.56 evalAcc: 0.00 batch_acc: 0.67: : 50it [00:00, 61.96it/s]\n",
      "epoch_acc: 0.70 evalAcc: 0.64 batch_acc: 0.72: : 50it [00:00, 61.60it/s]\n",
      "epoch_acc: 0.72 evalAcc: 0.69 batch_acc: 0.79: : 50it [00:00, 62.73it/s]\n",
      "epoch_acc: 0.73 evalAcc: 0.71 batch_acc: 0.84: : 50it [00:00, 62.26it/s]\n",
      "epoch_acc: 0.73 evalAcc: 0.71 batch_acc: 0.79: : 50it [00:00, 57.93it/s]\n",
      "epoch_acc: 0.74 evalAcc: 0.67 batch_acc: 0.76: : 50it [00:00, 61.45it/s]\n",
      "epoch_acc: 0.73 evalAcc: 0.71 batch_acc: 0.73: : 50it [00:00, 56.89it/s]\n",
      "epoch_acc: 0.73 evalAcc: 0.73 batch_acc: 0.75: : 50it [00:00, 57.96it/s]\n",
      "epoch_acc: 0.75 evalAcc: 0.67 batch_acc: 0.71: : 50it [00:00, 61.99it/s]\n",
      "epoch_acc: 0.75 evalAcc: 0.69 batch_acc: 0.80: : 50it [00:00, 55.29it/s]\n"
     ]
    },
    {
     "name": "stdout",
     "output_type": "stream",
     "text": [
      "\u001b[33mtest_subject: 61\u001b[0m\n",
      "\u001b[1m\u001b[31mShuffle: False\u001b[0m\n",
      "\u001b[33mtorch.Size([4873, 7, 120]), torch.Size([45, 7, 120])\u001b[0m\n",
      "\u001b[32mtorch.Size([4873, 7, 120])\u001b[0m\n"
     ]
    },
    {
     "name": "stderr",
     "output_type": "stream",
     "text": [
      "epoch_acc: 0.62 evalAcc: 0.00 batch_acc: 0.67: : 50it [00:00, 60.81it/s]\n",
      "epoch_acc: 0.71 evalAcc: 0.80 batch_acc: 0.73: : 50it [00:00, 57.06it/s]\n",
      "epoch_acc: 0.72 evalAcc: 0.91 batch_acc: 0.70: : 50it [00:00, 57.96it/s]\n",
      "epoch_acc: 0.74 evalAcc: 0.96 batch_acc: 0.71: : 50it [00:00, 57.29it/s]\n",
      "epoch_acc: 0.74 evalAcc: 0.93 batch_acc: 0.81: : 50it [00:00, 60.65it/s]\n",
      "epoch_acc: 0.75 evalAcc: 0.93 batch_acc: 0.71: : 50it [00:00, 61.51it/s]\n",
      "epoch_acc: 0.74 evalAcc: 0.93 batch_acc: 0.74: : 50it [00:00, 60.02it/s]\n",
      "epoch_acc: 0.75 evalAcc: 0.91 batch_acc: 0.83: : 50it [00:00, 58.02it/s]\n",
      "epoch_acc: 0.74 evalAcc: 0.87 batch_acc: 0.78: : 50it [00:00, 60.34it/s]\n",
      "epoch_acc: 0.74 evalAcc: 0.93 batch_acc: 0.72: : 50it [00:00, 56.84it/s]\n"
     ]
    },
    {
     "name": "stdout",
     "output_type": "stream",
     "text": [
      "\u001b[33mtest_subject: 62\u001b[0m\n",
      "\u001b[1m\u001b[31mShuffle: False\u001b[0m\n",
      "\u001b[33mtorch.Size([4873, 7, 120]), torch.Size([45, 7, 120])\u001b[0m\n",
      "\u001b[32mtorch.Size([4873, 7, 120])\u001b[0m\n"
     ]
    },
    {
     "name": "stderr",
     "output_type": "stream",
     "text": [
      "epoch_acc: 0.59 evalAcc: 0.00 batch_acc: 0.73: : 50it [00:00, 59.96it/s]\n",
      "epoch_acc: 0.71 evalAcc: 0.73 batch_acc: 0.73: : 50it [00:00, 58.83it/s]\n",
      "epoch_acc: 0.74 evalAcc: 0.76 batch_acc: 0.77: : 50it [00:00, 62.80it/s]\n",
      "epoch_acc: 0.74 evalAcc: 0.82 batch_acc: 0.80: : 50it [00:00, 60.33it/s]\n",
      "epoch_acc: 0.74 evalAcc: 0.82 batch_acc: 0.73: : 50it [00:00, 56.21it/s]\n",
      "epoch_acc: 0.74 evalAcc: 0.80 batch_acc: 0.73: : 50it [00:00, 59.31it/s]\n",
      "epoch_acc: 0.75 evalAcc: 0.84 batch_acc: 0.83: : 50it [00:00, 66.92it/s]\n",
      "epoch_acc: 0.74 evalAcc: 0.84 batch_acc: 0.70: : 50it [00:00, 57.96it/s]\n",
      "epoch_acc: 0.74 evalAcc: 0.84 batch_acc: 0.73: : 50it [00:00, 59.14it/s]\n",
      "epoch_acc: 0.75 evalAcc: 0.82 batch_acc: 0.75: : 50it [00:00, 58.87it/s]\n"
     ]
    },
    {
     "name": "stdout",
     "output_type": "stream",
     "text": [
      "\u001b[33mtest_subject: 63\u001b[0m\n",
      "\u001b[1m\u001b[31mShuffle: False\u001b[0m\n",
      "\u001b[33mtorch.Size([4873, 7, 120]), torch.Size([45, 7, 120])\u001b[0m\n",
      "\u001b[32mtorch.Size([4873, 7, 120])\u001b[0m\n"
     ]
    },
    {
     "name": "stderr",
     "output_type": "stream",
     "text": [
      "epoch_acc: 0.61 evalAcc: 0.00 batch_acc: 0.67: : 50it [00:00, 63.43it/s]\n",
      "epoch_acc: 0.69 evalAcc: 0.80 batch_acc: 0.75: : 50it [00:00, 58.75it/s]\n",
      "epoch_acc: 0.71 evalAcc: 0.71 batch_acc: 0.84: : 50it [00:00, 58.72it/s]\n",
      "epoch_acc: 0.74 evalAcc: 0.71 batch_acc: 0.65: : 50it [00:00, 56.81it/s]\n",
      "epoch_acc: 0.74 evalAcc: 0.76 batch_acc: 0.76: : 50it [00:00, 65.24it/s]\n",
      "epoch_acc: 0.74 evalAcc: 0.76 batch_acc: 0.75: : 50it [00:00, 61.24it/s]\n",
      "epoch_acc: 0.74 evalAcc: 0.71 batch_acc: 0.76: : 50it [00:00, 56.92it/s]\n",
      "epoch_acc: 0.74 evalAcc: 0.71 batch_acc: 0.69: : 50it [00:00, 61.85it/s]\n",
      "epoch_acc: 0.74 evalAcc: 0.76 batch_acc: 0.76: : 50it [00:00, 58.10it/s]\n",
      "epoch_acc: 0.74 evalAcc: 0.69 batch_acc: 0.70: : 50it [00:00, 60.63it/s]\n"
     ]
    },
    {
     "name": "stdout",
     "output_type": "stream",
     "text": [
      "\u001b[33mtest_subject: 64\u001b[0m\n",
      "\u001b[1m\u001b[31mShuffle: False\u001b[0m\n",
      "\u001b[33mtorch.Size([4873, 7, 120]), torch.Size([45, 7, 120])\u001b[0m\n",
      "\u001b[32mtorch.Size([4873, 7, 120])\u001b[0m\n"
     ]
    },
    {
     "name": "stderr",
     "output_type": "stream",
     "text": [
      "epoch_acc: 0.63 evalAcc: 0.00 batch_acc: 0.68: : 50it [00:00, 63.46it/s]\n",
      "epoch_acc: 0.71 evalAcc: 0.69 batch_acc: 0.73: : 50it [00:00, 58.56it/s]\n",
      "epoch_acc: 0.74 evalAcc: 0.60 batch_acc: 0.76: : 50it [00:00, 60.77it/s]\n",
      "epoch_acc: 0.74 evalAcc: 0.67 batch_acc: 0.75: : 50it [00:00, 58.90it/s]\n",
      "epoch_acc: 0.74 evalAcc: 0.67 batch_acc: 0.75: : 50it [00:00, 62.29it/s]\n",
      "epoch_acc: 0.74 evalAcc: 0.62 batch_acc: 0.74: : 50it [00:00, 59.84it/s]\n",
      "epoch_acc: 0.75 evalAcc: 0.64 batch_acc: 0.75: : 50it [00:00, 57.80it/s]\n",
      "epoch_acc: 0.75 evalAcc: 0.67 batch_acc: 0.76: : 50it [00:00, 56.92it/s]\n",
      "epoch_acc: 0.75 evalAcc: 0.69 batch_acc: 0.78: : 50it [00:00, 59.59it/s]\n",
      "epoch_acc: 0.74 evalAcc: 0.64 batch_acc: 0.80: : 50it [00:00, 57.95it/s]\n"
     ]
    },
    {
     "name": "stdout",
     "output_type": "stream",
     "text": [
      "\u001b[33mtest_subject: 65\u001b[0m\n",
      "\u001b[1m\u001b[31mShuffle: False\u001b[0m\n",
      "\u001b[33mtorch.Size([4873, 7, 120]), torch.Size([45, 7, 120])\u001b[0m\n",
      "\u001b[32mtorch.Size([4873, 7, 120])\u001b[0m\n"
     ]
    },
    {
     "name": "stderr",
     "output_type": "stream",
     "text": [
      "epoch_acc: 0.61 evalAcc: 0.00 batch_acc: 0.64: : 50it [00:00, 61.67it/s]\n",
      "epoch_acc: 0.71 evalAcc: 0.69 batch_acc: 0.70: : 50it [00:00, 58.21it/s]\n",
      "epoch_acc: 0.73 evalAcc: 0.71 batch_acc: 0.76: : 50it [00:00, 56.47it/s]\n",
      "epoch_acc: 0.74 evalAcc: 0.78 batch_acc: 0.77: : 50it [00:00, 60.32it/s]\n",
      "epoch_acc: 0.75 evalAcc: 0.71 batch_acc: 0.73: : 50it [00:00, 61.74it/s]\n",
      "epoch_acc: 0.74 evalAcc: 0.67 batch_acc: 0.65: : 50it [00:00, 58.89it/s]\n",
      "epoch_acc: 0.75 evalAcc: 0.64 batch_acc: 0.79: : 50it [00:00, 60.75it/s]\n",
      "epoch_acc: 0.74 evalAcc: 0.67 batch_acc: 0.80: : 50it [00:00, 58.68it/s]\n",
      "epoch_acc: 0.75 evalAcc: 0.73 batch_acc: 0.78: : 50it [00:00, 56.67it/s]\n",
      "epoch_acc: 0.74 evalAcc: 0.64 batch_acc: 0.81: : 50it [00:00, 65.00it/s]\n"
     ]
    },
    {
     "name": "stdout",
     "output_type": "stream",
     "text": [
      "\u001b[33mtest_subject: 66\u001b[0m\n",
      "\u001b[1m\u001b[31mShuffle: False\u001b[0m\n",
      "\u001b[33mtorch.Size([4873, 7, 120]), torch.Size([45, 7, 120])\u001b[0m\n",
      "\u001b[32mtorch.Size([4873, 7, 120])\u001b[0m\n"
     ]
    },
    {
     "name": "stderr",
     "output_type": "stream",
     "text": [
      "epoch_acc: 0.59 evalAcc: 0.00 batch_acc: 0.69: : 50it [00:00, 66.84it/s]\n",
      "epoch_acc: 0.70 evalAcc: 0.67 batch_acc: 0.64: : 50it [00:00, 60.90it/s]\n",
      "epoch_acc: 0.72 evalAcc: 0.67 batch_acc: 0.79: : 50it [00:00, 58.17it/s]\n",
      "epoch_acc: 0.73 evalAcc: 0.69 batch_acc: 0.64: : 50it [00:00, 61.94it/s]\n",
      "epoch_acc: 0.74 evalAcc: 0.64 batch_acc: 0.71: : 50it [00:00, 57.26it/s]\n",
      "epoch_acc: 0.73 evalAcc: 0.69 batch_acc: 0.72: : 50it [00:00, 57.89it/s]\n",
      "epoch_acc: 0.73 evalAcc: 0.69 batch_acc: 0.61: : 50it [00:00, 63.14it/s]\n",
      "epoch_acc: 0.74 evalAcc: 0.73 batch_acc: 0.70: : 50it [00:00, 64.30it/s]\n",
      "epoch_acc: 0.74 evalAcc: 0.71 batch_acc: 0.67: : 50it [00:00, 61.20it/s]\n",
      "epoch_acc: 0.74 evalAcc: 0.71 batch_acc: 0.75: : 50it [00:00, 59.42it/s]\n"
     ]
    },
    {
     "name": "stdout",
     "output_type": "stream",
     "text": [
      "\u001b[33mtest_subject: 67\u001b[0m\n",
      "\u001b[1m\u001b[31mShuffle: False\u001b[0m\n",
      "\u001b[33mtorch.Size([4873, 7, 120]), torch.Size([45, 7, 120])\u001b[0m\n",
      "\u001b[32mtorch.Size([4873, 7, 120])\u001b[0m\n"
     ]
    },
    {
     "name": "stderr",
     "output_type": "stream",
     "text": [
      "epoch_acc: 0.59 evalAcc: 0.00 batch_acc: 0.61: : 50it [00:00, 62.48it/s]\n",
      "epoch_acc: 0.70 evalAcc: 0.56 batch_acc: 0.75: : 50it [00:00, 59.07it/s]\n",
      "epoch_acc: 0.73 evalAcc: 0.58 batch_acc: 0.78: : 50it [00:00, 58.77it/s]\n",
      "epoch_acc: 0.74 evalAcc: 0.53 batch_acc: 0.64: : 50it [00:00, 55.53it/s]\n",
      "epoch_acc: 0.74 evalAcc: 0.53 batch_acc: 0.80: : 50it [00:00, 61.93it/s]\n",
      "epoch_acc: 0.75 evalAcc: 0.53 batch_acc: 0.76: : 50it [00:00, 57.05it/s]\n",
      "epoch_acc: 0.75 evalAcc: 0.53 batch_acc: 0.71: : 50it [00:00, 55.93it/s]\n",
      "epoch_acc: 0.75 evalAcc: 0.51 batch_acc: 0.75: : 50it [00:00, 59.32it/s]\n",
      "epoch_acc: 0.75 evalAcc: 0.56 batch_acc: 0.80: : 50it [00:00, 59.54it/s]\n",
      "epoch_acc: 0.75 evalAcc: 0.58 batch_acc: 0.64: : 50it [00:00, 58.22it/s]\n"
     ]
    },
    {
     "name": "stdout",
     "output_type": "stream",
     "text": [
      "\u001b[33mtest_subject: 68\u001b[0m\n",
      "\u001b[1m\u001b[31mShuffle: False\u001b[0m\n",
      "\u001b[33mtorch.Size([4873, 7, 120]), torch.Size([45, 7, 120])\u001b[0m\n",
      "\u001b[32mtorch.Size([4873, 7, 120])\u001b[0m\n"
     ]
    },
    {
     "name": "stderr",
     "output_type": "stream",
     "text": [
      "epoch_acc: 0.66 evalAcc: 0.00 batch_acc: 0.70: : 50it [00:00, 61.49it/s]\n",
      "epoch_acc: 0.72 evalAcc: 0.82 batch_acc: 0.74: : 50it [00:00, 60.46it/s]\n",
      "epoch_acc: 0.73 evalAcc: 0.87 batch_acc: 0.67: : 50it [00:00, 58.97it/s]\n",
      "epoch_acc: 0.73 evalAcc: 0.82 batch_acc: 0.84: : 50it [00:00, 60.41it/s]\n",
      "epoch_acc: 0.74 evalAcc: 0.84 batch_acc: 0.76: : 50it [00:00, 60.57it/s]\n",
      "epoch_acc: 0.74 evalAcc: 0.87 batch_acc: 0.79: : 50it [00:00, 56.82it/s]\n",
      "epoch_acc: 0.74 evalAcc: 0.87 batch_acc: 0.73: : 50it [00:00, 61.31it/s]\n",
      "epoch_acc: 0.75 evalAcc: 0.84 batch_acc: 0.78: : 50it [00:00, 55.99it/s]\n",
      "epoch_acc: 0.75 evalAcc: 0.84 batch_acc: 0.76: : 50it [00:00, 60.28it/s]\n",
      "epoch_acc: 0.75 evalAcc: 0.87 batch_acc: 0.73: : 50it [00:00, 54.35it/s]\n"
     ]
    },
    {
     "name": "stdout",
     "output_type": "stream",
     "text": [
      "\u001b[33mtest_subject: 69\u001b[0m\n",
      "\u001b[1m\u001b[31mShuffle: False\u001b[0m\n",
      "\u001b[33mtorch.Size([4873, 7, 120]), torch.Size([45, 7, 120])\u001b[0m\n",
      "\u001b[32mtorch.Size([4873, 7, 120])\u001b[0m\n"
     ]
    },
    {
     "name": "stderr",
     "output_type": "stream",
     "text": [
      "epoch_acc: 0.62 evalAcc: 0.00 batch_acc: 0.69: : 50it [00:00, 60.12it/s]\n",
      "epoch_acc: 0.71 evalAcc: 0.62 batch_acc: 0.77: : 50it [00:00, 61.00it/s]\n",
      "epoch_acc: 0.73 evalAcc: 0.69 batch_acc: 0.73: : 50it [00:00, 60.42it/s]\n",
      "epoch_acc: 0.73 evalAcc: 0.71 batch_acc: 0.71: : 50it [00:00, 62.58it/s]\n",
      "epoch_acc: 0.74 evalAcc: 0.71 batch_acc: 0.71: : 50it [00:00, 58.72it/s]\n",
      "epoch_acc: 0.74 evalAcc: 0.67 batch_acc: 0.67: : 50it [00:00, 63.98it/s]\n",
      "epoch_acc: 0.74 evalAcc: 0.60 batch_acc: 0.75: : 50it [00:00, 56.88it/s]\n",
      "epoch_acc: 0.74 evalAcc: 0.69 batch_acc: 0.69: : 50it [00:00, 64.13it/s]\n",
      "epoch_acc: 0.74 evalAcc: 0.71 batch_acc: 0.75: : 50it [00:00, 58.68it/s]\n",
      "epoch_acc: 0.74 evalAcc: 0.69 batch_acc: 0.75: : 50it [00:00, 57.27it/s]\n"
     ]
    },
    {
     "name": "stdout",
     "output_type": "stream",
     "text": [
      "\u001b[33mtest_subject: 70\u001b[0m\n",
      "\u001b[1m\u001b[31mShuffle: False\u001b[0m\n",
      "\u001b[33mtorch.Size([4873, 7, 120]), torch.Size([45, 7, 120])\u001b[0m\n",
      "\u001b[32mtorch.Size([4873, 7, 120])\u001b[0m\n"
     ]
    },
    {
     "name": "stderr",
     "output_type": "stream",
     "text": [
      "epoch_acc: 0.58 evalAcc: 0.00 batch_acc: 0.78: : 50it [00:00, 59.31it/s]\n",
      "epoch_acc: 0.70 evalAcc: 0.89 batch_acc: 0.68: : 50it [00:00, 53.63it/s]\n",
      "epoch_acc: 0.72 evalAcc: 0.91 batch_acc: 0.77: : 50it [00:00, 64.42it/s]\n",
      "epoch_acc: 0.74 evalAcc: 0.96 batch_acc: 0.71: : 50it [00:00, 58.89it/s]\n",
      "epoch_acc: 0.74 evalAcc: 0.91 batch_acc: 0.76: : 50it [00:00, 62.28it/s]\n",
      "epoch_acc: 0.74 evalAcc: 0.93 batch_acc: 0.70: : 50it [00:00, 63.27it/s]\n",
      "epoch_acc: 0.74 evalAcc: 0.93 batch_acc: 0.71: : 50it [00:00, 59.92it/s]\n",
      "epoch_acc: 0.75 evalAcc: 0.91 batch_acc: 0.77: : 50it [00:00, 61.61it/s]\n",
      "epoch_acc: 0.74 evalAcc: 0.91 batch_acc: 0.68: : 50it [00:00, 63.57it/s]\n",
      "epoch_acc: 0.75 evalAcc: 0.96 batch_acc: 0.69: : 50it [00:00, 58.06it/s]\n"
     ]
    },
    {
     "name": "stdout",
     "output_type": "stream",
     "text": [
      "\u001b[33mtest_subject: 71\u001b[0m\n",
      "\u001b[1m\u001b[31mShuffle: False\u001b[0m\n",
      "\u001b[33mtorch.Size([4873, 7, 120]), torch.Size([45, 7, 120])\u001b[0m\n",
      "\u001b[32mtorch.Size([4873, 7, 120])\u001b[0m\n"
     ]
    },
    {
     "name": "stderr",
     "output_type": "stream",
     "text": [
      "epoch_acc: 0.63 evalAcc: 0.00 batch_acc: 0.69: : 50it [00:00, 60.20it/s]\n",
      "epoch_acc: 0.71 evalAcc: 0.84 batch_acc: 0.68: : 50it [00:00, 56.41it/s]\n",
      "epoch_acc: 0.72 evalAcc: 0.87 batch_acc: 0.73: : 50it [00:00, 55.53it/s]\n",
      "epoch_acc: 0.73 evalAcc: 0.87 batch_acc: 0.72: : 50it [00:00, 61.61it/s]\n",
      "epoch_acc: 0.74 evalAcc: 0.87 batch_acc: 0.76: : 50it [00:00, 58.35it/s]\n",
      "epoch_acc: 0.74 evalAcc: 0.87 batch_acc: 0.80: : 50it [00:00, 60.86it/s]\n",
      "epoch_acc: 0.75 evalAcc: 0.87 batch_acc: 0.74: : 50it [00:00, 56.54it/s]\n",
      "epoch_acc: 0.75 evalAcc: 0.84 batch_acc: 0.76: : 50it [00:00, 57.76it/s]\n",
      "epoch_acc: 0.75 evalAcc: 0.89 batch_acc: 0.71: : 50it [00:00, 60.41it/s]\n",
      "epoch_acc: 0.75 evalAcc: 0.82 batch_acc: 0.75: : 50it [00:00, 59.36it/s]\n"
     ]
    },
    {
     "name": "stdout",
     "output_type": "stream",
     "text": [
      "\u001b[33mtest_subject: 72\u001b[0m\n",
      "\u001b[1m\u001b[31mShuffle: False\u001b[0m\n",
      "\u001b[33mtorch.Size([4873, 7, 120]), torch.Size([45, 7, 120])\u001b[0m\n",
      "\u001b[32mtorch.Size([4873, 7, 120])\u001b[0m\n"
     ]
    },
    {
     "name": "stderr",
     "output_type": "stream",
     "text": [
      "epoch_acc: 0.62 evalAcc: 0.00 batch_acc: 0.74: : 50it [00:00, 61.08it/s]\n",
      "epoch_acc: 0.71 evalAcc: 0.47 batch_acc: 0.74: : 50it [00:00, 58.45it/s]\n",
      "epoch_acc: 0.72 evalAcc: 0.56 batch_acc: 0.72: : 50it [00:00, 63.46it/s]\n",
      "epoch_acc: 0.73 evalAcc: 0.64 batch_acc: 0.69: : 50it [00:00, 62.09it/s]\n",
      "epoch_acc: 0.73 evalAcc: 0.56 batch_acc: 0.71: : 50it [00:00, 59.42it/s]\n",
      "epoch_acc: 0.74 evalAcc: 0.60 batch_acc: 0.68: : 50it [00:00, 60.81it/s]\n",
      "epoch_acc: 0.74 evalAcc: 0.67 batch_acc: 0.76: : 50it [00:00, 60.39it/s]\n",
      "epoch_acc: 0.75 evalAcc: 0.58 batch_acc: 0.76: : 50it [00:00, 57.55it/s]\n",
      "epoch_acc: 0.75 evalAcc: 0.67 batch_acc: 0.72: : 50it [00:00, 57.73it/s]\n",
      "epoch_acc: 0.74 evalAcc: 0.58 batch_acc: 0.84: : 50it [00:00, 57.82it/s]\n"
     ]
    },
    {
     "name": "stdout",
     "output_type": "stream",
     "text": [
      "\u001b[33mtest_subject: 73\u001b[0m\n",
      "\u001b[1m\u001b[31mShuffle: False\u001b[0m\n",
      "\u001b[33mtorch.Size([4873, 7, 120]), torch.Size([45, 7, 120])\u001b[0m\n",
      "\u001b[32mtorch.Size([4873, 7, 120])\u001b[0m\n"
     ]
    },
    {
     "name": "stderr",
     "output_type": "stream",
     "text": [
      "epoch_acc: 0.61 evalAcc: 0.00 batch_acc: 0.69: : 50it [00:00, 65.43it/s]\n",
      "epoch_acc: 0.71 evalAcc: 0.78 batch_acc: 0.76: : 50it [00:00, 58.52it/s]\n",
      "epoch_acc: 0.72 evalAcc: 0.80 batch_acc: 0.75: : 50it [00:00, 61.31it/s]\n",
      "epoch_acc: 0.74 evalAcc: 0.78 batch_acc: 0.75: : 50it [00:00, 58.21it/s]\n",
      "epoch_acc: 0.73 evalAcc: 0.82 batch_acc: 0.71: : 50it [00:00, 59.88it/s]\n",
      "epoch_acc: 0.75 evalAcc: 0.82 batch_acc: 0.78: : 50it [00:00, 61.47it/s]\n",
      "epoch_acc: 0.74 evalAcc: 0.82 batch_acc: 0.74: : 50it [00:00, 54.17it/s]\n",
      "epoch_acc: 0.74 evalAcc: 0.84 batch_acc: 0.70: : 50it [00:00, 58.81it/s]\n",
      "epoch_acc: 0.75 evalAcc: 0.82 batch_acc: 0.71: : 50it [00:00, 56.98it/s]\n",
      "epoch_acc: 0.74 evalAcc: 0.82 batch_acc: 0.80: : 50it [00:00, 57.76it/s]\n"
     ]
    },
    {
     "name": "stdout",
     "output_type": "stream",
     "text": [
      "\u001b[33mtest_subject: 74\u001b[0m\n",
      "\u001b[1m\u001b[31mShuffle: False\u001b[0m\n",
      "\u001b[33mtorch.Size([4873, 7, 120]), torch.Size([45, 7, 120])\u001b[0m\n",
      "\u001b[32mtorch.Size([4873, 7, 120])\u001b[0m\n"
     ]
    },
    {
     "name": "stderr",
     "output_type": "stream",
     "text": [
      "epoch_acc: 0.59 evalAcc: 0.00 batch_acc: 0.71: : 50it [00:00, 61.06it/s]\n",
      "epoch_acc: 0.70 evalAcc: 0.64 batch_acc: 0.71: : 50it [00:00, 57.81it/s]\n",
      "epoch_acc: 0.72 evalAcc: 0.67 batch_acc: 0.67: : 50it [00:00, 60.43it/s]\n",
      "epoch_acc: 0.74 evalAcc: 0.71 batch_acc: 0.73: : 50it [00:00, 61.83it/s]\n",
      "epoch_acc: 0.75 evalAcc: 0.71 batch_acc: 0.72: : 50it [00:00, 60.77it/s]\n",
      "epoch_acc: 0.74 evalAcc: 0.71 batch_acc: 0.81: : 50it [00:00, 58.45it/s]\n",
      "epoch_acc: 0.74 evalAcc: 0.71 batch_acc: 0.64: : 50it [00:00, 58.88it/s]\n",
      "epoch_acc: 0.75 evalAcc: 0.69 batch_acc: 0.71: : 50it [00:00, 58.27it/s]\n",
      "epoch_acc: 0.75 evalAcc: 0.69 batch_acc: 0.79: : 50it [00:00, 62.74it/s]\n",
      "epoch_acc: 0.74 evalAcc: 0.69 batch_acc: 0.73: : 50it [00:00, 58.29it/s]\n"
     ]
    },
    {
     "name": "stdout",
     "output_type": "stream",
     "text": [
      "\u001b[33mtest_subject: 75\u001b[0m\n",
      "\u001b[1m\u001b[31mShuffle: False\u001b[0m\n",
      "\u001b[33mtorch.Size([4873, 7, 120]), torch.Size([45, 7, 120])\u001b[0m\n",
      "\u001b[32mtorch.Size([4873, 7, 120])\u001b[0m\n"
     ]
    },
    {
     "name": "stderr",
     "output_type": "stream",
     "text": [
      "epoch_acc: 0.63 evalAcc: 0.00 batch_acc: 0.67: : 50it [00:00, 56.88it/s]\n",
      "epoch_acc: 0.72 evalAcc: 0.76 batch_acc: 0.69: : 50it [00:00, 62.05it/s]\n",
      "epoch_acc: 0.73 evalAcc: 0.76 batch_acc: 0.74: : 50it [00:00, 54.14it/s]\n",
      "epoch_acc: 0.74 evalAcc: 0.76 batch_acc: 0.72: : 50it [00:00, 61.56it/s]\n",
      "epoch_acc: 0.74 evalAcc: 0.78 batch_acc: 0.77: : 50it [00:00, 59.74it/s]\n",
      "epoch_acc: 0.75 evalAcc: 0.69 batch_acc: 0.75: : 50it [00:00, 60.96it/s]\n",
      "epoch_acc: 0.74 evalAcc: 0.69 batch_acc: 0.79: : 50it [00:00, 59.75it/s]\n",
      "epoch_acc: 0.75 evalAcc: 0.67 batch_acc: 0.73: : 50it [00:00, 58.58it/s]\n",
      "epoch_acc: 0.74 evalAcc: 0.71 batch_acc: 0.69: : 50it [00:00, 64.23it/s]\n",
      "epoch_acc: 0.76 evalAcc: 0.73 batch_acc: 0.77: : 50it [00:00, 59.08it/s]\n"
     ]
    },
    {
     "name": "stdout",
     "output_type": "stream",
     "text": [
      "\u001b[33mtest_subject: 76\u001b[0m\n",
      "\u001b[1m\u001b[31mShuffle: False\u001b[0m\n",
      "\u001b[33mtorch.Size([4873, 7, 120]), torch.Size([45, 7, 120])\u001b[0m\n",
      "\u001b[32mtorch.Size([4873, 7, 120])\u001b[0m\n"
     ]
    },
    {
     "name": "stderr",
     "output_type": "stream",
     "text": [
      "epoch_acc: 0.62 evalAcc: 0.00 batch_acc: 0.71: : 50it [00:00, 57.69it/s]\n",
      "epoch_acc: 0.71 evalAcc: 0.71 batch_acc: 0.75: : 50it [00:00, 62.76it/s]\n",
      "epoch_acc: 0.72 evalAcc: 0.71 batch_acc: 0.75: : 50it [00:00, 63.31it/s]\n",
      "epoch_acc: 0.74 evalAcc: 0.64 batch_acc: 0.75: : 50it [00:00, 58.80it/s]\n",
      "epoch_acc: 0.73 evalAcc: 0.67 batch_acc: 0.70: : 50it [00:00, 62.85it/s]\n",
      "epoch_acc: 0.74 evalAcc: 0.67 batch_acc: 0.79: : 50it [00:00, 60.36it/s]\n",
      "epoch_acc: 0.74 evalAcc: 0.67 batch_acc: 0.73: : 50it [00:00, 60.69it/s]\n",
      "epoch_acc: 0.74 evalAcc: 0.67 batch_acc: 0.75: : 50it [00:00, 60.26it/s]\n",
      "epoch_acc: 0.74 evalAcc: 0.67 batch_acc: 0.75: : 50it [00:00, 64.02it/s]\n",
      "epoch_acc: 0.75 evalAcc: 0.71 batch_acc: 0.74: : 50it [00:00, 61.05it/s]\n"
     ]
    },
    {
     "name": "stdout",
     "output_type": "stream",
     "text": [
      "\u001b[33mtest_subject: 77\u001b[0m\n",
      "\u001b[1m\u001b[31mShuffle: False\u001b[0m\n",
      "\u001b[33mtorch.Size([4873, 7, 120]), torch.Size([45, 7, 120])\u001b[0m\n",
      "\u001b[32mtorch.Size([4873, 7, 120])\u001b[0m\n"
     ]
    },
    {
     "name": "stderr",
     "output_type": "stream",
     "text": [
      "epoch_acc: 0.64 evalAcc: 0.00 batch_acc: 0.68: : 50it [00:00, 63.28it/s]\n",
      "epoch_acc: 0.72 evalAcc: 0.71 batch_acc: 0.70: : 50it [00:00, 59.46it/s]\n",
      "epoch_acc: 0.74 evalAcc: 0.69 batch_acc: 0.69: : 50it [00:00, 60.17it/s]\n",
      "epoch_acc: 0.74 evalAcc: 0.71 batch_acc: 0.73: : 50it [00:00, 58.93it/s]\n",
      "epoch_acc: 0.74 evalAcc: 0.62 batch_acc: 0.80: : 50it [00:00, 56.64it/s]\n",
      "epoch_acc: 0.73 evalAcc: 0.67 batch_acc: 0.64: : 50it [00:00, 63.34it/s]\n",
      "epoch_acc: 0.74 evalAcc: 0.62 batch_acc: 0.81: : 50it [00:00, 57.47it/s]\n",
      "epoch_acc: 0.74 evalAcc: 0.64 batch_acc: 0.74: : 50it [00:00, 61.67it/s]\n",
      "epoch_acc: 0.75 evalAcc: 0.69 batch_acc: 0.70: : 50it [00:00, 57.73it/s]\n",
      "epoch_acc: 0.75 evalAcc: 0.69 batch_acc: 0.81: : 50it [00:00, 60.19it/s]\n"
     ]
    },
    {
     "name": "stdout",
     "output_type": "stream",
     "text": [
      "\u001b[33mtest_subject: 78\u001b[0m\n",
      "\u001b[1m\u001b[31mShuffle: False\u001b[0m\n",
      "\u001b[33mtorch.Size([4873, 7, 120]), torch.Size([45, 7, 120])\u001b[0m\n",
      "\u001b[32mtorch.Size([4873, 7, 120])\u001b[0m\n"
     ]
    },
    {
     "name": "stderr",
     "output_type": "stream",
     "text": [
      "epoch_acc: 0.64 evalAcc: 0.00 batch_acc: 0.72: : 50it [00:00, 57.12it/s]\n",
      "epoch_acc: 0.73 evalAcc: 0.53 batch_acc: 0.73: : 50it [00:00, 57.96it/s]\n",
      "epoch_acc: 0.74 evalAcc: 0.64 batch_acc: 0.76: : 50it [00:00, 58.88it/s]\n",
      "epoch_acc: 0.74 evalAcc: 0.73 batch_acc: 0.83: : 50it [00:00, 58.18it/s]\n",
      "epoch_acc: 0.75 evalAcc: 0.62 batch_acc: 0.77: : 50it [00:00, 61.66it/s]\n",
      "epoch_acc: 0.74 evalAcc: 0.62 batch_acc: 0.71: : 50it [00:00, 60.85it/s]\n",
      "epoch_acc: 0.74 evalAcc: 0.64 batch_acc: 0.75: : 50it [00:00, 62.29it/s]\n",
      "epoch_acc: 0.75 evalAcc: 0.60 batch_acc: 0.72: : 50it [00:00, 61.90it/s]\n",
      "epoch_acc: 0.75 evalAcc: 0.67 batch_acc: 0.78: : 50it [00:00, 64.78it/s]\n",
      "epoch_acc: 0.75 evalAcc: 0.64 batch_acc: 0.80: : 50it [00:00, 67.52it/s]\n"
     ]
    },
    {
     "name": "stdout",
     "output_type": "stream",
     "text": [
      "\u001b[33mtest_subject: 79\u001b[0m\n",
      "\u001b[1m\u001b[31mShuffle: False\u001b[0m\n",
      "\u001b[33mtorch.Size([4873, 7, 120]), torch.Size([45, 7, 120])\u001b[0m\n",
      "\u001b[32mtorch.Size([4873, 7, 120])\u001b[0m\n"
     ]
    },
    {
     "name": "stderr",
     "output_type": "stream",
     "text": [
      "epoch_acc: 0.61 evalAcc: 0.00 batch_acc: 0.71: : 50it [00:00, 59.30it/s]\n",
      "epoch_acc: 0.69 evalAcc: 0.73 batch_acc: 0.68: : 50it [00:00, 58.76it/s]\n",
      "epoch_acc: 0.72 evalAcc: 0.76 batch_acc: 0.78: : 50it [00:00, 58.99it/s]\n",
      "epoch_acc: 0.72 evalAcc: 0.71 batch_acc: 0.75: : 50it [00:00, 58.66it/s]\n",
      "epoch_acc: 0.73 evalAcc: 0.76 batch_acc: 0.77: : 50it [00:00, 65.88it/s]\n",
      "epoch_acc: 0.73 evalAcc: 0.78 batch_acc: 0.62: : 50it [00:00, 60.70it/s]\n",
      "epoch_acc: 0.74 evalAcc: 0.76 batch_acc: 0.67: : 50it [00:00, 62.96it/s]\n",
      "epoch_acc: 0.74 evalAcc: 0.76 batch_acc: 0.74: : 50it [00:00, 61.13it/s]\n",
      "epoch_acc: 0.74 evalAcc: 0.76 batch_acc: 0.79: : 50it [00:00, 59.57it/s]\n",
      "epoch_acc: 0.75 evalAcc: 0.76 batch_acc: 0.76: : 50it [00:00, 58.44it/s]\n"
     ]
    },
    {
     "name": "stdout",
     "output_type": "stream",
     "text": [
      "\u001b[33mtest_subject: 80\u001b[0m\n",
      "\u001b[1m\u001b[31mShuffle: False\u001b[0m\n",
      "\u001b[33mtorch.Size([4873, 7, 120]), torch.Size([45, 7, 120])\u001b[0m\n",
      "\u001b[32mtorch.Size([4873, 7, 120])\u001b[0m\n"
     ]
    },
    {
     "name": "stderr",
     "output_type": "stream",
     "text": [
      "epoch_acc: 0.61 evalAcc: 0.00 batch_acc: 0.76: : 50it [00:00, 62.90it/s]\n",
      "epoch_acc: 0.71 evalAcc: 0.51 batch_acc: 0.72: : 50it [00:00, 62.26it/s]\n",
      "epoch_acc: 0.73 evalAcc: 0.49 batch_acc: 0.73: : 50it [00:00, 57.53it/s]\n",
      "epoch_acc: 0.74 evalAcc: 0.47 batch_acc: 0.71: : 50it [00:00, 64.60it/s]\n",
      "epoch_acc: 0.74 evalAcc: 0.56 batch_acc: 0.77: : 50it [00:00, 58.21it/s]\n",
      "epoch_acc: 0.75 evalAcc: 0.53 batch_acc: 0.76: : 50it [00:00, 61.50it/s]\n",
      "epoch_acc: 0.74 evalAcc: 0.58 batch_acc: 0.76: : 50it [00:00, 61.24it/s]\n",
      "epoch_acc: 0.74 evalAcc: 0.53 batch_acc: 0.76: : 50it [00:00, 59.92it/s]\n",
      "epoch_acc: 0.75 evalAcc: 0.60 batch_acc: 0.68: : 50it [00:00, 60.94it/s]\n",
      "epoch_acc: 0.74 evalAcc: 0.53 batch_acc: 0.68: : 50it [00:00, 62.62it/s]\n"
     ]
    },
    {
     "name": "stdout",
     "output_type": "stream",
     "text": [
      "\u001b[33mtest_subject: 81\u001b[0m\n",
      "\u001b[1m\u001b[31mShuffle: False\u001b[0m\n",
      "\u001b[33mtorch.Size([4873, 7, 120]), torch.Size([45, 7, 120])\u001b[0m\n",
      "\u001b[32mtorch.Size([4873, 7, 120])\u001b[0m\n"
     ]
    },
    {
     "name": "stderr",
     "output_type": "stream",
     "text": [
      "epoch_acc: 0.61 evalAcc: 0.00 batch_acc: 0.74: : 50it [00:00, 61.63it/s]\n",
      "epoch_acc: 0.70 evalAcc: 0.67 batch_acc: 0.67: : 50it [00:00, 59.79it/s]\n",
      "epoch_acc: 0.72 evalAcc: 0.78 batch_acc: 0.65: : 50it [00:00, 60.26it/s]\n",
      "epoch_acc: 0.73 evalAcc: 0.69 batch_acc: 0.72: : 50it [00:00, 56.03it/s]\n",
      "epoch_acc: 0.73 evalAcc: 0.76 batch_acc: 0.67: : 50it [00:00, 64.04it/s]\n",
      "epoch_acc: 0.74 evalAcc: 0.78 batch_acc: 0.72: : 50it [00:00, 62.27it/s]\n",
      "epoch_acc: 0.74 evalAcc: 0.69 batch_acc: 0.68: : 50it [00:00, 59.39it/s]\n",
      "epoch_acc: 0.75 evalAcc: 0.73 batch_acc: 0.74: : 50it [00:00, 63.76it/s]\n",
      "epoch_acc: 0.74 evalAcc: 0.76 batch_acc: 0.81: : 50it [00:00, 60.73it/s]\n",
      "epoch_acc: 0.75 evalAcc: 0.73 batch_acc: 0.70: : 50it [00:00, 57.21it/s]\n"
     ]
    },
    {
     "name": "stdout",
     "output_type": "stream",
     "text": [
      "\u001b[33mtest_subject: 82\u001b[0m\n",
      "\u001b[1m\u001b[31mShuffle: False\u001b[0m\n",
      "\u001b[33mtorch.Size([4873, 7, 120]), torch.Size([45, 7, 120])\u001b[0m\n",
      "\u001b[32mtorch.Size([4873, 7, 120])\u001b[0m\n"
     ]
    },
    {
     "name": "stderr",
     "output_type": "stream",
     "text": [
      "epoch_acc: 0.59 evalAcc: 0.00 batch_acc: 0.67: : 50it [00:00, 61.11it/s]\n",
      "epoch_acc: 0.70 evalAcc: 0.64 batch_acc: 0.69: : 50it [00:00, 63.43it/s]\n",
      "epoch_acc: 0.72 evalAcc: 0.67 batch_acc: 0.72: : 50it [00:00, 57.53it/s]\n",
      "epoch_acc: 0.73 evalAcc: 0.69 batch_acc: 0.71: : 50it [00:00, 60.65it/s]\n",
      "epoch_acc: 0.74 evalAcc: 0.67 batch_acc: 0.72: : 50it [00:00, 57.99it/s]\n",
      "epoch_acc: 0.73 evalAcc: 0.69 batch_acc: 0.72: : 50it [00:00, 60.95it/s]\n",
      "epoch_acc: 0.74 evalAcc: 0.69 batch_acc: 0.79: : 50it [00:00, 61.83it/s]\n",
      "epoch_acc: 0.74 evalAcc: 0.69 batch_acc: 0.77: : 50it [00:00, 61.42it/s]\n",
      "epoch_acc: 0.75 evalAcc: 0.69 batch_acc: 0.71: : 50it [00:00, 65.11it/s]\n",
      "epoch_acc: 0.75 evalAcc: 0.69 batch_acc: 0.72: : 50it [00:00, 63.61it/s]\n"
     ]
    },
    {
     "name": "stdout",
     "output_type": "stream",
     "text": [
      "\u001b[33mtest_subject: 83\u001b[0m\n",
      "\u001b[1m\u001b[31mShuffle: False\u001b[0m\n",
      "\u001b[33mtorch.Size([4873, 7, 120]), torch.Size([45, 7, 120])\u001b[0m\n",
      "\u001b[32mtorch.Size([4873, 7, 120])\u001b[0m\n"
     ]
    },
    {
     "name": "stderr",
     "output_type": "stream",
     "text": [
      "epoch_acc: 0.60 evalAcc: 0.00 batch_acc: 0.58: : 50it [00:00, 58.66it/s]\n",
      "epoch_acc: 0.71 evalAcc: 0.58 batch_acc: 0.74: : 50it [00:00, 61.78it/s]\n",
      "epoch_acc: 0.73 evalAcc: 0.67 batch_acc: 0.68: : 50it [00:00, 57.10it/s]\n",
      "epoch_acc: 0.74 evalAcc: 0.58 batch_acc: 0.72: : 50it [00:00, 64.02it/s]\n",
      "epoch_acc: 0.74 evalAcc: 0.44 batch_acc: 0.68: : 50it [00:00, 57.89it/s]\n",
      "epoch_acc: 0.75 evalAcc: 0.49 batch_acc: 0.67: : 50it [00:00, 58.60it/s]\n",
      "epoch_acc: 0.74 evalAcc: 0.47 batch_acc: 0.68: : 50it [00:00, 60.56it/s]\n",
      "epoch_acc: 0.75 evalAcc: 0.47 batch_acc: 0.88: : 50it [00:00, 58.33it/s]\n",
      "epoch_acc: 0.75 evalAcc: 0.49 batch_acc: 0.73: : 50it [00:00, 58.87it/s]\n",
      "epoch_acc: 0.75 evalAcc: 0.44 batch_acc: 0.73: : 50it [00:00, 59.03it/s]\n"
     ]
    },
    {
     "name": "stdout",
     "output_type": "stream",
     "text": [
      "\u001b[33mtest_subject: 84\u001b[0m\n",
      "\u001b[1m\u001b[31mShuffle: False\u001b[0m\n",
      "\u001b[33mtorch.Size([4873, 7, 120]), torch.Size([45, 7, 120])\u001b[0m\n",
      "\u001b[32mtorch.Size([4873, 7, 120])\u001b[0m\n"
     ]
    },
    {
     "name": "stderr",
     "output_type": "stream",
     "text": [
      "epoch_acc: 0.56 evalAcc: 0.00 batch_acc: 0.64: : 50it [00:00, 57.34it/s]\n",
      "epoch_acc: 0.67 evalAcc: 0.62 batch_acc: 0.71: : 50it [00:00, 60.08it/s]\n",
      "epoch_acc: 0.71 evalAcc: 0.60 batch_acc: 0.72: : 50it [00:00, 56.10it/s]\n",
      "epoch_acc: 0.74 evalAcc: 0.60 batch_acc: 0.76: : 50it [00:00, 61.48it/s]\n",
      "epoch_acc: 0.73 evalAcc: 0.53 batch_acc: 0.69: : 50it [00:00, 57.91it/s]\n",
      "epoch_acc: 0.74 evalAcc: 0.60 batch_acc: 0.79: : 50it [00:00, 57.36it/s]\n",
      "epoch_acc: 0.74 evalAcc: 0.58 batch_acc: 0.72: : 50it [00:00, 63.59it/s]\n",
      "epoch_acc: 0.75 evalAcc: 0.58 batch_acc: 0.74: : 50it [00:00, 63.15it/s]\n",
      "epoch_acc: 0.75 evalAcc: 0.58 batch_acc: 0.76: : 50it [00:00, 56.61it/s]\n",
      "epoch_acc: 0.76 evalAcc: 0.64 batch_acc: 0.70: : 50it [00:00, 61.66it/s]\n"
     ]
    },
    {
     "name": "stdout",
     "output_type": "stream",
     "text": [
      "\u001b[33mtest_subject: 85\u001b[0m\n",
      "\u001b[1m\u001b[31mShuffle: False\u001b[0m\n",
      "\u001b[33mtorch.Size([4873, 7, 120]), torch.Size([45, 7, 120])\u001b[0m\n",
      "\u001b[32mtorch.Size([4873, 7, 120])\u001b[0m\n"
     ]
    },
    {
     "name": "stderr",
     "output_type": "stream",
     "text": [
      "epoch_acc: 0.60 evalAcc: 0.00 batch_acc: 0.67: : 50it [00:00, 61.47it/s]\n",
      "epoch_acc: 0.70 evalAcc: 0.64 batch_acc: 0.68: : 50it [00:00, 64.79it/s]\n",
      "epoch_acc: 0.73 evalAcc: 0.69 batch_acc: 0.79: : 50it [00:00, 58.72it/s]\n",
      "epoch_acc: 0.73 evalAcc: 0.69 batch_acc: 0.86: : 50it [00:00, 58.07it/s]\n",
      "epoch_acc: 0.74 evalAcc: 0.73 batch_acc: 0.79: : 50it [00:00, 61.29it/s]\n",
      "epoch_acc: 0.74 evalAcc: 0.67 batch_acc: 0.79: : 50it [00:00, 61.26it/s]\n",
      "epoch_acc: 0.74 evalAcc: 0.73 batch_acc: 0.77: : 50it [00:00, 59.53it/s]\n",
      "epoch_acc: 0.75 evalAcc: 0.76 batch_acc: 0.78: : 50it [00:00, 58.04it/s]\n",
      "epoch_acc: 0.75 evalAcc: 0.71 batch_acc: 0.78: : 50it [00:00, 61.49it/s]\n",
      "epoch_acc: 0.75 evalAcc: 0.73 batch_acc: 0.76: : 50it [00:00, 61.26it/s]\n"
     ]
    },
    {
     "name": "stdout",
     "output_type": "stream",
     "text": [
      "\u001b[33mtest_subject: 86\u001b[0m\n",
      "\u001b[1m\u001b[31mShuffle: False\u001b[0m\n",
      "\u001b[33mtorch.Size([4873, 7, 120]), torch.Size([45, 7, 120])\u001b[0m\n",
      "\u001b[32mtorch.Size([4873, 7, 120])\u001b[0m\n"
     ]
    },
    {
     "name": "stderr",
     "output_type": "stream",
     "text": [
      "epoch_acc: 0.62 evalAcc: 0.00 batch_acc: 0.67: : 50it [00:00, 63.84it/s]\n",
      "epoch_acc: 0.71 evalAcc: 0.96 batch_acc: 0.74: : 50it [00:00, 58.57it/s]\n",
      "epoch_acc: 0.73 evalAcc: 0.93 batch_acc: 0.78: : 50it [00:00, 61.45it/s]\n",
      "epoch_acc: 0.73 evalAcc: 0.96 batch_acc: 0.70: : 50it [00:00, 56.99it/s]\n",
      "epoch_acc: 0.74 evalAcc: 0.98 batch_acc: 0.72: : 50it [00:00, 62.61it/s]\n",
      "epoch_acc: 0.74 evalAcc: 0.91 batch_acc: 0.75: : 50it [00:00, 55.91it/s]\n",
      "epoch_acc: 0.74 evalAcc: 0.96 batch_acc: 0.81: : 50it [00:00, 57.56it/s]\n",
      "epoch_acc: 0.74 evalAcc: 0.93 batch_acc: 0.78: : 50it [00:00, 61.86it/s]\n",
      "epoch_acc: 0.75 evalAcc: 0.93 batch_acc: 0.74: : 50it [00:00, 58.33it/s]\n",
      "epoch_acc: 0.74 evalAcc: 0.93 batch_acc: 0.75: : 50it [00:00, 61.98it/s]\n"
     ]
    },
    {
     "name": "stdout",
     "output_type": "stream",
     "text": [
      "\u001b[33mtest_subject: 87\u001b[0m\n",
      "\u001b[1m\u001b[31mShuffle: False\u001b[0m\n",
      "\u001b[33mtorch.Size([4873, 7, 120]), torch.Size([45, 7, 120])\u001b[0m\n",
      "\u001b[32mtorch.Size([4873, 7, 120])\u001b[0m\n"
     ]
    },
    {
     "name": "stderr",
     "output_type": "stream",
     "text": [
      "epoch_acc: 0.58 evalAcc: 0.00 batch_acc: 0.60: : 50it [00:00, 51.27it/s]\n",
      "epoch_acc: 0.69 evalAcc: 0.49 batch_acc: 0.73: : 50it [00:00, 52.67it/s]\n",
      "epoch_acc: 0.73 evalAcc: 0.53 batch_acc: 0.72: : 50it [00:00, 56.42it/s]\n",
      "epoch_acc: 0.74 evalAcc: 0.56 batch_acc: 0.70: : 50it [00:00, 58.53it/s]\n",
      "epoch_acc: 0.75 evalAcc: 0.51 batch_acc: 0.78: : 50it [00:00, 62.02it/s]\n",
      "epoch_acc: 0.75 evalAcc: 0.53 batch_acc: 0.79: : 50it [00:00, 59.36it/s]\n",
      "epoch_acc: 0.75 evalAcc: 0.51 batch_acc: 0.74: : 50it [00:00, 57.71it/s]\n",
      "epoch_acc: 0.76 evalAcc: 0.51 batch_acc: 0.71: : 50it [00:00, 60.60it/s]\n",
      "epoch_acc: 0.75 evalAcc: 0.53 batch_acc: 0.79: : 50it [00:00, 62.85it/s]\n",
      "epoch_acc: 0.75 evalAcc: 0.51 batch_acc: 0.73: : 50it [00:00, 65.01it/s]\n"
     ]
    },
    {
     "name": "stdout",
     "output_type": "stream",
     "text": [
      "\u001b[33mtest_subject: 88\u001b[0m\n",
      "\u001b[1m\u001b[31mShuffle: False\u001b[0m\n",
      "\u001b[33mtorch.Size([4861, 7, 120]), torch.Size([57, 7, 120])\u001b[0m\n",
      "\u001b[32mtorch.Size([4861, 7, 120])\u001b[0m\n"
     ]
    },
    {
     "name": "stderr",
     "output_type": "stream",
     "text": [
      "epoch_acc: 0.62 evalAcc: 0.00 batch_acc: 0.69: : 50it [00:00, 60.34it/s]\n",
      "epoch_acc: 0.72 evalAcc: 0.51 batch_acc: 0.74: : 50it [00:00, 62.47it/s]\n",
      "epoch_acc: 0.73 evalAcc: 0.61 batch_acc: 0.73: : 50it [00:00, 60.43it/s]\n",
      "epoch_acc: 0.74 evalAcc: 0.63 batch_acc: 0.76: : 50it [00:00, 63.43it/s]\n",
      "epoch_acc: 0.73 evalAcc: 0.61 batch_acc: 0.80: : 50it [00:00, 62.28it/s]\n",
      "epoch_acc: 0.74 evalAcc: 0.63 batch_acc: 0.73: : 50it [00:00, 58.88it/s]\n",
      "epoch_acc: 0.75 evalAcc: 0.63 batch_acc: 0.74: : 50it [00:00, 60.42it/s]\n",
      "epoch_acc: 0.75 evalAcc: 0.63 batch_acc: 0.78: : 50it [00:00, 60.07it/s]\n",
      "epoch_acc: 0.75 evalAcc: 0.61 batch_acc: 0.77: : 50it [00:00, 60.00it/s]\n",
      "epoch_acc: 0.75 evalAcc: 0.60 batch_acc: 0.70: : 50it [00:00, 62.33it/s]\n"
     ]
    },
    {
     "name": "stdout",
     "output_type": "stream",
     "text": [
      "\u001b[33mtest_subject: 89\u001b[0m\n",
      "\u001b[1m\u001b[31mShuffle: False\u001b[0m\n",
      "\u001b[33mtorch.Size([4873, 7, 120]), torch.Size([45, 7, 120])\u001b[0m\n",
      "\u001b[32mtorch.Size([4873, 7, 120])\u001b[0m\n"
     ]
    },
    {
     "name": "stderr",
     "output_type": "stream",
     "text": [
      "epoch_acc: 0.62 evalAcc: 0.00 batch_acc: 0.65: : 50it [00:00, 62.44it/s]\n",
      "epoch_acc: 0.71 evalAcc: 0.67 batch_acc: 0.66: : 50it [00:00, 60.82it/s]\n",
      "epoch_acc: 0.73 evalAcc: 0.78 batch_acc: 0.76: : 50it [00:00, 59.28it/s]\n",
      "epoch_acc: 0.73 evalAcc: 0.71 batch_acc: 0.74: : 50it [00:00, 61.85it/s]\n",
      "epoch_acc: 0.73 evalAcc: 0.73 batch_acc: 0.74: : 50it [00:00, 58.77it/s]\n",
      "epoch_acc: 0.74 evalAcc: 0.76 batch_acc: 0.79: : 50it [00:00, 57.59it/s]\n",
      "epoch_acc: 0.74 evalAcc: 0.76 batch_acc: 0.71: : 50it [00:00, 63.30it/s]\n",
      "epoch_acc: 0.74 evalAcc: 0.76 batch_acc: 0.69: : 50it [00:00, 61.61it/s]\n",
      "epoch_acc: 0.74 evalAcc: 0.73 batch_acc: 0.74: : 50it [00:00, 56.47it/s]\n",
      "epoch_acc: 0.74 evalAcc: 0.76 batch_acc: 0.67: : 50it [00:00, 61.44it/s]\n"
     ]
    },
    {
     "name": "stdout",
     "output_type": "stream",
     "text": [
      "\u001b[33mtest_subject: 90\u001b[0m\n",
      "\u001b[1m\u001b[31mShuffle: False\u001b[0m\n",
      "\u001b[33mtorch.Size([4873, 7, 120]), torch.Size([45, 7, 120])\u001b[0m\n",
      "\u001b[32mtorch.Size([4873, 7, 120])\u001b[0m\n"
     ]
    },
    {
     "name": "stderr",
     "output_type": "stream",
     "text": [
      "epoch_acc: 0.66 evalAcc: 0.00 batch_acc: 0.66: : 50it [00:00, 64.37it/s]\n",
      "epoch_acc: 0.72 evalAcc: 0.91 batch_acc: 0.67: : 50it [00:00, 58.00it/s]\n",
      "epoch_acc: 0.73 evalAcc: 0.89 batch_acc: 0.69: : 50it [00:00, 58.71it/s]\n",
      "epoch_acc: 0.74 evalAcc: 0.91 batch_acc: 0.79: : 50it [00:00, 60.73it/s]\n",
      "epoch_acc: 0.74 evalAcc: 0.93 batch_acc: 0.71: : 50it [00:00, 57.37it/s]\n",
      "epoch_acc: 0.74 evalAcc: 0.91 batch_acc: 0.71: : 50it [00:00, 60.24it/s]\n",
      "epoch_acc: 0.74 evalAcc: 0.91 batch_acc: 0.75: : 50it [00:00, 57.24it/s]\n",
      "epoch_acc: 0.75 evalAcc: 0.96 batch_acc: 0.79: : 50it [00:00, 60.53it/s]\n",
      "epoch_acc: 0.74 evalAcc: 0.98 batch_acc: 0.77: : 50it [00:00, 57.62it/s]\n",
      "epoch_acc: 0.75 evalAcc: 0.89 batch_acc: 0.72: : 50it [00:00, 60.83it/s]\n"
     ]
    },
    {
     "name": "stdout",
     "output_type": "stream",
     "text": [
      "\u001b[33mtest_subject: 91\u001b[0m\n",
      "\u001b[1m\u001b[31mShuffle: False\u001b[0m\n",
      "\u001b[33mtorch.Size([4873, 7, 120]), torch.Size([45, 7, 120])\u001b[0m\n",
      "\u001b[32mtorch.Size([4873, 7, 120])\u001b[0m\n"
     ]
    },
    {
     "name": "stderr",
     "output_type": "stream",
     "text": [
      "epoch_acc: 0.60 evalAcc: 0.00 batch_acc: 0.68: : 50it [00:00, 58.63it/s]\n",
      "epoch_acc: 0.72 evalAcc: 0.71 batch_acc: 0.77: : 50it [00:00, 62.46it/s]\n",
      "epoch_acc: 0.73 evalAcc: 0.78 batch_acc: 0.78: : 50it [00:00, 57.66it/s]\n",
      "epoch_acc: 0.73 evalAcc: 0.73 batch_acc: 0.75: : 50it [00:00, 57.07it/s]\n",
      "epoch_acc: 0.74 evalAcc: 0.78 batch_acc: 0.74: : 50it [00:00, 59.82it/s]\n",
      "epoch_acc: 0.74 evalAcc: 0.78 batch_acc: 0.65: : 50it [00:00, 61.06it/s]\n",
      "epoch_acc: 0.74 evalAcc: 0.76 batch_acc: 0.78: : 50it [00:00, 57.84it/s]\n",
      "epoch_acc: 0.74 evalAcc: 0.78 batch_acc: 0.80: : 50it [00:00, 59.83it/s]\n",
      "epoch_acc: 0.74 evalAcc: 0.76 batch_acc: 0.79: : 50it [00:00, 64.17it/s]\n",
      "epoch_acc: 0.73 evalAcc: 0.78 batch_acc: 0.79: : 50it [00:00, 64.72it/s]\n"
     ]
    },
    {
     "name": "stdout",
     "output_type": "stream",
     "text": [
      "\u001b[33mtest_subject: 92\u001b[0m\n",
      "\u001b[1m\u001b[31mShuffle: False\u001b[0m\n",
      "\u001b[33mtorch.Size([4861, 7, 120]), torch.Size([57, 7, 120])\u001b[0m\n",
      "\u001b[32mtorch.Size([4861, 7, 120])\u001b[0m\n"
     ]
    },
    {
     "name": "stderr",
     "output_type": "stream",
     "text": [
      "epoch_acc: 0.61 evalAcc: 0.00 batch_acc: 0.71: : 50it [00:00, 61.27it/s]\n",
      "epoch_acc: 0.70 evalAcc: 0.75 batch_acc: 0.75: : 50it [00:00, 57.60it/s]\n",
      "epoch_acc: 0.71 evalAcc: 0.75 batch_acc: 0.75: : 50it [00:00, 59.47it/s]\n",
      "epoch_acc: 0.73 evalAcc: 0.72 batch_acc: 0.70: : 50it [00:00, 58.33it/s]\n",
      "epoch_acc: 0.73 evalAcc: 0.81 batch_acc: 0.73: : 50it [00:00, 62.72it/s]\n",
      "epoch_acc: 0.74 evalAcc: 0.84 batch_acc: 0.77: : 50it [00:00, 60.65it/s]\n",
      "epoch_acc: 0.74 evalAcc: 0.84 batch_acc: 0.78: : 50it [00:00, 63.23it/s]\n",
      "epoch_acc: 0.74 evalAcc: 0.84 batch_acc: 0.70: : 50it [00:00, 60.51it/s]\n",
      "epoch_acc: 0.74 evalAcc: 0.84 batch_acc: 0.79: : 50it [00:00, 63.46it/s]\n",
      "epoch_acc: 0.74 evalAcc: 0.84 batch_acc: 0.83: : 50it [00:00, 60.95it/s]\n"
     ]
    },
    {
     "name": "stdout",
     "output_type": "stream",
     "text": [
      "\u001b[33mtest_subject: 93\u001b[0m\n",
      "\u001b[1m\u001b[31mShuffle: False\u001b[0m\n",
      "\u001b[33mtorch.Size([4873, 7, 120]), torch.Size([45, 7, 120])\u001b[0m\n",
      "\u001b[32mtorch.Size([4873, 7, 120])\u001b[0m\n"
     ]
    },
    {
     "name": "stderr",
     "output_type": "stream",
     "text": [
      "epoch_acc: 0.62 evalAcc: 0.00 batch_acc: 0.71: : 50it [00:00, 60.11it/s]\n",
      "epoch_acc: 0.70 evalAcc: 0.58 batch_acc: 0.74: : 50it [00:00, 60.13it/s]\n",
      "epoch_acc: 0.72 evalAcc: 0.62 batch_acc: 0.75: : 50it [00:00, 57.67it/s]\n",
      "epoch_acc: 0.73 evalAcc: 0.64 batch_acc: 0.72: : 50it [00:00, 60.95it/s]\n",
      "epoch_acc: 0.74 evalAcc: 0.62 batch_acc: 0.74: : 50it [00:00, 57.62it/s]\n",
      "epoch_acc: 0.74 evalAcc: 0.64 batch_acc: 0.70: : 50it [00:00, 61.23it/s]\n",
      "epoch_acc: 0.74 evalAcc: 0.67 batch_acc: 0.77: : 50it [00:00, 58.32it/s]\n",
      "epoch_acc: 0.74 evalAcc: 0.69 batch_acc: 0.72: : 50it [00:00, 57.78it/s]\n",
      "epoch_acc: 0.75 evalAcc: 0.67 batch_acc: 0.76: : 50it [00:00, 58.17it/s]\n",
      "epoch_acc: 0.75 evalAcc: 0.64 batch_acc: 0.74: : 50it [00:00, 64.33it/s]\n"
     ]
    },
    {
     "name": "stdout",
     "output_type": "stream",
     "text": [
      "\u001b[33mtest_subject: 94\u001b[0m\n",
      "\u001b[1m\u001b[31mShuffle: False\u001b[0m\n",
      "\u001b[33mtorch.Size([4873, 7, 120]), torch.Size([45, 7, 120])\u001b[0m\n",
      "\u001b[32mtorch.Size([4873, 7, 120])\u001b[0m\n"
     ]
    },
    {
     "name": "stderr",
     "output_type": "stream",
     "text": [
      "epoch_acc: 0.63 evalAcc: 0.00 batch_acc: 0.79: : 50it [00:00, 66.83it/s]\n",
      "epoch_acc: 0.72 evalAcc: 0.67 batch_acc: 0.71: : 50it [00:00, 61.38it/s]\n",
      "epoch_acc: 0.73 evalAcc: 0.78 batch_acc: 0.80: : 50it [00:00, 58.21it/s]\n",
      "epoch_acc: 0.74 evalAcc: 0.80 batch_acc: 0.74: : 50it [00:00, 59.04it/s]\n",
      "epoch_acc: 0.75 evalAcc: 0.78 batch_acc: 0.72: : 50it [00:00, 57.27it/s]\n",
      "epoch_acc: 0.74 evalAcc: 0.78 batch_acc: 0.79: : 50it [00:00, 57.24it/s]\n",
      "epoch_acc: 0.75 evalAcc: 0.78 batch_acc: 0.75: : 50it [00:00, 61.00it/s]\n",
      "epoch_acc: 0.74 evalAcc: 0.78 batch_acc: 0.76: : 50it [00:00, 56.99it/s]\n",
      "epoch_acc: 0.74 evalAcc: 0.80 batch_acc: 0.77: : 50it [00:00, 62.71it/s]\n",
      "epoch_acc: 0.75 evalAcc: 0.80 batch_acc: 0.75: : 50it [00:00, 61.33it/s]\n"
     ]
    },
    {
     "name": "stdout",
     "output_type": "stream",
     "text": [
      "\u001b[33mtest_subject: 95\u001b[0m\n",
      "\u001b[1m\u001b[31mShuffle: False\u001b[0m\n",
      "\u001b[33mtorch.Size([4873, 7, 120]), torch.Size([45, 7, 120])\u001b[0m\n",
      "\u001b[32mtorch.Size([4873, 7, 120])\u001b[0m\n"
     ]
    },
    {
     "name": "stderr",
     "output_type": "stream",
     "text": [
      "epoch_acc: 0.62 evalAcc: 0.00 batch_acc: 0.72: : 50it [00:00, 60.47it/s]\n",
      "epoch_acc: 0.72 evalAcc: 0.69 batch_acc: 0.71: : 50it [00:00, 60.91it/s]\n",
      "epoch_acc: 0.73 evalAcc: 0.71 batch_acc: 0.75: : 50it [00:00, 60.36it/s]\n",
      "epoch_acc: 0.73 evalAcc: 0.67 batch_acc: 0.73: : 50it [00:00, 57.95it/s]\n",
      "epoch_acc: 0.73 evalAcc: 0.67 batch_acc: 0.76: : 50it [00:00, 60.22it/s]\n",
      "epoch_acc: 0.74 evalAcc: 0.71 batch_acc: 0.77: : 50it [00:00, 65.33it/s]\n",
      "epoch_acc: 0.74 evalAcc: 0.69 batch_acc: 0.75: : 50it [00:00, 64.91it/s]\n",
      "epoch_acc: 0.74 evalAcc: 0.78 batch_acc: 0.78: : 50it [00:00, 57.09it/s]\n",
      "epoch_acc: 0.74 evalAcc: 0.73 batch_acc: 0.77: : 50it [00:00, 61.32it/s]\n",
      "epoch_acc: 0.74 evalAcc: 0.73 batch_acc: 0.67: : 50it [00:00, 58.23it/s]\n"
     ]
    },
    {
     "name": "stdout",
     "output_type": "stream",
     "text": [
      "\u001b[33mtest_subject: 96\u001b[0m\n",
      "\u001b[1m\u001b[31mShuffle: False\u001b[0m\n",
      "\u001b[33mtorch.Size([4873, 7, 120]), torch.Size([45, 7, 120])\u001b[0m\n",
      "\u001b[32mtorch.Size([4873, 7, 120])\u001b[0m\n"
     ]
    },
    {
     "name": "stderr",
     "output_type": "stream",
     "text": [
      "epoch_acc: 0.57 evalAcc: 0.00 batch_acc: 0.61: : 50it [00:00, 63.81it/s]\n",
      "epoch_acc: 0.69 evalAcc: 0.87 batch_acc: 0.69: : 50it [00:00, 56.79it/s]\n",
      "epoch_acc: 0.73 evalAcc: 0.96 batch_acc: 0.76: : 50it [00:00, 63.24it/s]\n",
      "epoch_acc: 0.73 evalAcc: 0.98 batch_acc: 0.73: : 50it [00:00, 58.34it/s]\n",
      "epoch_acc: 0.74 evalAcc: 0.89 batch_acc: 0.73: : 50it [00:00, 60.44it/s]\n",
      "epoch_acc: 0.73 evalAcc: 0.96 batch_acc: 0.76: : 50it [00:00, 57.56it/s]\n",
      "epoch_acc: 0.75 evalAcc: 0.96 batch_acc: 0.78: : 50it [00:00, 58.35it/s]\n",
      "epoch_acc: 0.74 evalAcc: 0.98 batch_acc: 0.80: : 50it [00:00, 62.61it/s]\n",
      "epoch_acc: 0.74 evalAcc: 0.96 batch_acc: 0.73: : 50it [00:00, 60.39it/s]\n",
      "epoch_acc: 0.74 evalAcc: 0.96 batch_acc: 0.72: : 50it [00:00, 58.81it/s]\n"
     ]
    },
    {
     "name": "stdout",
     "output_type": "stream",
     "text": [
      "\u001b[33mtest_subject: 97\u001b[0m\n",
      "\u001b[1m\u001b[31mShuffle: False\u001b[0m\n",
      "\u001b[33mtorch.Size([4873, 7, 120]), torch.Size([45, 7, 120])\u001b[0m\n",
      "\u001b[32mtorch.Size([4873, 7, 120])\u001b[0m\n"
     ]
    },
    {
     "name": "stderr",
     "output_type": "stream",
     "text": [
      "epoch_acc: 0.60 evalAcc: 0.00 batch_acc: 0.67: : 50it [00:00, 64.20it/s]\n",
      "epoch_acc: 0.71 evalAcc: 0.76 batch_acc: 0.72: : 50it [00:00, 63.40it/s]\n",
      "epoch_acc: 0.73 evalAcc: 0.80 batch_acc: 0.72: : 50it [00:00, 62.35it/s]\n",
      "epoch_acc: 0.74 evalAcc: 0.78 batch_acc: 0.71: : 50it [00:00, 58.25it/s]\n",
      "epoch_acc: 0.74 evalAcc: 0.78 batch_acc: 0.73: : 50it [00:00, 61.52it/s]\n",
      "epoch_acc: 0.74 evalAcc: 0.80 batch_acc: 0.76: : 50it [00:00, 57.23it/s]\n",
      "epoch_acc: 0.74 evalAcc: 0.76 batch_acc: 0.74: : 50it [00:00, 58.98it/s]\n",
      "epoch_acc: 0.75 evalAcc: 0.78 batch_acc: 0.70: : 50it [00:00, 58.50it/s]\n",
      "epoch_acc: 0.75 evalAcc: 0.82 batch_acc: 0.79: : 50it [00:00, 62.05it/s]\n",
      "epoch_acc: 0.75 evalAcc: 0.80 batch_acc: 0.76: : 50it [00:00, 63.40it/s]\n"
     ]
    },
    {
     "name": "stdout",
     "output_type": "stream",
     "text": [
      "\u001b[33mtest_subject: 98\u001b[0m\n",
      "\u001b[1m\u001b[31mShuffle: False\u001b[0m\n",
      "\u001b[33mtorch.Size([4873, 7, 120]), torch.Size([45, 7, 120])\u001b[0m\n",
      "\u001b[32mtorch.Size([4873, 7, 120])\u001b[0m\n"
     ]
    },
    {
     "name": "stderr",
     "output_type": "stream",
     "text": [
      "epoch_acc: 0.65 evalAcc: 0.00 batch_acc: 0.68: : 50it [00:00, 59.12it/s]\n",
      "epoch_acc: 0.71 evalAcc: 0.78 batch_acc: 0.74: : 50it [00:00, 60.96it/s]\n",
      "epoch_acc: 0.73 evalAcc: 0.71 batch_acc: 0.79: : 50it [00:00, 58.92it/s]\n",
      "epoch_acc: 0.73 evalAcc: 0.64 batch_acc: 0.78: : 50it [00:00, 60.39it/s]\n",
      "epoch_acc: 0.73 evalAcc: 0.71 batch_acc: 0.75: : 50it [00:00, 61.99it/s]\n",
      "epoch_acc: 0.74 evalAcc: 0.73 batch_acc: 0.72: : 50it [00:00, 63.27it/s]\n",
      "epoch_acc: 0.75 evalAcc: 0.73 batch_acc: 0.77: : 50it [00:00, 59.57it/s]\n",
      "epoch_acc: 0.75 evalAcc: 0.80 batch_acc: 0.72: : 50it [00:00, 63.71it/s]\n",
      "epoch_acc: 0.75 evalAcc: 0.78 batch_acc: 0.73: : 50it [00:00, 60.08it/s]\n",
      "epoch_acc: 0.75 evalAcc: 0.76 batch_acc: 0.76: : 50it [00:00, 61.77it/s]\n"
     ]
    },
    {
     "name": "stdout",
     "output_type": "stream",
     "text": [
      "\u001b[33mtest_subject: 99\u001b[0m\n",
      "\u001b[1m\u001b[31mShuffle: False\u001b[0m\n",
      "\u001b[33mtorch.Size([4873, 7, 120]), torch.Size([45, 7, 120])\u001b[0m\n",
      "\u001b[32mtorch.Size([4873, 7, 120])\u001b[0m\n"
     ]
    },
    {
     "name": "stderr",
     "output_type": "stream",
     "text": [
      "epoch_acc: 0.64 evalAcc: 0.00 batch_acc: 0.76: : 50it [00:00, 61.91it/s]\n",
      "epoch_acc: 0.72 evalAcc: 0.80 batch_acc: 0.75: : 50it [00:00, 60.30it/s]\n",
      "epoch_acc: 0.73 evalAcc: 0.80 batch_acc: 0.70: : 50it [00:00, 62.51it/s]\n",
      "epoch_acc: 0.74 evalAcc: 0.80 batch_acc: 0.75: : 50it [00:00, 57.51it/s]\n",
      "epoch_acc: 0.74 evalAcc: 0.78 batch_acc: 0.78: : 50it [00:00, 64.30it/s]\n",
      "epoch_acc: 0.74 evalAcc: 0.80 batch_acc: 0.77: : 50it [00:00, 62.36it/s]\n",
      "epoch_acc: 0.74 evalAcc: 0.78 batch_acc: 0.76: : 50it [00:00, 63.47it/s]\n",
      "epoch_acc: 0.75 evalAcc: 0.78 batch_acc: 0.73: : 50it [00:00, 57.70it/s]\n",
      "epoch_acc: 0.75 evalAcc: 0.82 batch_acc: 0.71: : 50it [00:00, 64.22it/s]\n",
      "epoch_acc: 0.75 evalAcc: 0.80 batch_acc: 0.73: : 50it [00:00, 59.11it/s]\n"
     ]
    },
    {
     "name": "stdout",
     "output_type": "stream",
     "text": [
      "\u001b[33mtest_subject: 100\u001b[0m\n",
      "\u001b[1m\u001b[31mShuffle: False\u001b[0m\n",
      "\u001b[33mtorch.Size([4882, 7, 120]), torch.Size([36, 7, 120])\u001b[0m\n",
      "\u001b[32mtorch.Size([4882, 7, 120])\u001b[0m\n"
     ]
    },
    {
     "name": "stderr",
     "output_type": "stream",
     "text": [
      "epoch_acc: 0.60 evalAcc: 0.00 batch_acc: 0.68: : 50it [00:00, 59.11it/s]\n",
      "epoch_acc: 0.68 evalAcc: 0.83 batch_acc: 0.68: : 50it [00:00, 62.82it/s]\n",
      "epoch_acc: 0.72 evalAcc: 0.86 batch_acc: 0.69: : 50it [00:00, 63.12it/s]\n",
      "epoch_acc: 0.73 evalAcc: 0.81 batch_acc: 0.68: : 50it [00:00, 55.31it/s]\n",
      "epoch_acc: 0.72 evalAcc: 0.81 batch_acc: 0.72: : 50it [00:00, 57.18it/s]\n",
      "epoch_acc: 0.73 evalAcc: 0.81 batch_acc: 0.76: : 50it [00:00, 57.22it/s]\n",
      "epoch_acc: 0.74 evalAcc: 0.81 batch_acc: 0.76: : 50it [00:00, 61.23it/s]\n",
      "epoch_acc: 0.74 evalAcc: 0.78 batch_acc: 0.75: : 50it [00:00, 62.89it/s]\n",
      "epoch_acc: 0.74 evalAcc: 0.78 batch_acc: 0.74: : 50it [00:00, 56.40it/s]\n",
      "epoch_acc: 0.74 evalAcc: 0.81 batch_acc: 0.75: : 50it [00:00, 59.50it/s]\n"
     ]
    },
    {
     "name": "stdout",
     "output_type": "stream",
     "text": [
      "\u001b[33mtest_subject: 101\u001b[0m\n",
      "\u001b[1m\u001b[31mShuffle: False\u001b[0m\n",
      "\u001b[33mtorch.Size([4873, 7, 120]), torch.Size([45, 7, 120])\u001b[0m\n",
      "\u001b[32mtorch.Size([4873, 7, 120])\u001b[0m\n"
     ]
    },
    {
     "name": "stderr",
     "output_type": "stream",
     "text": [
      "epoch_acc: 0.58 evalAcc: 0.00 batch_acc: 0.68: : 50it [00:00, 59.45it/s]\n",
      "epoch_acc: 0.69 evalAcc: 0.76 batch_acc: 0.67: : 50it [00:00, 61.27it/s]\n",
      "epoch_acc: 0.72 evalAcc: 0.87 batch_acc: 0.75: : 50it [00:00, 57.97it/s]\n",
      "epoch_acc: 0.73 evalAcc: 0.87 batch_acc: 0.79: : 50it [00:00, 55.78it/s]\n",
      "epoch_acc: 0.73 evalAcc: 0.89 batch_acc: 0.78: : 50it [00:00, 59.65it/s]\n",
      "epoch_acc: 0.74 evalAcc: 0.89 batch_acc: 0.76: : 50it [00:00, 58.40it/s]\n",
      "epoch_acc: 0.74 evalAcc: 0.89 batch_acc: 0.72: : 50it [00:00, 60.72it/s]\n",
      "epoch_acc: 0.74 evalAcc: 0.89 batch_acc: 0.74: : 50it [00:00, 60.53it/s]\n",
      "epoch_acc: 0.74 evalAcc: 0.89 batch_acc: 0.74: : 50it [00:00, 57.72it/s]\n",
      "epoch_acc: 0.74 evalAcc: 0.89 batch_acc: 0.68: : 50it [00:00, 56.42it/s]\n"
     ]
    },
    {
     "name": "stdout",
     "output_type": "stream",
     "text": [
      "\u001b[33mtest_subject: 102\u001b[0m\n",
      "\u001b[1m\u001b[31mShuffle: False\u001b[0m\n",
      "\u001b[33mtorch.Size([4873, 7, 120]), torch.Size([45, 7, 120])\u001b[0m\n",
      "\u001b[32mtorch.Size([4873, 7, 120])\u001b[0m\n"
     ]
    },
    {
     "name": "stderr",
     "output_type": "stream",
     "text": [
      "epoch_acc: 0.60 evalAcc: 0.00 batch_acc: 0.70: : 50it [00:00, 57.01it/s]\n",
      "epoch_acc: 0.71 evalAcc: 0.58 batch_acc: 0.73: : 50it [00:00, 57.81it/s]\n",
      "epoch_acc: 0.73 evalAcc: 0.64 batch_acc: 0.76: : 50it [00:00, 63.33it/s]\n",
      "epoch_acc: 0.74 evalAcc: 0.58 batch_acc: 0.73: : 50it [00:00, 57.60it/s]\n",
      "epoch_acc: 0.73 evalAcc: 0.71 batch_acc: 0.82: : 50it [00:00, 62.14it/s]\n",
      "epoch_acc: 0.75 evalAcc: 0.69 batch_acc: 0.78: : 50it [00:00, 59.05it/s]\n",
      "epoch_acc: 0.74 evalAcc: 0.71 batch_acc: 0.78: : 50it [00:00, 60.46it/s]\n",
      "epoch_acc: 0.75 evalAcc: 0.73 batch_acc: 0.71: : 50it [00:00, 59.62it/s]\n",
      "epoch_acc: 0.75 evalAcc: 0.71 batch_acc: 0.86: : 50it [00:00, 60.86it/s]\n",
      "epoch_acc: 0.75 evalAcc: 0.73 batch_acc: 0.70: : 50it [00:00, 60.15it/s]\n"
     ]
    },
    {
     "name": "stdout",
     "output_type": "stream",
     "text": [
      "\u001b[33mtest_subject: 103\u001b[0m\n",
      "\u001b[1m\u001b[31mShuffle: False\u001b[0m\n",
      "\u001b[33mtorch.Size([4873, 7, 120]), torch.Size([45, 7, 120])\u001b[0m\n",
      "\u001b[32mtorch.Size([4873, 7, 120])\u001b[0m\n"
     ]
    },
    {
     "name": "stderr",
     "output_type": "stream",
     "text": [
      "epoch_acc: 0.59 evalAcc: 0.00 batch_acc: 0.69: : 50it [00:00, 62.01it/s]\n",
      "epoch_acc: 0.71 evalAcc: 0.67 batch_acc: 0.72: : 50it [00:00, 56.31it/s]\n",
      "epoch_acc: 0.72 evalAcc: 0.71 batch_acc: 0.69: : 50it [00:00, 61.11it/s]\n",
      "epoch_acc: 0.73 evalAcc: 0.73 batch_acc: 0.82: : 50it [00:00, 60.98it/s]\n",
      "epoch_acc: 0.74 evalAcc: 0.71 batch_acc: 0.75: : 50it [00:00, 60.54it/s]\n",
      "epoch_acc: 0.74 evalAcc: 0.67 batch_acc: 0.71: : 50it [00:00, 59.15it/s]\n",
      "epoch_acc: 0.74 evalAcc: 0.64 batch_acc: 0.77: : 50it [00:00, 64.52it/s]\n",
      "epoch_acc: 0.74 evalAcc: 0.69 batch_acc: 0.65: : 50it [00:00, 61.47it/s]\n",
      "epoch_acc: 0.75 evalAcc: 0.67 batch_acc: 0.70: : 50it [00:00, 58.63it/s]\n",
      "epoch_acc: 0.75 evalAcc: 0.69 batch_acc: 0.82: : 50it [00:00, 62.02it/s]\n"
     ]
    },
    {
     "name": "stdout",
     "output_type": "stream",
     "text": [
      "\u001b[33mtest_subject: 104\u001b[0m\n",
      "\u001b[1m\u001b[31mShuffle: False\u001b[0m\n",
      "\u001b[33mtorch.Size([4875, 7, 120]), torch.Size([43, 7, 120])\u001b[0m\n",
      "\u001b[32mtorch.Size([4875, 7, 120])\u001b[0m\n"
     ]
    },
    {
     "name": "stderr",
     "output_type": "stream",
     "text": [
      "epoch_acc: 0.62 evalAcc: 0.00 batch_acc: 0.70: : 50it [00:00, 62.43it/s]\n",
      "epoch_acc: 0.71 evalAcc: 0.65 batch_acc: 0.75: : 50it [00:00, 61.84it/s]\n",
      "epoch_acc: 0.72 evalAcc: 0.67 batch_acc: 0.80: : 50it [00:00, 62.82it/s]\n",
      "epoch_acc: 0.74 evalAcc: 0.67 batch_acc: 0.73: : 50it [00:00, 57.78it/s]\n",
      "epoch_acc: 0.73 evalAcc: 0.63 batch_acc: 0.74: : 50it [00:00, 55.73it/s]\n",
      "epoch_acc: 0.75 evalAcc: 0.67 batch_acc: 0.76: : 50it [00:00, 60.84it/s]\n",
      "epoch_acc: 0.75 evalAcc: 0.53 batch_acc: 0.80: : 50it [00:00, 59.57it/s]\n",
      "epoch_acc: 0.75 evalAcc: 0.65 batch_acc: 0.73: : 50it [00:00, 58.87it/s]\n",
      "epoch_acc: 0.75 evalAcc: 0.63 batch_acc: 0.74: : 50it [00:00, 60.32it/s]\n",
      "epoch_acc: 0.74 evalAcc: 0.65 batch_acc: 0.75: : 50it [00:00, 60.31it/s]\n"
     ]
    },
    {
     "name": "stdout",
     "output_type": "stream",
     "text": [
      "\u001b[33mtest_subject: 105\u001b[0m\n",
      "\u001b[1m\u001b[31mShuffle: False\u001b[0m\n",
      "\u001b[33mtorch.Size([4873, 7, 120]), torch.Size([45, 7, 120])\u001b[0m\n",
      "\u001b[32mtorch.Size([4873, 7, 120])\u001b[0m\n"
     ]
    },
    {
     "name": "stderr",
     "output_type": "stream",
     "text": [
      "epoch_acc: 0.57 evalAcc: 0.00 batch_acc: 0.62: : 50it [00:00, 63.53it/s]\n",
      "epoch_acc: 0.70 evalAcc: 0.98 batch_acc: 0.73: : 50it [00:00, 58.47it/s]\n",
      "epoch_acc: 0.71 evalAcc: 0.98 batch_acc: 0.71: : 50it [00:01, 35.63it/s]\n",
      "epoch_acc: 0.73 evalAcc: 1.00 batch_acc: 0.79: : 50it [00:01, 46.50it/s]\n",
      "epoch_acc: 0.73 evalAcc: 1.00 batch_acc: 0.72: : 50it [00:01, 44.36it/s]\n",
      "epoch_acc: 0.73 evalAcc: 1.00 batch_acc: 0.73: : 50it [00:01, 44.84it/s]\n",
      "epoch_acc: 0.75 evalAcc: 1.00 batch_acc: 0.76: : 50it [00:00, 63.38it/s]\n",
      "epoch_acc: 0.74 evalAcc: 1.00 batch_acc: 0.75: : 50it [00:00, 60.03it/s]\n",
      "epoch_acc: 0.75 evalAcc: 1.00 batch_acc: 0.70: : 50it [00:00, 58.01it/s]\n",
      "epoch_acc: 0.74 evalAcc: 1.00 batch_acc: 0.73: : 50it [00:00, 62.74it/s]\n"
     ]
    },
    {
     "name": "stdout",
     "output_type": "stream",
     "text": [
      "\u001b[33mtest_subject: 106\u001b[0m\n",
      "\u001b[1m\u001b[31mShuffle: False\u001b[0m\n",
      "\u001b[33mtorch.Size([4873, 7, 120]), torch.Size([45, 7, 120])\u001b[0m\n",
      "\u001b[32mtorch.Size([4873, 7, 120])\u001b[0m\n"
     ]
    },
    {
     "name": "stderr",
     "output_type": "stream",
     "text": [
      "epoch_acc: 0.62 evalAcc: 0.00 batch_acc: 0.71: : 50it [00:00, 63.60it/s]\n",
      "epoch_acc: 0.70 evalAcc: 0.62 batch_acc: 0.76: : 50it [00:00, 62.98it/s]\n",
      "epoch_acc: 0.73 evalAcc: 0.67 batch_acc: 0.75: : 50it [00:00, 58.80it/s]\n",
      "epoch_acc: 0.74 evalAcc: 0.67 batch_acc: 0.75: : 50it [00:00, 57.51it/s]\n",
      "epoch_acc: 0.75 evalAcc: 0.64 batch_acc: 0.68: : 50it [00:00, 62.49it/s]\n",
      "epoch_acc: 0.74 evalAcc: 0.64 batch_acc: 0.69: : 50it [00:00, 57.84it/s]\n",
      "epoch_acc: 0.74 evalAcc: 0.58 batch_acc: 0.71: : 50it [00:00, 59.87it/s]\n",
      "epoch_acc: 0.74 evalAcc: 0.60 batch_acc: 0.72: : 50it [00:00, 58.68it/s]\n",
      "epoch_acc: 0.74 evalAcc: 0.64 batch_acc: 0.78: : 50it [00:00, 59.15it/s]\n",
      "epoch_acc: 0.75 evalAcc: 0.62 batch_acc: 0.77: : 50it [00:00, 60.10it/s]"
     ]
    },
    {
     "name": "stdout",
     "output_type": "stream",
     "text": [
      "\u001b[33mtest_subject: 107\u001b[0m\n",
      "\u001b[1m\u001b[31mShuffle: False\u001b[0m\n",
      "\u001b[33mtorch.Size([4873, 7, 120]), torch.Size([45, 7, 120])\u001b[0m\n",
      "\u001b[32mtorch.Size([4873, 7, 120])\u001b[0m\n"
     ]
    },
    {
     "name": "stderr",
     "output_type": "stream",
     "text": [
      "\n",
      "epoch_acc: 0.62 evalAcc: 0.00 batch_acc: 0.69: : 50it [00:00, 58.17it/s]\n",
      "epoch_acc: 0.70 evalAcc: 0.62 batch_acc: 0.68: : 50it [00:00, 58.04it/s]\n",
      "epoch_acc: 0.73 evalAcc: 0.69 batch_acc: 0.60: : 50it [00:00, 61.81it/s]\n",
      "epoch_acc: 0.74 evalAcc: 0.71 batch_acc: 0.68: : 50it [00:00, 57.30it/s]\n",
      "epoch_acc: 0.73 evalAcc: 0.71 batch_acc: 0.61: : 50it [00:00, 57.62it/s]\n",
      "epoch_acc: 0.74 evalAcc: 0.69 batch_acc: 0.73: : 50it [00:00, 56.90it/s]\n",
      "epoch_acc: 0.74 evalAcc: 0.71 batch_acc: 0.79: : 50it [00:00, 60.07it/s]\n",
      "epoch_acc: 0.75 evalAcc: 0.76 batch_acc: 0.78: : 50it [00:00, 61.71it/s]\n",
      "epoch_acc: 0.75 evalAcc: 0.76 batch_acc: 0.80: : 50it [00:00, 57.63it/s]\n",
      "epoch_acc: 0.74 evalAcc: 0.73 batch_acc: 0.76: : 50it [00:00, 58.98it/s]\n"
     ]
    },
    {
     "name": "stdout",
     "output_type": "stream",
     "text": [
      "\u001b[33mtest_subject: 108\u001b[0m\n",
      "\u001b[1m\u001b[31mShuffle: False\u001b[0m\n",
      "\u001b[33mtorch.Size([4873, 7, 120]), torch.Size([45, 7, 120])\u001b[0m\n",
      "\u001b[32mtorch.Size([4873, 7, 120])\u001b[0m\n"
     ]
    },
    {
     "name": "stderr",
     "output_type": "stream",
     "text": [
      "epoch_acc: 0.59 evalAcc: 0.00 batch_acc: 0.61: : 50it [00:00, 60.94it/s]\n",
      "epoch_acc: 0.71 evalAcc: 0.78 batch_acc: 0.65: : 50it [00:00, 56.55it/s]\n",
      "epoch_acc: 0.73 evalAcc: 0.82 batch_acc: 0.71: : 50it [00:00, 55.25it/s]\n",
      "epoch_acc: 0.74 evalAcc: 0.87 batch_acc: 0.80: : 50it [00:00, 60.94it/s]\n",
      "epoch_acc: 0.74 evalAcc: 0.87 batch_acc: 0.82: : 50it [00:00, 59.85it/s]\n",
      "epoch_acc: 0.74 evalAcc: 0.87 batch_acc: 0.68: : 50it [00:00, 57.78it/s]\n",
      "epoch_acc: 0.74 evalAcc: 0.87 batch_acc: 0.66: : 50it [00:00, 60.28it/s]\n",
      "epoch_acc: 0.74 evalAcc: 0.89 batch_acc: 0.71: : 50it [00:00, 58.00it/s]\n",
      "epoch_acc: 0.75 evalAcc: 0.87 batch_acc: 0.80: : 50it [00:00, 57.49it/s]\n",
      "epoch_acc: 0.74 evalAcc: 0.84 batch_acc: 0.77: : 50it [00:00, 59.79it/s]\n"
     ]
    },
    {
     "name": "stdout",
     "output_type": "stream",
     "text": [
      "\u001b[33mtest_subject: 109\u001b[0m\n",
      "\u001b[1m\u001b[31mShuffle: False\u001b[0m\n",
      "\u001b[33mtorch.Size([4873, 7, 120]), torch.Size([45, 7, 120])\u001b[0m\n",
      "\u001b[32mtorch.Size([4873, 7, 120])\u001b[0m\n"
     ]
    },
    {
     "name": "stderr",
     "output_type": "stream",
     "text": [
      "epoch_acc: 0.60 evalAcc: 0.00 batch_acc: 0.64: : 50it [00:00, 61.84it/s]\n",
      "epoch_acc: 0.70 evalAcc: 0.62 batch_acc: 0.71: : 50it [00:00, 59.47it/s]\n",
      "epoch_acc: 0.71 evalAcc: 0.71 batch_acc: 0.76: : 50it [00:00, 64.29it/s]\n",
      "epoch_acc: 0.73 evalAcc: 0.71 batch_acc: 0.75: : 50it [00:00, 56.38it/s]\n",
      "epoch_acc: 0.74 evalAcc: 0.67 batch_acc: 0.80: : 50it [00:00, 57.31it/s]\n",
      "epoch_acc: 0.74 evalAcc: 0.67 batch_acc: 0.61: : 50it [00:00, 61.56it/s]\n",
      "epoch_acc: 0.74 evalAcc: 0.69 batch_acc: 0.72: : 50it [00:00, 58.61it/s]\n",
      "epoch_acc: 0.74 evalAcc: 0.64 batch_acc: 0.77: : 50it [00:00, 59.47it/s]\n",
      "epoch_acc: 0.75 evalAcc: 0.67 batch_acc: 0.79: : 50it [00:00, 56.68it/s]\n",
      "epoch_acc: 0.75 evalAcc: 0.76 batch_acc: 0.79: : 50it [00:00, 58.86it/s]\n"
     ]
    }
   ],
   "source": [
    "R = []\n",
    "for i in target_dataset['meta'].subject.unique().tolist():\n",
    "    train_dataset, test_dataset = get_train_test_datasets(target_dataset, shuffle=shuffle, test_subject=i)\n",
    "    max_val_acc, lastEpTrainAcc = EEGNet_run(train_dataset, test_dataset)\n",
    "    R.append({'test_subject': i,\n",
    "              'max_test_acc': max_val_acc, \n",
    "              'lastEpTrainAcc': lastEpTrainAcc})\n",
    "    "
   ]
  },
  {
   "cell_type": "code",
   "execution_count": 25,
   "id": "d7acd2fd",
   "metadata": {},
   "outputs": [
    {
     "data": {
      "image/png": "[encoded data removed]",
      "text/plain": [
       "<Figure size 432x288 with 1 Axes>"
      ]
     },
     "metadata": {
      "needs_background": "light"
     },
     "output_type": "display_data"
    }
   ],
   "source": [
    "pd.DataFrame(R).to_csv(f'Cross_subject_validation_EEGNet_{targetDsName}.csv')\n",
    "pd.DataFrame(R).hist('max_test_acc')\n",
    "_ = plt.title(targetDsName)"
   ]
  },
  {
   "cell_type": "code",
   "execution_count": 34,
   "id": "04d7e0c9",
   "metadata": {},
   "outputs": [
    {
     "data": {
      "text/plain": [
       "<matplotlib.legend.Legend at 0x7fce0d8bdcd0>"
      ]
     },
     "execution_count": 34,
     "metadata": {},
     "output_type": "execute_result"
    },
    {
     "data": {
      "image/png": "[encoded data removed]",
      "text/plain": [
       "<Figure size 720x288 with 1 Axes>"
      ]
     },
     "metadata": {
      "needs_background": "light"
     },
     "output_type": "display_data"
    }
   ],
   "source": [
    "fig, ax = plt.subplots(1,1, figsize=(10,4))\n",
    "\n",
    "r = pd.DataFrame(R)\n",
    "r.to_csv(f'Cross_subject_validation_EEGNet_{targetDsName}.csv')\n",
    "r.hist('max_test_acc', ax=ax, label='max_test_acc')\n",
    "r.hist('lastEpTrainAcc', ax=ax, label='lastEpTrainAcc')\n",
    "ax.axvline(r.max_test_acc.mean(), color='navy', label='max_test_acc')\n",
    "ax.axvline(r.lastEpTrainAcc.mean(), color='orange', label='lastEpTrainAcc')\n",
    "\n",
    "plt.title(targetDsName)\n",
    "plt.legend()"
   ]
  },
  {
   "cell_type": "code",
   "execution_count": 41,
   "id": "4a0dcd2d",
   "metadata": {},
   "outputs": [
    {
     "data": {
      "text/plain": [
       "<matplotlib.legend.Legend at 0x7fce840ddf40>"
      ]
     },
     "execution_count": 41,
     "metadata": {},
     "output_type": "execute_result"
    },
    {
     "data": {
      "image/png": "[encoded data removed]",
      "text/plain": [
       "<Figure size 720x288 with 1 Axes>"
      ]
     },
     "metadata": {
      "needs_background": "light"
     },
     "output_type": "display_data"
    }
   ],
   "source": [
    "fig, ax = plt.subplots(1,1, figsize=(10,4))\n",
    "\n",
    "r = pd.DataFrame(R)\n",
    "r.to_csv(f'Cross_subject_validation_EEGNet_{targetDsName}.csv')\n",
    "r.hist('max_test_acc', ax=ax, label='max_test_acc')\n",
    "r.hist('lastEpTrainAcc', ax=ax, label='lastEpTrainAcc')\n",
    "ax.axvline(r.max_test_acc.mean(), color='navy', label='max_test_acc')\n",
    "ax.axvline(r.lastEpTrainAcc.mean(), color='orange', label='lastEpTrainAcc')\n",
    "\n",
    "plt.title(targetDsName)\n",
    "plt.legend()"
   ]
  },
  {
   "cell_type": "code",
   "execution_count": 10,
   "id": "1c1ffd02",
   "metadata": {},
   "outputs": [
    {
     "data": {
      "text/plain": [
       "<matplotlib.legend.Legend at 0x7f7e8ff654f0>"
      ]
     },
     "execution_count": 10,
     "metadata": {},
     "output_type": "execute_result"
    },
    {
     "data": {
      "image/png": "[encoded data removed]",
      "text/plain": [
       "<Figure size 720x288 with 1 Axes>"
      ]
     },
     "metadata": {
      "needs_background": "light"
     },
     "output_type": "display_data"
    }
   ],
   "source": [
    "fig, ax = plt.subplots(1,1, figsize=(10,4))\n",
    "\n",
    "r = pd.DataFrame(R)\n",
    "r.to_csv(f'Cross_subject_validation_EEGNet_{targetDsName}.csv')\n",
    "r.hist('max_test_acc', ax=ax, label='max_test_acc')\n",
    "r.hist('lastEpTrainAcc', ax=ax, label='lastEpTrainAcc')\n",
    "ax.axvline(r.max_test_acc.mean(), color='navy', label='max_test_acc')\n",
    "ax.axvline(r.lastEpTrainAcc.mean(), color='orange', label='lastEpTrainAcc')\n",
    "\n",
    "plt.title(targetDsName)\n",
    "plt.legend()"
   ]
  },
  {
   "cell_type": "code",
   "execution_count": 10,
   "id": "cb736add",
   "metadata": {},
   "outputs": [
    {
     "data": {
      "text/plain": [
       "<matplotlib.legend.Legend at 0x7f5c10fd38b0>"
      ]
     },
     "execution_count": 10,
     "metadata": {},
     "output_type": "execute_result"
    },
    {
     "data": {
      "image/png": "[encoded data removed]",
      "text/plain": [
       "<Figure size 720x288 with 1 Axes>"
      ]
     },
     "metadata": {
      "needs_background": "light"
     },
     "output_type": "display_data"
    }
   ],
   "source": [
    "fig, ax = plt.subplots(1,1, figsize=(10,4))\n",
    "\n",
    "r = pd.DataFrame(R)\n",
    "r.to_csv(f'Cross_subject_validation_EEGNet_{targetDsName}.csv')\n",
    "r.hist('max_test_acc', ax=ax, label='max_test_acc')\n",
    "r.hist('lastEpTrainAcc', ax=ax, label='lastEpTrainAcc')\n",
    "ax.axvline(r.max_test_acc.mean(), color='navy', label='max_test_acc')\n",
    "ax.axvline(r.lastEpTrainAcc.mean(), color='orange', label='lastEpTrainAcc')\n",
    "\n",
    "plt.title(targetDsName)\n",
    "plt.legend()"
   ]
  },
  {
   "cell_type": "code",
   "execution_count": 11,
   "id": "271c7c50",
   "metadata": {},
   "outputs": [
    {
     "data": {
      "text/plain": [
       "<matplotlib.legend.Legend at 0x7ff0d5ff2af0>"
      ]
     },
     "execution_count": 11,
     "metadata": {},
     "output_type": "execute_result"
    },
    {
     "data": {
      "image/png": "[encoded data removed]",
      "text/plain": [
       "<Figure size 720x288 with 1 Axes>"
      ]
     },
     "metadata": {
      "needs_background": "light"
     },
     "output_type": "display_data"
    }
   ],
   "source": [
    "fig, ax = plt.subplots(1,1, figsize=(10,4))\n",
    "\n",
    "r = pd.DataFrame(R)\n",
    "r.to_csv(f'Cross_subject_validation_EEGNet_{targetDsName}.csv')\n",
    "r.hist('max_test_acc', ax=ax, label='max_test_acc')\n",
    "r.hist('lastEpTrainAcc', ax=ax, label='lastEpTrainAcc')\n",
    "ax.axvline(r.max_test_acc.mean(), color='navy', label='max_test_acc')\n",
    "ax.axvline(r.lastEpTrainAcc.mean(), color='orange', label='lastEpTrainAcc')\n",
    "\n",
    "plt.title(targetDsName)\n",
    "plt.legend()"
   ]
  },
  {
   "cell_type": "code",
   "execution_count": null,
   "id": "5a286bb8",
   "metadata": {},
   "outputs": [],
   "source": []
  }
 ],
 "metadata": {
  "kernelspec": {
   "display_name": "Python 3 (ipykernel)",
   "language": "python",
   "name": "python3"
  },
  "language_info": {
   "codemirror_mode": {
    "name": "ipython",
    "version": 3
   },
   "file_extension": ".py",
   "mimetype": "text/x-python",
   "name": "python",
   "nbconvert_exporter": "python",
   "pygments_lexer": "ipython3",
   "version": "3.9.12"
  }
 },
 "nbformat": 4,
 "nbformat_minor": 5
}
